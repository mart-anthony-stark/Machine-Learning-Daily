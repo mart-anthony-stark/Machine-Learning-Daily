{
 "cells": [
  {
   "cell_type": "markdown",
   "id": "276cb077-aadd-4405-8382-5f27b13ab505",
   "metadata": {},
   "source": [
    "## Salazar, Mart Anthony A.\n",
    "BSIT-3C"
   ]
  },
  {
   "cell_type": "code",
   "execution_count": null,
   "id": "b22c7219-1d87-49c8-8cd2-f9dd2ff61a20",
   "metadata": {},
   "outputs": [],
   "source": [
    "import pandas as pd"
   ]
  },
  {
   "cell_type": "code",
   "execution_count": null,
   "id": "cd480bcc-5fb6-405d-937a-baa06401540a",
   "metadata": {},
   "outputs": [],
   "source": [
    "# making data frame from csv file\n",
    "df = pd.read_csv(\"employees1.csv\")"
   ]
  },
  {
   "cell_type": "code",
   "execution_count": 14,
   "id": "df8c7050-abcd-4015-9408-3bdd27513ccf",
   "metadata": {},
   "outputs": [
    {
     "data": {
      "text/plain": [
       "True"
      ]
     },
     "execution_count": 14,
     "metadata": {},
     "output_type": "execute_result"
    }
   ],
   "source": [
    "df.isnull().values.any()"
   ]
  },
  {
   "cell_type": "code",
   "execution_count": 13,
   "id": "ecf79a5a-6559-4153-b26a-37fa304ea190",
   "metadata": {},
   "outputs": [
    {
     "name": "stdout",
     "output_type": "stream",
     "text": [
      "<class 'pandas.core.frame.DataFrame'>\n",
      "RangeIndex: 1000 entries, 0 to 999\n",
      "Data columns (total 8 columns):\n",
      " #   Column             Non-Null Count  Dtype  \n",
      "---  ------             --------------  -----  \n",
      " 0   First Name         933 non-null    object \n",
      " 1   Gender             855 non-null    object \n",
      " 2   Start Date         1000 non-null   object \n",
      " 3   Last Login Time    1000 non-null   object \n",
      " 4   Salary             1000 non-null   int64  \n",
      " 5   Bonus %            1000 non-null   float64\n",
      " 6   Senior Management  933 non-null    object \n",
      " 7   Team               957 non-null    object \n",
      "dtypes: float64(1), int64(1), object(6)\n",
      "memory usage: 62.6+ KB\n",
      "\n",
      "Salazar, Mart Anthony A.\n"
     ]
    }
   ],
   "source": [
    "# Check structure of dataframe\n",
    "df.info()\n",
    "print(\"\\nSalazar, Mart Anthony A.\")"
   ]
  },
  {
   "cell_type": "markdown",
   "id": "3d077f8c-106e-45ba-9fdd-b26c6bc8dec7",
   "metadata": {},
   "source": [
    "## Salazar, Mart Anthony A.\n",
    "## BSIT-3C"
   ]
  },
  {
   "cell_type": "code",
   "execution_count": 8,
   "id": "49a8b653-d91e-4ce3-8578-50b49a46f561",
   "metadata": {},
   "outputs": [],
   "source": [
    "df2 = pd.read_csv(\"SleepData.csv\")"
   ]
  },
  {
   "cell_type": "code",
   "execution_count": 10,
   "id": "cc2a9d0d-7299-4293-a471-3e6c2f7bbdd0",
   "metadata": {},
   "outputs": [
    {
     "data": {
      "text/plain": [
       "True"
      ]
     },
     "execution_count": 10,
     "metadata": {},
     "output_type": "execute_result"
    }
   ],
   "source": [
    "df2.isnull().values.any()"
   ]
  },
  {
   "cell_type": "code",
   "execution_count": 16,
   "id": "880eb90e-37f3-49c5-abef-fb9954d3fa97",
   "metadata": {},
   "outputs": [
    {
     "name": "stdout",
     "output_type": "stream",
     "text": [
      "<class 'pandas.core.frame.DataFrame'>\n",
      "RangeIndex: 671 entries, 0 to 670\n",
      "Data columns (total 5 columns):\n",
      " #   Column                 Non-Null Count  Dtype  \n",
      "---  ------                 --------------  -----  \n",
      " 0   Sex                    668 non-null    object \n",
      " 1   Age                    671 non-null    int64  \n",
      " 2   MaritalStatus          669 non-null    object \n",
      " 3   Employment             668 non-null    object \n",
      " 4   sleep(hrs)/weeknights  670 non-null    float64\n",
      "dtypes: float64(1), int64(1), object(3)\n",
      "memory usage: 26.3+ KB\n"
     ]
    }
   ],
   "source": [
    "df2.info()"
   ]
  }
 ],
 "metadata": {
  "kernelspec": {
   "display_name": "Python 3 (ipykernel)",
   "language": "python",
   "name": "python3"
  },
  "language_info": {
   "codemirror_mode": {
    "name": "ipython",
    "version": 3
   },
   "file_extension": ".py",
   "mimetype": "text/x-python",
   "name": "python",
   "nbconvert_exporter": "python",
   "pygments_lexer": "ipython3",
   "version": "3.9.12"
  }
 },
 "nbformat": 4,
 "nbformat_minor": 5
}
