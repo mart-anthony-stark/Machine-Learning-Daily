{
  "nbformat": 4,
  "nbformat_minor": 0,
  "metadata": {
    "colab": {
      "name": "2021_22_NBA_Player_Stats_Per_Game_EDA.ipynb",
      "provenance": [],
      "authorship_tag": "ABX9TyMWLSS/4R9yh+zGLJ0wgMc+",
      "include_colab_link": true
    },
    "kernelspec": {
      "name": "python3",
      "display_name": "Python 3"
    },
    "language_info": {
      "name": "python"
    }
  },
  "cells": [
    {
      "cell_type": "markdown",
      "metadata": {
        "id": "view-in-github",
        "colab_type": "text"
      },
      "source": [
        "<a href=\"https://colab.research.google.com/github/mart-anthony-stark/Machine-Learning-and-Deep-Learning/blob/main/2021_22_NBA_Player_Stats_Per_Game_EDA.ipynb\" target=\"_parent\"><img src=\"https://colab.research.google.com/assets/colab-badge.svg\" alt=\"Open In Colab\"/></a>"
      ]
    },
    {
      "cell_type": "markdown",
      "source": [
        "# 2021-22 NBA Player Stats: Per Game EDA\n",
        "## Web Scraping\n",
        "Retrieve the \"2018-19 NBA Player Stats: Per Game\" data from http://www.basketball-reference.com/."
      ],
      "metadata": {
        "id": "LcyiRe_qlWYr"
      }
    },
    {
      "cell_type": "code",
      "source": [
        "import pandas as pd\n",
        "import missingno\n",
        "import seaborn as sns\n",
        "import matplotlib.pyplot as plt"
      ],
      "metadata": {
        "id": "hHkb_N1UltIi"
      },
      "execution_count": 34,
      "outputs": []
    },
    {
      "cell_type": "code",
      "execution_count": 35,
      "metadata": {
        "colab": {
          "base_uri": "https://localhost:8080/",
          "height": 424
        },
        "id": "sfPq8lHalOaC",
        "outputId": "71f2d5c9-f6c6-49a4-fedd-00bbb03068fe"
      },
      "outputs": [
        {
          "output_type": "execute_result",
          "data": {
            "text/plain": [
              "      Rk             Player Pos Age   Tm   G  GS    MP   FG   FGA  ...   FT%  \\\n",
              "0      1   Precious Achiuwa   C  22  TOR  73  28  23.6  3.6   8.3  ...  .595   \n",
              "1      2       Steven Adams   C  28  MEM  76  75  26.3  2.8   5.1  ...  .543   \n",
              "2      3        Bam Adebayo   C  24  MIA  56  56  32.6  7.3  13.0  ...  .753   \n",
              "3      4       Santi Aldama  PF  21  MEM  32   0  11.3  1.7   4.1  ...  .625   \n",
              "4      5  LaMarcus Aldridge   C  36  BRK  47  12  22.3  5.4   9.7  ...  .873   \n",
              "..   ...                ...  ..  ..  ...  ..  ..   ...  ...   ...  ...   ...   \n",
              "837  601     Thaddeus Young  PF  33  TOR  26   0  18.3  2.6   5.5  ...  .481   \n",
              "838  602         Trae Young  PG  23  ATL  76  76  34.9  9.4  20.3  ...  .904   \n",
              "839  603     Omer Yurtseven   C  23  MIA  56  12  12.6  2.3   4.4  ...  .623   \n",
              "840  604        Cody Zeller   C  29  POR  27   0  13.1  1.9   3.3  ...  .776   \n",
              "841  605        Ivica Zubac   C  24  LAC  76  76  24.4  4.1   6.5  ...  .727   \n",
              "\n",
              "     ORB  DRB   TRB  AST  STL  BLK  TOV   PF   PTS  \n",
              "0    2.0  4.5   6.5  1.1  0.5  0.6  1.2  2.1   9.1  \n",
              "1    4.6  5.4  10.0  3.4  0.9  0.8  1.5  2.0   6.9  \n",
              "2    2.4  7.6  10.1  3.4  1.4  0.8  2.6  3.1  19.1  \n",
              "3    1.0  1.7   2.7  0.7  0.2  0.3  0.5  1.1   4.1  \n",
              "4    1.6  3.9   5.5  0.9  0.3  1.0  0.9  1.7  12.9  \n",
              "..   ...  ...   ...  ...  ...  ...  ...  ...   ...  \n",
              "837  1.5  2.9   4.4  1.7  1.2  0.4  0.8  1.7   6.3  \n",
              "838  0.7  3.1   3.7  9.7  0.9  0.1  4.0  1.7  28.4  \n",
              "839  1.5  3.7   5.3  0.9  0.3  0.4  0.7  1.5   5.3  \n",
              "840  1.9  2.8   4.6  0.8  0.3  0.2  0.7  2.1   5.2  \n",
              "841  2.9  5.6   8.5  1.6  0.5  1.0  1.5  2.7  10.3  \n",
              "\n",
              "[812 rows x 30 columns]"
            ],
            "text/html": [
              "\n",
              "  <div id=\"df-5a2f3b01-e164-476c-a9d6-2bc0c8f6d758\">\n",
              "    <div class=\"colab-df-container\">\n",
              "      <div>\n",
              "<style scoped>\n",
              "    .dataframe tbody tr th:only-of-type {\n",
              "        vertical-align: middle;\n",
              "    }\n",
              "\n",
              "    .dataframe tbody tr th {\n",
              "        vertical-align: top;\n",
              "    }\n",
              "\n",
              "    .dataframe thead th {\n",
              "        text-align: right;\n",
              "    }\n",
              "</style>\n",
              "<table border=\"1\" class=\"dataframe\">\n",
              "  <thead>\n",
              "    <tr style=\"text-align: right;\">\n",
              "      <th></th>\n",
              "      <th>Rk</th>\n",
              "      <th>Player</th>\n",
              "      <th>Pos</th>\n",
              "      <th>Age</th>\n",
              "      <th>Tm</th>\n",
              "      <th>G</th>\n",
              "      <th>GS</th>\n",
              "      <th>MP</th>\n",
              "      <th>FG</th>\n",
              "      <th>FGA</th>\n",
              "      <th>...</th>\n",
              "      <th>FT%</th>\n",
              "      <th>ORB</th>\n",
              "      <th>DRB</th>\n",
              "      <th>TRB</th>\n",
              "      <th>AST</th>\n",
              "      <th>STL</th>\n",
              "      <th>BLK</th>\n",
              "      <th>TOV</th>\n",
              "      <th>PF</th>\n",
              "      <th>PTS</th>\n",
              "    </tr>\n",
              "  </thead>\n",
              "  <tbody>\n",
              "    <tr>\n",
              "      <th>0</th>\n",
              "      <td>1</td>\n",
              "      <td>Precious Achiuwa</td>\n",
              "      <td>C</td>\n",
              "      <td>22</td>\n",
              "      <td>TOR</td>\n",
              "      <td>73</td>\n",
              "      <td>28</td>\n",
              "      <td>23.6</td>\n",
              "      <td>3.6</td>\n",
              "      <td>8.3</td>\n",
              "      <td>...</td>\n",
              "      <td>.595</td>\n",
              "      <td>2.0</td>\n",
              "      <td>4.5</td>\n",
              "      <td>6.5</td>\n",
              "      <td>1.1</td>\n",
              "      <td>0.5</td>\n",
              "      <td>0.6</td>\n",
              "      <td>1.2</td>\n",
              "      <td>2.1</td>\n",
              "      <td>9.1</td>\n",
              "    </tr>\n",
              "    <tr>\n",
              "      <th>1</th>\n",
              "      <td>2</td>\n",
              "      <td>Steven Adams</td>\n",
              "      <td>C</td>\n",
              "      <td>28</td>\n",
              "      <td>MEM</td>\n",
              "      <td>76</td>\n",
              "      <td>75</td>\n",
              "      <td>26.3</td>\n",
              "      <td>2.8</td>\n",
              "      <td>5.1</td>\n",
              "      <td>...</td>\n",
              "      <td>.543</td>\n",
              "      <td>4.6</td>\n",
              "      <td>5.4</td>\n",
              "      <td>10.0</td>\n",
              "      <td>3.4</td>\n",
              "      <td>0.9</td>\n",
              "      <td>0.8</td>\n",
              "      <td>1.5</td>\n",
              "      <td>2.0</td>\n",
              "      <td>6.9</td>\n",
              "    </tr>\n",
              "    <tr>\n",
              "      <th>2</th>\n",
              "      <td>3</td>\n",
              "      <td>Bam Adebayo</td>\n",
              "      <td>C</td>\n",
              "      <td>24</td>\n",
              "      <td>MIA</td>\n",
              "      <td>56</td>\n",
              "      <td>56</td>\n",
              "      <td>32.6</td>\n",
              "      <td>7.3</td>\n",
              "      <td>13.0</td>\n",
              "      <td>...</td>\n",
              "      <td>.753</td>\n",
              "      <td>2.4</td>\n",
              "      <td>7.6</td>\n",
              "      <td>10.1</td>\n",
              "      <td>3.4</td>\n",
              "      <td>1.4</td>\n",
              "      <td>0.8</td>\n",
              "      <td>2.6</td>\n",
              "      <td>3.1</td>\n",
              "      <td>19.1</td>\n",
              "    </tr>\n",
              "    <tr>\n",
              "      <th>3</th>\n",
              "      <td>4</td>\n",
              "      <td>Santi Aldama</td>\n",
              "      <td>PF</td>\n",
              "      <td>21</td>\n",
              "      <td>MEM</td>\n",
              "      <td>32</td>\n",
              "      <td>0</td>\n",
              "      <td>11.3</td>\n",
              "      <td>1.7</td>\n",
              "      <td>4.1</td>\n",
              "      <td>...</td>\n",
              "      <td>.625</td>\n",
              "      <td>1.0</td>\n",
              "      <td>1.7</td>\n",
              "      <td>2.7</td>\n",
              "      <td>0.7</td>\n",
              "      <td>0.2</td>\n",
              "      <td>0.3</td>\n",
              "      <td>0.5</td>\n",
              "      <td>1.1</td>\n",
              "      <td>4.1</td>\n",
              "    </tr>\n",
              "    <tr>\n",
              "      <th>4</th>\n",
              "      <td>5</td>\n",
              "      <td>LaMarcus Aldridge</td>\n",
              "      <td>C</td>\n",
              "      <td>36</td>\n",
              "      <td>BRK</td>\n",
              "      <td>47</td>\n",
              "      <td>12</td>\n",
              "      <td>22.3</td>\n",
              "      <td>5.4</td>\n",
              "      <td>9.7</td>\n",
              "      <td>...</td>\n",
              "      <td>.873</td>\n",
              "      <td>1.6</td>\n",
              "      <td>3.9</td>\n",
              "      <td>5.5</td>\n",
              "      <td>0.9</td>\n",
              "      <td>0.3</td>\n",
              "      <td>1.0</td>\n",
              "      <td>0.9</td>\n",
              "      <td>1.7</td>\n",
              "      <td>12.9</td>\n",
              "    </tr>\n",
              "    <tr>\n",
              "      <th>...</th>\n",
              "      <td>...</td>\n",
              "      <td>...</td>\n",
              "      <td>...</td>\n",
              "      <td>...</td>\n",
              "      <td>...</td>\n",
              "      <td>...</td>\n",
              "      <td>...</td>\n",
              "      <td>...</td>\n",
              "      <td>...</td>\n",
              "      <td>...</td>\n",
              "      <td>...</td>\n",
              "      <td>...</td>\n",
              "      <td>...</td>\n",
              "      <td>...</td>\n",
              "      <td>...</td>\n",
              "      <td>...</td>\n",
              "      <td>...</td>\n",
              "      <td>...</td>\n",
              "      <td>...</td>\n",
              "      <td>...</td>\n",
              "      <td>...</td>\n",
              "    </tr>\n",
              "    <tr>\n",
              "      <th>837</th>\n",
              "      <td>601</td>\n",
              "      <td>Thaddeus Young</td>\n",
              "      <td>PF</td>\n",
              "      <td>33</td>\n",
              "      <td>TOR</td>\n",
              "      <td>26</td>\n",
              "      <td>0</td>\n",
              "      <td>18.3</td>\n",
              "      <td>2.6</td>\n",
              "      <td>5.5</td>\n",
              "      <td>...</td>\n",
              "      <td>.481</td>\n",
              "      <td>1.5</td>\n",
              "      <td>2.9</td>\n",
              "      <td>4.4</td>\n",
              "      <td>1.7</td>\n",
              "      <td>1.2</td>\n",
              "      <td>0.4</td>\n",
              "      <td>0.8</td>\n",
              "      <td>1.7</td>\n",
              "      <td>6.3</td>\n",
              "    </tr>\n",
              "    <tr>\n",
              "      <th>838</th>\n",
              "      <td>602</td>\n",
              "      <td>Trae Young</td>\n",
              "      <td>PG</td>\n",
              "      <td>23</td>\n",
              "      <td>ATL</td>\n",
              "      <td>76</td>\n",
              "      <td>76</td>\n",
              "      <td>34.9</td>\n",
              "      <td>9.4</td>\n",
              "      <td>20.3</td>\n",
              "      <td>...</td>\n",
              "      <td>.904</td>\n",
              "      <td>0.7</td>\n",
              "      <td>3.1</td>\n",
              "      <td>3.7</td>\n",
              "      <td>9.7</td>\n",
              "      <td>0.9</td>\n",
              "      <td>0.1</td>\n",
              "      <td>4.0</td>\n",
              "      <td>1.7</td>\n",
              "      <td>28.4</td>\n",
              "    </tr>\n",
              "    <tr>\n",
              "      <th>839</th>\n",
              "      <td>603</td>\n",
              "      <td>Omer Yurtseven</td>\n",
              "      <td>C</td>\n",
              "      <td>23</td>\n",
              "      <td>MIA</td>\n",
              "      <td>56</td>\n",
              "      <td>12</td>\n",
              "      <td>12.6</td>\n",
              "      <td>2.3</td>\n",
              "      <td>4.4</td>\n",
              "      <td>...</td>\n",
              "      <td>.623</td>\n",
              "      <td>1.5</td>\n",
              "      <td>3.7</td>\n",
              "      <td>5.3</td>\n",
              "      <td>0.9</td>\n",
              "      <td>0.3</td>\n",
              "      <td>0.4</td>\n",
              "      <td>0.7</td>\n",
              "      <td>1.5</td>\n",
              "      <td>5.3</td>\n",
              "    </tr>\n",
              "    <tr>\n",
              "      <th>840</th>\n",
              "      <td>604</td>\n",
              "      <td>Cody Zeller</td>\n",
              "      <td>C</td>\n",
              "      <td>29</td>\n",
              "      <td>POR</td>\n",
              "      <td>27</td>\n",
              "      <td>0</td>\n",
              "      <td>13.1</td>\n",
              "      <td>1.9</td>\n",
              "      <td>3.3</td>\n",
              "      <td>...</td>\n",
              "      <td>.776</td>\n",
              "      <td>1.9</td>\n",
              "      <td>2.8</td>\n",
              "      <td>4.6</td>\n",
              "      <td>0.8</td>\n",
              "      <td>0.3</td>\n",
              "      <td>0.2</td>\n",
              "      <td>0.7</td>\n",
              "      <td>2.1</td>\n",
              "      <td>5.2</td>\n",
              "    </tr>\n",
              "    <tr>\n",
              "      <th>841</th>\n",
              "      <td>605</td>\n",
              "      <td>Ivica Zubac</td>\n",
              "      <td>C</td>\n",
              "      <td>24</td>\n",
              "      <td>LAC</td>\n",
              "      <td>76</td>\n",
              "      <td>76</td>\n",
              "      <td>24.4</td>\n",
              "      <td>4.1</td>\n",
              "      <td>6.5</td>\n",
              "      <td>...</td>\n",
              "      <td>.727</td>\n",
              "      <td>2.9</td>\n",
              "      <td>5.6</td>\n",
              "      <td>8.5</td>\n",
              "      <td>1.6</td>\n",
              "      <td>0.5</td>\n",
              "      <td>1.0</td>\n",
              "      <td>1.5</td>\n",
              "      <td>2.7</td>\n",
              "      <td>10.3</td>\n",
              "    </tr>\n",
              "  </tbody>\n",
              "</table>\n",
              "<p>812 rows × 30 columns</p>\n",
              "</div>\n",
              "      <button class=\"colab-df-convert\" onclick=\"convertToInteractive('df-5a2f3b01-e164-476c-a9d6-2bc0c8f6d758')\"\n",
              "              title=\"Convert this dataframe to an interactive table.\"\n",
              "              style=\"display:none;\">\n",
              "        \n",
              "  <svg xmlns=\"http://www.w3.org/2000/svg\" height=\"24px\"viewBox=\"0 0 24 24\"\n",
              "       width=\"24px\">\n",
              "    <path d=\"M0 0h24v24H0V0z\" fill=\"none\"/>\n",
              "    <path d=\"M18.56 5.44l.94 2.06.94-2.06 2.06-.94-2.06-.94-.94-2.06-.94 2.06-2.06.94zm-11 1L8.5 8.5l.94-2.06 2.06-.94-2.06-.94L8.5 2.5l-.94 2.06-2.06.94zm10 10l.94 2.06.94-2.06 2.06-.94-2.06-.94-.94-2.06-.94 2.06-2.06.94z\"/><path d=\"M17.41 7.96l-1.37-1.37c-.4-.4-.92-.59-1.43-.59-.52 0-1.04.2-1.43.59L10.3 9.45l-7.72 7.72c-.78.78-.78 2.05 0 2.83L4 21.41c.39.39.9.59 1.41.59.51 0 1.02-.2 1.41-.59l7.78-7.78 2.81-2.81c.8-.78.8-2.07 0-2.86zM5.41 20L4 18.59l7.72-7.72 1.47 1.35L5.41 20z\"/>\n",
              "  </svg>\n",
              "      </button>\n",
              "      \n",
              "  <style>\n",
              "    .colab-df-container {\n",
              "      display:flex;\n",
              "      flex-wrap:wrap;\n",
              "      gap: 12px;\n",
              "    }\n",
              "\n",
              "    .colab-df-convert {\n",
              "      background-color: #E8F0FE;\n",
              "      border: none;\n",
              "      border-radius: 50%;\n",
              "      cursor: pointer;\n",
              "      display: none;\n",
              "      fill: #1967D2;\n",
              "      height: 32px;\n",
              "      padding: 0 0 0 0;\n",
              "      width: 32px;\n",
              "    }\n",
              "\n",
              "    .colab-df-convert:hover {\n",
              "      background-color: #E2EBFA;\n",
              "      box-shadow: 0px 1px 2px rgba(60, 64, 67, 0.3), 0px 1px 3px 1px rgba(60, 64, 67, 0.15);\n",
              "      fill: #174EA6;\n",
              "    }\n",
              "\n",
              "    [theme=dark] .colab-df-convert {\n",
              "      background-color: #3B4455;\n",
              "      fill: #D2E3FC;\n",
              "    }\n",
              "\n",
              "    [theme=dark] .colab-df-convert:hover {\n",
              "      background-color: #434B5C;\n",
              "      box-shadow: 0px 1px 3px 1px rgba(0, 0, 0, 0.15);\n",
              "      filter: drop-shadow(0px 1px 2px rgba(0, 0, 0, 0.3));\n",
              "      fill: #FFFFFF;\n",
              "    }\n",
              "  </style>\n",
              "\n",
              "      <script>\n",
              "        const buttonEl =\n",
              "          document.querySelector('#df-5a2f3b01-e164-476c-a9d6-2bc0c8f6d758 button.colab-df-convert');\n",
              "        buttonEl.style.display =\n",
              "          google.colab.kernel.accessAllowed ? 'block' : 'none';\n",
              "\n",
              "        async function convertToInteractive(key) {\n",
              "          const element = document.querySelector('#df-5a2f3b01-e164-476c-a9d6-2bc0c8f6d758');\n",
              "          const dataTable =\n",
              "            await google.colab.kernel.invokeFunction('convertToInteractive',\n",
              "                                                     [key], {});\n",
              "          if (!dataTable) return;\n",
              "\n",
              "          const docLinkHtml = 'Like what you see? Visit the ' +\n",
              "            '<a target=\"_blank\" href=https://colab.research.google.com/notebooks/data_table.ipynb>data table notebook</a>'\n",
              "            + ' to learn more about interactive tables.';\n",
              "          element.innerHTML = '';\n",
              "          dataTable['output_type'] = 'display_data';\n",
              "          await google.colab.output.renderOutput(dataTable, element);\n",
              "          const docLink = document.createElement('div');\n",
              "          docLink.innerHTML = docLinkHtml;\n",
              "          element.appendChild(docLink);\n",
              "        }\n",
              "      </script>\n",
              "    </div>\n",
              "  </div>\n",
              "  "
            ]
          },
          "metadata": {},
          "execution_count": 35
        }
      ],
      "source": [
        "url = 'https://www.basketball-reference.com/leagues/NBA_2022_per_game.html'\n",
        "html = pd.read_html(url, header=0)\n",
        "df = html[0]\n",
        "\n",
        "# Data Cleaning\n",
        "raw = df.drop(df[df.Age == 'Age'].index)\n",
        "raw"
      ]
    },
    {
      "cell_type": "markdown",
      "source": [
        "# Data Cleaning"
      ],
      "metadata": {
        "id": "or0uGVltmkrV"
      }
    },
    {
      "cell_type": "markdown",
      "source": [
        "## Shape"
      ],
      "metadata": {
        "id": "Xi1sOyuWmmx4"
      }
    },
    {
      "cell_type": "code",
      "source": [
        "raw.shape"
      ],
      "metadata": {
        "colab": {
          "base_uri": "https://localhost:8080/"
        },
        "id": "7o9noyECmn46",
        "outputId": "5abafe3c-2f51-44cd-8d9b-6704adc0f6f9"
      },
      "execution_count": 36,
      "outputs": [
        {
          "output_type": "execute_result",
          "data": {
            "text/plain": [
              "(812, 30)"
            ]
          },
          "metadata": {},
          "execution_count": 36
        }
      ]
    },
    {
      "cell_type": "code",
      "source": [
        "raw.head()"
      ],
      "metadata": {
        "colab": {
          "base_uri": "https://localhost:8080/",
          "height": 236
        },
        "id": "MOcmZTiVmr4p",
        "outputId": "c9f05870-36d8-4df2-a24f-435dfda58996"
      },
      "execution_count": 37,
      "outputs": [
        {
          "output_type": "execute_result",
          "data": {
            "text/plain": [
              "  Rk             Player Pos Age   Tm   G  GS    MP   FG   FGA  ...   FT%  ORB  \\\n",
              "0  1   Precious Achiuwa   C  22  TOR  73  28  23.6  3.6   8.3  ...  .595  2.0   \n",
              "1  2       Steven Adams   C  28  MEM  76  75  26.3  2.8   5.1  ...  .543  4.6   \n",
              "2  3        Bam Adebayo   C  24  MIA  56  56  32.6  7.3  13.0  ...  .753  2.4   \n",
              "3  4       Santi Aldama  PF  21  MEM  32   0  11.3  1.7   4.1  ...  .625  1.0   \n",
              "4  5  LaMarcus Aldridge   C  36  BRK  47  12  22.3  5.4   9.7  ...  .873  1.6   \n",
              "\n",
              "   DRB   TRB  AST  STL  BLK  TOV   PF   PTS  \n",
              "0  4.5   6.5  1.1  0.5  0.6  1.2  2.1   9.1  \n",
              "1  5.4  10.0  3.4  0.9  0.8  1.5  2.0   6.9  \n",
              "2  7.6  10.1  3.4  1.4  0.8  2.6  3.1  19.1  \n",
              "3  1.7   2.7  0.7  0.2  0.3  0.5  1.1   4.1  \n",
              "4  3.9   5.5  0.9  0.3  1.0  0.9  1.7  12.9  \n",
              "\n",
              "[5 rows x 30 columns]"
            ],
            "text/html": [
              "\n",
              "  <div id=\"df-e9c21341-ebd7-455f-ac30-4977d269b94a\">\n",
              "    <div class=\"colab-df-container\">\n",
              "      <div>\n",
              "<style scoped>\n",
              "    .dataframe tbody tr th:only-of-type {\n",
              "        vertical-align: middle;\n",
              "    }\n",
              "\n",
              "    .dataframe tbody tr th {\n",
              "        vertical-align: top;\n",
              "    }\n",
              "\n",
              "    .dataframe thead th {\n",
              "        text-align: right;\n",
              "    }\n",
              "</style>\n",
              "<table border=\"1\" class=\"dataframe\">\n",
              "  <thead>\n",
              "    <tr style=\"text-align: right;\">\n",
              "      <th></th>\n",
              "      <th>Rk</th>\n",
              "      <th>Player</th>\n",
              "      <th>Pos</th>\n",
              "      <th>Age</th>\n",
              "      <th>Tm</th>\n",
              "      <th>G</th>\n",
              "      <th>GS</th>\n",
              "      <th>MP</th>\n",
              "      <th>FG</th>\n",
              "      <th>FGA</th>\n",
              "      <th>...</th>\n",
              "      <th>FT%</th>\n",
              "      <th>ORB</th>\n",
              "      <th>DRB</th>\n",
              "      <th>TRB</th>\n",
              "      <th>AST</th>\n",
              "      <th>STL</th>\n",
              "      <th>BLK</th>\n",
              "      <th>TOV</th>\n",
              "      <th>PF</th>\n",
              "      <th>PTS</th>\n",
              "    </tr>\n",
              "  </thead>\n",
              "  <tbody>\n",
              "    <tr>\n",
              "      <th>0</th>\n",
              "      <td>1</td>\n",
              "      <td>Precious Achiuwa</td>\n",
              "      <td>C</td>\n",
              "      <td>22</td>\n",
              "      <td>TOR</td>\n",
              "      <td>73</td>\n",
              "      <td>28</td>\n",
              "      <td>23.6</td>\n",
              "      <td>3.6</td>\n",
              "      <td>8.3</td>\n",
              "      <td>...</td>\n",
              "      <td>.595</td>\n",
              "      <td>2.0</td>\n",
              "      <td>4.5</td>\n",
              "      <td>6.5</td>\n",
              "      <td>1.1</td>\n",
              "      <td>0.5</td>\n",
              "      <td>0.6</td>\n",
              "      <td>1.2</td>\n",
              "      <td>2.1</td>\n",
              "      <td>9.1</td>\n",
              "    </tr>\n",
              "    <tr>\n",
              "      <th>1</th>\n",
              "      <td>2</td>\n",
              "      <td>Steven Adams</td>\n",
              "      <td>C</td>\n",
              "      <td>28</td>\n",
              "      <td>MEM</td>\n",
              "      <td>76</td>\n",
              "      <td>75</td>\n",
              "      <td>26.3</td>\n",
              "      <td>2.8</td>\n",
              "      <td>5.1</td>\n",
              "      <td>...</td>\n",
              "      <td>.543</td>\n",
              "      <td>4.6</td>\n",
              "      <td>5.4</td>\n",
              "      <td>10.0</td>\n",
              "      <td>3.4</td>\n",
              "      <td>0.9</td>\n",
              "      <td>0.8</td>\n",
              "      <td>1.5</td>\n",
              "      <td>2.0</td>\n",
              "      <td>6.9</td>\n",
              "    </tr>\n",
              "    <tr>\n",
              "      <th>2</th>\n",
              "      <td>3</td>\n",
              "      <td>Bam Adebayo</td>\n",
              "      <td>C</td>\n",
              "      <td>24</td>\n",
              "      <td>MIA</td>\n",
              "      <td>56</td>\n",
              "      <td>56</td>\n",
              "      <td>32.6</td>\n",
              "      <td>7.3</td>\n",
              "      <td>13.0</td>\n",
              "      <td>...</td>\n",
              "      <td>.753</td>\n",
              "      <td>2.4</td>\n",
              "      <td>7.6</td>\n",
              "      <td>10.1</td>\n",
              "      <td>3.4</td>\n",
              "      <td>1.4</td>\n",
              "      <td>0.8</td>\n",
              "      <td>2.6</td>\n",
              "      <td>3.1</td>\n",
              "      <td>19.1</td>\n",
              "    </tr>\n",
              "    <tr>\n",
              "      <th>3</th>\n",
              "      <td>4</td>\n",
              "      <td>Santi Aldama</td>\n",
              "      <td>PF</td>\n",
              "      <td>21</td>\n",
              "      <td>MEM</td>\n",
              "      <td>32</td>\n",
              "      <td>0</td>\n",
              "      <td>11.3</td>\n",
              "      <td>1.7</td>\n",
              "      <td>4.1</td>\n",
              "      <td>...</td>\n",
              "      <td>.625</td>\n",
              "      <td>1.0</td>\n",
              "      <td>1.7</td>\n",
              "      <td>2.7</td>\n",
              "      <td>0.7</td>\n",
              "      <td>0.2</td>\n",
              "      <td>0.3</td>\n",
              "      <td>0.5</td>\n",
              "      <td>1.1</td>\n",
              "      <td>4.1</td>\n",
              "    </tr>\n",
              "    <tr>\n",
              "      <th>4</th>\n",
              "      <td>5</td>\n",
              "      <td>LaMarcus Aldridge</td>\n",
              "      <td>C</td>\n",
              "      <td>36</td>\n",
              "      <td>BRK</td>\n",
              "      <td>47</td>\n",
              "      <td>12</td>\n",
              "      <td>22.3</td>\n",
              "      <td>5.4</td>\n",
              "      <td>9.7</td>\n",
              "      <td>...</td>\n",
              "      <td>.873</td>\n",
              "      <td>1.6</td>\n",
              "      <td>3.9</td>\n",
              "      <td>5.5</td>\n",
              "      <td>0.9</td>\n",
              "      <td>0.3</td>\n",
              "      <td>1.0</td>\n",
              "      <td>0.9</td>\n",
              "      <td>1.7</td>\n",
              "      <td>12.9</td>\n",
              "    </tr>\n",
              "  </tbody>\n",
              "</table>\n",
              "<p>5 rows × 30 columns</p>\n",
              "</div>\n",
              "      <button class=\"colab-df-convert\" onclick=\"convertToInteractive('df-e9c21341-ebd7-455f-ac30-4977d269b94a')\"\n",
              "              title=\"Convert this dataframe to an interactive table.\"\n",
              "              style=\"display:none;\">\n",
              "        \n",
              "  <svg xmlns=\"http://www.w3.org/2000/svg\" height=\"24px\"viewBox=\"0 0 24 24\"\n",
              "       width=\"24px\">\n",
              "    <path d=\"M0 0h24v24H0V0z\" fill=\"none\"/>\n",
              "    <path d=\"M18.56 5.44l.94 2.06.94-2.06 2.06-.94-2.06-.94-.94-2.06-.94 2.06-2.06.94zm-11 1L8.5 8.5l.94-2.06 2.06-.94-2.06-.94L8.5 2.5l-.94 2.06-2.06.94zm10 10l.94 2.06.94-2.06 2.06-.94-2.06-.94-.94-2.06-.94 2.06-2.06.94z\"/><path d=\"M17.41 7.96l-1.37-1.37c-.4-.4-.92-.59-1.43-.59-.52 0-1.04.2-1.43.59L10.3 9.45l-7.72 7.72c-.78.78-.78 2.05 0 2.83L4 21.41c.39.39.9.59 1.41.59.51 0 1.02-.2 1.41-.59l7.78-7.78 2.81-2.81c.8-.78.8-2.07 0-2.86zM5.41 20L4 18.59l7.72-7.72 1.47 1.35L5.41 20z\"/>\n",
              "  </svg>\n",
              "      </button>\n",
              "      \n",
              "  <style>\n",
              "    .colab-df-container {\n",
              "      display:flex;\n",
              "      flex-wrap:wrap;\n",
              "      gap: 12px;\n",
              "    }\n",
              "\n",
              "    .colab-df-convert {\n",
              "      background-color: #E8F0FE;\n",
              "      border: none;\n",
              "      border-radius: 50%;\n",
              "      cursor: pointer;\n",
              "      display: none;\n",
              "      fill: #1967D2;\n",
              "      height: 32px;\n",
              "      padding: 0 0 0 0;\n",
              "      width: 32px;\n",
              "    }\n",
              "\n",
              "    .colab-df-convert:hover {\n",
              "      background-color: #E2EBFA;\n",
              "      box-shadow: 0px 1px 2px rgba(60, 64, 67, 0.3), 0px 1px 3px 1px rgba(60, 64, 67, 0.15);\n",
              "      fill: #174EA6;\n",
              "    }\n",
              "\n",
              "    [theme=dark] .colab-df-convert {\n",
              "      background-color: #3B4455;\n",
              "      fill: #D2E3FC;\n",
              "    }\n",
              "\n",
              "    [theme=dark] .colab-df-convert:hover {\n",
              "      background-color: #434B5C;\n",
              "      box-shadow: 0px 1px 3px 1px rgba(0, 0, 0, 0.15);\n",
              "      filter: drop-shadow(0px 1px 2px rgba(0, 0, 0, 0.3));\n",
              "      fill: #FFFFFF;\n",
              "    }\n",
              "  </style>\n",
              "\n",
              "      <script>\n",
              "        const buttonEl =\n",
              "          document.querySelector('#df-e9c21341-ebd7-455f-ac30-4977d269b94a button.colab-df-convert');\n",
              "        buttonEl.style.display =\n",
              "          google.colab.kernel.accessAllowed ? 'block' : 'none';\n",
              "\n",
              "        async function convertToInteractive(key) {\n",
              "          const element = document.querySelector('#df-e9c21341-ebd7-455f-ac30-4977d269b94a');\n",
              "          const dataTable =\n",
              "            await google.colab.kernel.invokeFunction('convertToInteractive',\n",
              "                                                     [key], {});\n",
              "          if (!dataTable) return;\n",
              "\n",
              "          const docLinkHtml = 'Like what you see? Visit the ' +\n",
              "            '<a target=\"_blank\" href=https://colab.research.google.com/notebooks/data_table.ipynb>data table notebook</a>'\n",
              "            + ' to learn more about interactive tables.';\n",
              "          element.innerHTML = '';\n",
              "          dataTable['output_type'] = 'display_data';\n",
              "          await google.colab.output.renderOutput(dataTable, element);\n",
              "          const docLink = document.createElement('div');\n",
              "          docLink.innerHTML = docLinkHtml;\n",
              "          element.appendChild(docLink);\n",
              "        }\n",
              "      </script>\n",
              "    </div>\n",
              "  </div>\n",
              "  "
            ]
          },
          "metadata": {},
          "execution_count": 37
        }
      ]
    },
    {
      "cell_type": "markdown",
      "source": [
        "## Check Missing Values"
      ],
      "metadata": {
        "id": "6RuGYx-NmvZB"
      }
    },
    {
      "cell_type": "code",
      "source": [
        "raw.isnull().sum()"
      ],
      "metadata": {
        "colab": {
          "base_uri": "https://localhost:8080/"
        },
        "id": "dHiVK3NKmzFJ",
        "outputId": "f09a2843-4a1f-4cd2-f76b-59b441cf98dd"
      },
      "execution_count": 38,
      "outputs": [
        {
          "output_type": "execute_result",
          "data": {
            "text/plain": [
              "Rk         0\n",
              "Player     0\n",
              "Pos        0\n",
              "Age        0\n",
              "Tm         0\n",
              "G          0\n",
              "GS         0\n",
              "MP         0\n",
              "FG         0\n",
              "FGA        0\n",
              "FG%       15\n",
              "3P         0\n",
              "3PA        0\n",
              "3P%       72\n",
              "2P         0\n",
              "2PA        0\n",
              "2P%       28\n",
              "eFG%      15\n",
              "FT         0\n",
              "FTA        0\n",
              "FT%       97\n",
              "ORB        0\n",
              "DRB        0\n",
              "TRB        0\n",
              "AST        0\n",
              "STL        0\n",
              "BLK        0\n",
              "TOV        0\n",
              "PF         0\n",
              "PTS        0\n",
              "dtype: int64"
            ]
          },
          "metadata": {},
          "execution_count": 38
        }
      ]
    },
    {
      "cell_type": "code",
      "source": [
        "missingno.matrix(raw)"
      ],
      "metadata": {
        "colab": {
          "base_uri": "https://localhost:8080/",
          "height": 560
        },
        "id": "nw0pWSxSm2E_",
        "outputId": "189ff196-f67e-41fc-b40d-11cbf631fbe6"
      },
      "execution_count": 39,
      "outputs": [
        {
          "output_type": "execute_result",
          "data": {
            "text/plain": [
              "<matplotlib.axes._subplots.AxesSubplot at 0x7f4ad94a1410>"
            ]
          },
          "metadata": {},
          "execution_count": 39
        },
        {
          "output_type": "display_data",
          "data": {
            "text/plain": [
              "<Figure size 1800x720 with 2 Axes>"
            ],
            "image/png": "[encoded data removed]"
          },
          "metadata": {
            "needs_background": "light"
          }
        }
      ]
    },
    {
      "cell_type": "markdown",
      "source": [
        "## Replace Missing Values with 0"
      ],
      "metadata": {
        "id": "rcmJSDcfm-A0"
      }
    },
    {
      "cell_type": "code",
      "source": [
        "df = raw.fillna(0)"
      ],
      "metadata": {
        "id": "JelKWRGOm8vH"
      },
      "execution_count": 40,
      "outputs": []
    },
    {
      "cell_type": "code",
      "source": [
        "missingno.matrix(df)"
      ],
      "metadata": {
        "colab": {
          "base_uri": "https://localhost:8080/",
          "height": 560
        },
        "id": "eVikJfYPnHC3",
        "outputId": "2c06a2a1-5110-4eed-ab20-33edf1ca674a"
      },
      "execution_count": 43,
      "outputs": [
        {
          "output_type": "execute_result",
          "data": {
            "text/plain": [
              "<matplotlib.axes._subplots.AxesSubplot at 0x7f4ad773aed0>"
            ]
          },
          "metadata": {},
          "execution_count": 43
        },
        {
          "output_type": "display_data",
          "data": {
            "text/plain": [
              "<Figure size 1800x720 with 2 Axes>"
            ],
            "image/png": "[encoded data removed]"
          },
          "metadata": {
            "needs_background": "light"
          }
        }
      ]
    },
    {
      "cell_type": "markdown",
      "source": [
        "## Drop Rk (Rank) - less significant feature"
      ],
      "metadata": {
        "id": "bMnQfQFunok0"
      }
    },
    {
      "cell_type": "code",
      "source": [
        "df = df.drop(['Rk'], axis=1)\n",
        "df.columns"
      ],
      "metadata": {
        "colab": {
          "base_uri": "https://localhost:8080/"
        },
        "id": "_M78_3Xynun_",
        "outputId": "52aa2307-7018-4670-8a01-a76145958cc6"
      },
      "execution_count": 42,
      "outputs": [
        {
          "output_type": "execute_result",
          "data": {
            "text/plain": [
              "Index(['Player', 'Pos', 'Age', 'Tm', 'G', 'GS', 'MP', 'FG', 'FGA', 'FG%', '3P',\n",
              "       '3PA', '3P%', '2P', '2PA', '2P%', 'eFG%', 'FT', 'FTA', 'FT%', 'ORB',\n",
              "       'DRB', 'TRB', 'AST', 'STL', 'BLK', 'TOV', 'PF', 'PTS'],\n",
              "      dtype='object')"
            ]
          },
          "metadata": {},
          "execution_count": 42
        }
      ]
    },
    {
      "cell_type": "markdown",
      "source": [
        "# Transfer data to CSV file"
      ],
      "metadata": {
        "id": "hVVZgdKloPCQ"
      }
    },
    {
      "cell_type": "code",
      "source": [
        "df.to_csv('nba2k22.csv', index=False)"
      ],
      "metadata": {
        "id": "eyAYn4pJoR2o"
      },
      "execution_count": 44,
      "outputs": []
    },
    {
      "cell_type": "code",
      "source": [
        "ls"
      ],
      "metadata": {
        "colab": {
          "base_uri": "https://localhost:8080/"
        },
        "id": "GKcMqJ6xoaBB",
        "outputId": "431d66c1-4694-4945-b5b8-8155265ecfa4"
      },
      "execution_count": 45,
      "outputs": [
        {
          "output_type": "stream",
          "name": "stdout",
          "text": [
            "nba2k22.csv  \u001b[0m\u001b[01;34msample_data\u001b[0m/\n"
          ]
        }
      ]
    }
  ]
}