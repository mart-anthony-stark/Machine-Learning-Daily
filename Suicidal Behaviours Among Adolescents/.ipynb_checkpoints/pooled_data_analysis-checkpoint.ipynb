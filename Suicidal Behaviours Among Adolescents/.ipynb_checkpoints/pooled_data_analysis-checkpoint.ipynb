{
 "cells": [
  {
   "cell_type": "code",
   "execution_count": 16,
   "id": "c5cf1ac1-4e11-470d-a5b7-33525c972c4c",
   "metadata": {},
   "outputs": [
    {
     "name": "stdout",
     "output_type": "stream",
     "text": [
      "Collecting missingno\n",
      "  Downloading missingno-0.5.1-py3-none-any.whl (8.7 kB)\n",
      "Requirement already satisfied: matplotlib in c:\\users\\lenovo\\anaconda3\\lib\\site-packages (from missingno) (3.5.1)\n",
      "Requirement already satisfied: seaborn in c:\\users\\lenovo\\anaconda3\\lib\\site-packages (from missingno) (0.11.2)\n",
      "Requirement already satisfied: scipy in c:\\users\\lenovo\\anaconda3\\lib\\site-packages (from missingno) (1.7.3)\n",
      "Requirement already satisfied: numpy in c:\\users\\lenovo\\anaconda3\\lib\\site-packages (from missingno) (1.21.5)\n",
      "Requirement already satisfied: pyparsing>=2.2.1 in c:\\users\\lenovo\\anaconda3\\lib\\site-packages (from matplotlib->missingno) (3.0.4)\n",
      "Requirement already satisfied: fonttools>=4.22.0 in c:\\users\\lenovo\\anaconda3\\lib\\site-packages (from matplotlib->missingno) (4.25.0)\n",
      "Requirement already satisfied: pillow>=6.2.0 in c:\\users\\lenovo\\anaconda3\\lib\\site-packages (from matplotlib->missingno) (9.0.1)\n",
      "Requirement already satisfied: packaging>=20.0 in c:\\users\\lenovo\\anaconda3\\lib\\site-packages (from matplotlib->missingno) (21.3)\n",
      "Requirement already satisfied: python-dateutil>=2.7 in c:\\users\\lenovo\\anaconda3\\lib\\site-packages (from matplotlib->missingno) (2.8.2)\n",
      "Requirement already satisfied: cycler>=0.10 in c:\\users\\lenovo\\anaconda3\\lib\\site-packages (from matplotlib->missingno) (0.11.0)\n",
      "Requirement already satisfied: kiwisolver>=1.0.1 in c:\\users\\lenovo\\anaconda3\\lib\\site-packages (from matplotlib->missingno) (1.3.2)\n",
      "Requirement already satisfied: six>=1.5 in c:\\users\\lenovo\\anaconda3\\lib\\site-packages (from python-dateutil>=2.7->matplotlib->missingno) (1.16.0)\n",
      "Requirement already satisfied: pandas>=0.23 in c:\\users\\lenovo\\anaconda3\\lib\\site-packages (from seaborn->missingno) (1.4.2)\n",
      "Requirement already satisfied: pytz>=2020.1 in c:\\users\\lenovo\\anaconda3\\lib\\site-packages (from pandas>=0.23->seaborn->missingno) (2021.3)\n",
      "Installing collected packages: missingno\n",
      "Successfully installed missingno-0.5.1\n"
     ]
    }
   ],
   "source": [
    "!pip install missingno"
   ]
  },
  {
   "cell_type": "code",
   "execution_count": 17,
   "id": "47259ea6-25ad-42ed-a4c2-2fe88ffe1575",
   "metadata": {},
   "outputs": [],
   "source": [
    "import numpy as np\n",
    "import pandas as pd\n",
    "\n",
    "import missingno\n",
    "import matplotlib.pyplot as plt"
   ]
  },
  {
   "cell_type": "markdown",
   "id": "c3873f4f-b4ea-4e59-a3e3-200641b394d8",
   "metadata": {},
   "source": [
    "## Data Exploration"
   ]
  },
  {
   "cell_type": "code",
   "execution_count": 3,
   "id": "a43a7f65-cacd-414a-8915-54267dfe6bf5",
   "metadata": {},
   "outputs": [
    {
     "data": {
      "text/html": [
       "<div>\n",
       "<style scoped>\n",
       "    .dataframe tbody tr th:only-of-type {\n",
       "        vertical-align: middle;\n",
       "    }\n",
       "\n",
       "    .dataframe tbody tr th {\n",
       "        vertical-align: top;\n",
       "    }\n",
       "\n",
       "    .dataframe thead th {\n",
       "        text-align: right;\n",
       "    }\n",
       "</style>\n",
       "<table border=\"1\" class=\"dataframe\">\n",
       "  <thead>\n",
       "    <tr style=\"text-align: right;\">\n",
       "      <th></th>\n",
       "      <th>Country</th>\n",
       "      <th>Year</th>\n",
       "      <th>Age Group</th>\n",
       "      <th>Sex</th>\n",
       "      <th>Currently_Drink_Alcohol</th>\n",
       "      <th>Really_Get_Drunk</th>\n",
       "      <th>Overwieght</th>\n",
       "      <th>Use_Marijuana</th>\n",
       "      <th>Have_Understanding_Parents</th>\n",
       "      <th>Missed_classes_without_permssion</th>\n",
       "      <th>Had_sexual_relation</th>\n",
       "      <th>Smoke_cig_currently</th>\n",
       "      <th>Had_fights</th>\n",
       "      <th>Bullied</th>\n",
       "      <th>Got_Seriously_injured</th>\n",
       "      <th>No_close_friends</th>\n",
       "      <th>Attempted_suicide</th>\n",
       "    </tr>\n",
       "  </thead>\n",
       "  <tbody>\n",
       "    <tr>\n",
       "      <th>0</th>\n",
       "      <td>Argentina</td>\n",
       "      <td>2018</td>\n",
       "      <td>13-15</td>\n",
       "      <td>Female</td>\n",
       "      <td>50.3</td>\n",
       "      <td>30.7</td>\n",
       "      <td>27.8</td>\n",
       "      <td>7.9</td>\n",
       "      <td>41.5</td>\n",
       "      <td>24.7</td>\n",
       "      <td>25.7</td>\n",
       "      <td>16.8</td>\n",
       "      <td>17.2</td>\n",
       "      <td>NaN</td>\n",
       "      <td>27.5</td>\n",
       "      <td>4.8</td>\n",
       "      <td>19.9</td>\n",
       "    </tr>\n",
       "    <tr>\n",
       "      <th>1</th>\n",
       "      <td>Argentina</td>\n",
       "      <td>2018</td>\n",
       "      <td>13-15</td>\n",
       "      <td>Male</td>\n",
       "      <td>44.9</td>\n",
       "      <td>26.1</td>\n",
       "      <td>39.1</td>\n",
       "      <td>8.4</td>\n",
       "      <td>44.5</td>\n",
       "      <td>27.9</td>\n",
       "      <td>38.4</td>\n",
       "      <td>12.1</td>\n",
       "      <td>33.2</td>\n",
       "      <td>NaN</td>\n",
       "      <td>37.4</td>\n",
       "      <td>5.5</td>\n",
       "      <td>10.4</td>\n",
       "    </tr>\n",
       "    <tr>\n",
       "      <th>2</th>\n",
       "      <td>Argentina</td>\n",
       "      <td>2018</td>\n",
       "      <td>16-17</td>\n",
       "      <td>Female</td>\n",
       "      <td>67.2</td>\n",
       "      <td>56.3</td>\n",
       "      <td>22.5</td>\n",
       "      <td>21.9</td>\n",
       "      <td>37.1</td>\n",
       "      <td>34.0</td>\n",
       "      <td>59.1</td>\n",
       "      <td>28.5</td>\n",
       "      <td>15.1</td>\n",
       "      <td>NaN</td>\n",
       "      <td>30.1</td>\n",
       "      <td>6.3</td>\n",
       "      <td>17.4</td>\n",
       "    </tr>\n",
       "    <tr>\n",
       "      <th>3</th>\n",
       "      <td>Argentina</td>\n",
       "      <td>2018</td>\n",
       "      <td>16-17</td>\n",
       "      <td>Male</td>\n",
       "      <td>68.1</td>\n",
       "      <td>55.8</td>\n",
       "      <td>27.9</td>\n",
       "      <td>27.0</td>\n",
       "      <td>39.8</td>\n",
       "      <td>39.4</td>\n",
       "      <td>68.6</td>\n",
       "      <td>28.0</td>\n",
       "      <td>33.6</td>\n",
       "      <td>NaN</td>\n",
       "      <td>40.3</td>\n",
       "      <td>6.6</td>\n",
       "      <td>11.2</td>\n",
       "    </tr>\n",
       "    <tr>\n",
       "      <th>4</th>\n",
       "      <td>Argentina</td>\n",
       "      <td>2012</td>\n",
       "      <td>13-15</td>\n",
       "      <td>Male</td>\n",
       "      <td>49.3</td>\n",
       "      <td>28.9</td>\n",
       "      <td>35.9</td>\n",
       "      <td>10.6</td>\n",
       "      <td>46.2</td>\n",
       "      <td>32.0</td>\n",
       "      <td>43.5</td>\n",
       "      <td>17.0</td>\n",
       "      <td>44.2</td>\n",
       "      <td>42.1</td>\n",
       "      <td>24.8</td>\n",
       "      <td>6.1</td>\n",
       "      <td>12.9</td>\n",
       "    </tr>\n",
       "  </tbody>\n",
       "</table>\n",
       "</div>"
      ],
      "text/plain": [
       "     Country  Year Age Group     Sex  Currently_Drink_Alcohol  \\\n",
       "0  Argentina  2018     13-15  Female                     50.3   \n",
       "1  Argentina  2018     13-15    Male                     44.9   \n",
       "2  Argentina  2018     16-17  Female                     67.2   \n",
       "3  Argentina  2018     16-17    Male                     68.1   \n",
       "4  Argentina  2012     13-15    Male                     49.3   \n",
       "\n",
       "   Really_Get_Drunk  Overwieght  Use_Marijuana  Have_Understanding_Parents  \\\n",
       "0              30.7        27.8            7.9                        41.5   \n",
       "1              26.1        39.1            8.4                        44.5   \n",
       "2              56.3        22.5           21.9                        37.1   \n",
       "3              55.8        27.9           27.0                        39.8   \n",
       "4              28.9        35.9           10.6                        46.2   \n",
       "\n",
       "   Missed_classes_without_permssion  Had_sexual_relation  Smoke_cig_currently  \\\n",
       "0                              24.7                 25.7                 16.8   \n",
       "1                              27.9                 38.4                 12.1   \n",
       "2                              34.0                 59.1                 28.5   \n",
       "3                              39.4                 68.6                 28.0   \n",
       "4                              32.0                 43.5                 17.0   \n",
       "\n",
       "   Had_fights  Bullied  Got_Seriously_injured  No_close_friends  \\\n",
       "0        17.2      NaN                   27.5               4.8   \n",
       "1        33.2      NaN                   37.4               5.5   \n",
       "2        15.1      NaN                   30.1               6.3   \n",
       "3        33.6      NaN                   40.3               6.6   \n",
       "4        44.2     42.1                   24.8               6.1   \n",
       "\n",
       "   Attempted_suicide  \n",
       "0               19.9  \n",
       "1               10.4  \n",
       "2               17.4  \n",
       "3               11.2  \n",
       "4               12.9  "
      ]
     },
     "execution_count": 3,
     "metadata": {},
     "output_type": "execute_result"
    }
   ],
   "source": [
    "df = pd.read_csv(\"GHSH_Pooled_Data1.csv\")\n",
    "\n",
    "df.head()"
   ]
  },
  {
   "cell_type": "code",
   "execution_count": 23,
   "id": "6f991ae7-5673-4384-847b-8f5fff4dca71",
   "metadata": {},
   "outputs": [
    {
     "name": "stdout",
     "output_type": "stream",
     "text": [
      "Shape of the dataframe (106, 17)\n"
     ]
    }
   ],
   "source": [
    "print(\"Shape of the dataframe\", df.shape)"
   ]
  },
  {
   "cell_type": "code",
   "execution_count": 6,
   "id": "4c46068d-ea69-451d-ae02-bad9c80f42e6",
   "metadata": {},
   "outputs": [
    {
     "data": {
      "text/html": [
       "<div>\n",
       "<style scoped>\n",
       "    .dataframe tbody tr th:only-of-type {\n",
       "        vertical-align: middle;\n",
       "    }\n",
       "\n",
       "    .dataframe tbody tr th {\n",
       "        vertical-align: top;\n",
       "    }\n",
       "\n",
       "    .dataframe thead th {\n",
       "        text-align: right;\n",
       "    }\n",
       "</style>\n",
       "<table border=\"1\" class=\"dataframe\">\n",
       "  <thead>\n",
       "    <tr style=\"text-align: right;\">\n",
       "      <th></th>\n",
       "      <th>Year</th>\n",
       "      <th>Currently_Drink_Alcohol</th>\n",
       "      <th>Really_Get_Drunk</th>\n",
       "      <th>Overwieght</th>\n",
       "      <th>Use_Marijuana</th>\n",
       "      <th>Have_Understanding_Parents</th>\n",
       "      <th>Missed_classes_without_permssion</th>\n",
       "      <th>Had_sexual_relation</th>\n",
       "      <th>Smoke_cig_currently</th>\n",
       "      <th>Had_fights</th>\n",
       "      <th>Bullied</th>\n",
       "      <th>Got_Seriously_injured</th>\n",
       "      <th>No_close_friends</th>\n",
       "      <th>Attempted_suicide</th>\n",
       "    </tr>\n",
       "  </thead>\n",
       "  <tbody>\n",
       "    <tr>\n",
       "      <th>count</th>\n",
       "      <td>106.000000</td>\n",
       "      <td>106.000000</td>\n",
       "      <td>106.000000</td>\n",
       "      <td>106.000000</td>\n",
       "      <td>106.000000</td>\n",
       "      <td>106.000000</td>\n",
       "      <td>106.000000</td>\n",
       "      <td>106.000000</td>\n",
       "      <td>104.000000</td>\n",
       "      <td>106.000000</td>\n",
       "      <td>102.000000</td>\n",
       "      <td>106.000000</td>\n",
       "      <td>106.000000</td>\n",
       "      <td>106.000000</td>\n",
       "    </tr>\n",
       "    <tr>\n",
       "      <th>mean</th>\n",
       "      <td>2014.698113</td>\n",
       "      <td>31.815094</td>\n",
       "      <td>22.496226</td>\n",
       "      <td>23.694340</td>\n",
       "      <td>7.642453</td>\n",
       "      <td>33.190566</td>\n",
       "      <td>29.996226</td>\n",
       "      <td>26.679245</td>\n",
       "      <td>15.546154</td>\n",
       "      <td>32.448113</td>\n",
       "      <td>31.109804</td>\n",
       "      <td>43.723679</td>\n",
       "      <td>7.744340</td>\n",
       "      <td>14.452830</td>\n",
       "    </tr>\n",
       "    <tr>\n",
       "      <th>std</th>\n",
       "      <td>2.089292</td>\n",
       "      <td>53.454089</td>\n",
       "      <td>16.553129</td>\n",
       "      <td>15.764075</td>\n",
       "      <td>8.713536</td>\n",
       "      <td>11.559408</td>\n",
       "      <td>10.786728</td>\n",
       "      <td>17.401318</td>\n",
       "      <td>10.748501</td>\n",
       "      <td>15.297701</td>\n",
       "      <td>14.185479</td>\n",
       "      <td>14.808421</td>\n",
       "      <td>4.365254</td>\n",
       "      <td>9.273621</td>\n",
       "    </tr>\n",
       "    <tr>\n",
       "      <th>min</th>\n",
       "      <td>2010.000000</td>\n",
       "      <td>1.400000</td>\n",
       "      <td>0.800000</td>\n",
       "      <td>3.300000</td>\n",
       "      <td>0.000000</td>\n",
       "      <td>5.600000</td>\n",
       "      <td>6.500000</td>\n",
       "      <td>2.500000</td>\n",
       "      <td>1.200000</td>\n",
       "      <td>3.500000</td>\n",
       "      <td>9.900000</td>\n",
       "      <td>15.200000</td>\n",
       "      <td>1.500000</td>\n",
       "      <td>2.700000</td>\n",
       "    </tr>\n",
       "    <tr>\n",
       "      <th>25%</th>\n",
       "      <td>2013.000000</td>\n",
       "      <td>11.550000</td>\n",
       "      <td>9.000000</td>\n",
       "      <td>11.400000</td>\n",
       "      <td>2.025000</td>\n",
       "      <td>25.825000</td>\n",
       "      <td>22.450000</td>\n",
       "      <td>12.600000</td>\n",
       "      <td>7.050000</td>\n",
       "      <td>20.750000</td>\n",
       "      <td>21.775000</td>\n",
       "      <td>34.800000</td>\n",
       "      <td>4.500000</td>\n",
       "      <td>9.400000</td>\n",
       "    </tr>\n",
       "    <tr>\n",
       "      <th>50%</th>\n",
       "      <td>2015.000000</td>\n",
       "      <td>26.000000</td>\n",
       "      <td>19.650000</td>\n",
       "      <td>21.800000</td>\n",
       "      <td>4.350000</td>\n",
       "      <td>33.400000</td>\n",
       "      <td>28.950000</td>\n",
       "      <td>22.350000</td>\n",
       "      <td>12.600000</td>\n",
       "      <td>29.650000</td>\n",
       "      <td>27.550000</td>\n",
       "      <td>41.400000</td>\n",
       "      <td>6.950000</td>\n",
       "      <td>11.850000</td>\n",
       "    </tr>\n",
       "    <tr>\n",
       "      <th>75%</th>\n",
       "      <td>2016.000000</td>\n",
       "      <td>42.350000</td>\n",
       "      <td>30.475000</td>\n",
       "      <td>31.850000</td>\n",
       "      <td>9.575000</td>\n",
       "      <td>40.850000</td>\n",
       "      <td>36.825000</td>\n",
       "      <td>37.100000</td>\n",
       "      <td>22.000000</td>\n",
       "      <td>42.700000</td>\n",
       "      <td>41.150000</td>\n",
       "      <td>53.150000</td>\n",
       "      <td>9.700000</td>\n",
       "      <td>18.425000</td>\n",
       "    </tr>\n",
       "    <tr>\n",
       "      <th>max</th>\n",
       "      <td>2018.000000</td>\n",
       "      <td>548.000000</td>\n",
       "      <td>80.200000</td>\n",
       "      <td>70.600000</td>\n",
       "      <td>43.200000</td>\n",
       "      <td>63.900000</td>\n",
       "      <td>62.200000</td>\n",
       "      <td>73.900000</td>\n",
       "      <td>43.800000</td>\n",
       "      <td>76.500000</td>\n",
       "      <td>78.600000</td>\n",
       "      <td>87.700000</td>\n",
       "      <td>24.800000</td>\n",
       "      <td>67.200000</td>\n",
       "    </tr>\n",
       "  </tbody>\n",
       "</table>\n",
       "</div>"
      ],
      "text/plain": [
       "              Year  Currently_Drink_Alcohol  Really_Get_Drunk  Overwieght  \\\n",
       "count   106.000000               106.000000        106.000000  106.000000   \n",
       "mean   2014.698113                31.815094         22.496226   23.694340   \n",
       "std       2.089292                53.454089         16.553129   15.764075   \n",
       "min    2010.000000                 1.400000          0.800000    3.300000   \n",
       "25%    2013.000000                11.550000          9.000000   11.400000   \n",
       "50%    2015.000000                26.000000         19.650000   21.800000   \n",
       "75%    2016.000000                42.350000         30.475000   31.850000   \n",
       "max    2018.000000               548.000000         80.200000   70.600000   \n",
       "\n",
       "       Use_Marijuana  Have_Understanding_Parents  \\\n",
       "count     106.000000                  106.000000   \n",
       "mean        7.642453                   33.190566   \n",
       "std         8.713536                   11.559408   \n",
       "min         0.000000                    5.600000   \n",
       "25%         2.025000                   25.825000   \n",
       "50%         4.350000                   33.400000   \n",
       "75%         9.575000                   40.850000   \n",
       "max        43.200000                   63.900000   \n",
       "\n",
       "       Missed_classes_without_permssion  Had_sexual_relation  \\\n",
       "count                        106.000000           106.000000   \n",
       "mean                          29.996226            26.679245   \n",
       "std                           10.786728            17.401318   \n",
       "min                            6.500000             2.500000   \n",
       "25%                           22.450000            12.600000   \n",
       "50%                           28.950000            22.350000   \n",
       "75%                           36.825000            37.100000   \n",
       "max                           62.200000            73.900000   \n",
       "\n",
       "       Smoke_cig_currently  Had_fights     Bullied  Got_Seriously_injured  \\\n",
       "count           104.000000  106.000000  102.000000             106.000000   \n",
       "mean             15.546154   32.448113   31.109804              43.723679   \n",
       "std              10.748501   15.297701   14.185479              14.808421   \n",
       "min               1.200000    3.500000    9.900000              15.200000   \n",
       "25%               7.050000   20.750000   21.775000              34.800000   \n",
       "50%              12.600000   29.650000   27.550000              41.400000   \n",
       "75%              22.000000   42.700000   41.150000              53.150000   \n",
       "max              43.800000   76.500000   78.600000              87.700000   \n",
       "\n",
       "       No_close_friends  Attempted_suicide  \n",
       "count        106.000000         106.000000  \n",
       "mean           7.744340          14.452830  \n",
       "std            4.365254           9.273621  \n",
       "min            1.500000           2.700000  \n",
       "25%            4.500000           9.400000  \n",
       "50%            6.950000          11.850000  \n",
       "75%            9.700000          18.425000  \n",
       "max           24.800000          67.200000  "
      ]
     },
     "execution_count": 6,
     "metadata": {},
     "output_type": "execute_result"
    }
   ],
   "source": [
    "df.describe()"
   ]
  },
  {
   "cell_type": "markdown",
   "id": "d5ba8221-7502-4f24-a2a1-49e37194cb98",
   "metadata": {},
   "source": [
    "## Show Unique Values for Specific Columns"
   ]
  },
  {
   "cell_type": "code",
   "execution_count": 43,
   "id": "9e245a82-cbde-472b-b7c2-e12e50f3b7bd",
   "metadata": {},
   "outputs": [],
   "source": [
    "def unique_values(columns):\n",
    "    for col in columns:\n",
    "        print(\"\\n Unique Values for {} column\".format(col))\n",
    "        val = df[col].unique()\n",
    "        print(sorted(val))\n",
    "        print(\"Total values:\", str(len(val)))\n",
    "        print(\"=\"*100)"
   ]
  },
  {
   "cell_type": "code",
   "execution_count": 44,
   "id": "a5216725-1acd-45bf-82cf-87934d05aba6",
   "metadata": {},
   "outputs": [
    {
     "name": "stdout",
     "output_type": "stream",
     "text": [
      "\n",
      " Unique Values for Country column\n",
      "['Argentina', 'Benin', 'Bhutan', 'Brunei Darussalam ', 'Dominican Republic ', 'Fiji Islands', 'Indonesia', 'Jamaica', 'Kiribati', 'Laos', 'Malaysia', 'Mauritus', 'Mongolia', 'Namibia', 'Nepal', 'Peru', 'Samoa', 'Seychelles', 'Suriname', 'Thailand', 'Timor-Leste ', 'Trinidad and Tobago ', 'Tuvalu ', 'Uruguay ', 'Vanuatu ', 'Wallis and Futuna ']\n",
      "Total values: 26\n",
      "====================================================================================================\n",
      "\n",
      " Unique Values for Year column\n",
      "[2010, 2011, 2012, 2013, 2014, 2015, 2016, 2017]\n",
      "Total values: 8\n",
      "====================================================================================================\n",
      "\n",
      " Unique Values for Age Group column\n",
      "['13-15', '16-17']\n",
      "Total values: 2\n",
      "====================================================================================================\n",
      "\n",
      " Unique Values for Sex column\n",
      "['Female', 'Male']\n",
      "Total values: 2\n",
      "====================================================================================================\n"
     ]
    }
   ],
   "source": [
    "unique_values([\"Country\", \"Year\", \"Age Group\", \"Sex\"])"
   ]
  },
  {
   "cell_type": "markdown",
   "id": "9dafdda1-f742-4f68-b3fb-9edabe7b2b2a",
   "metadata": {},
   "source": [
    "### Check missing data"
   ]
  },
  {
   "cell_type": "code",
   "execution_count": 19,
   "id": "01230226-b7bc-42ac-be88-dea3fb861773",
   "metadata": {},
   "outputs": [
    {
     "data": {
      "image/png": "[encoded data removed]",
      "text/plain": [
       "<Figure size 1800x720 with 2 Axes>"
      ]
     },
     "metadata": {
      "needs_background": "light"
     },
     "output_type": "display_data"
    }
   ],
   "source": [
    "missingno.matrix(df)\n",
    "plt.show()"
   ]
  },
  {
   "cell_type": "code",
   "execution_count": 24,
   "id": "756382ca-2989-44c6-ae5c-7c01483cf25e",
   "metadata": {},
   "outputs": [
    {
     "name": "stdout",
     "output_type": "stream",
     "text": [
      "Total missing data: 6\n"
     ]
    }
   ],
   "source": [
    "print(\"Total missing data:\",df.isnull().sum().sum())"
   ]
  },
  {
   "cell_type": "markdown",
   "id": "b0ae9891-058e-4acc-b13c-9346d32a5c9b",
   "metadata": {},
   "source": [
    "Since there are few counts of missing data, it is okay to drop them"
   ]
  },
  {
   "cell_type": "code",
   "execution_count": 29,
   "id": "badba1b9-cae4-4386-93a2-e493d9992f98",
   "metadata": {},
   "outputs": [],
   "source": [
    "df.dropna(axis=0, inplace=True)"
   ]
  },
  {
   "cell_type": "code",
   "execution_count": 31,
   "id": "a9e02035-955b-4376-b9e3-235883095825",
   "metadata": {},
   "outputs": [
    {
     "data": {
      "text/plain": [
       "(100, 17)"
      ]
     },
     "execution_count": 31,
     "metadata": {},
     "output_type": "execute_result"
    }
   ],
   "source": [
    "df.shape"
   ]
  },
  {
   "cell_type": "code",
   "execution_count": 33,
   "id": "8fa27754-d4e0-4d88-aafa-81d462b75f35",
   "metadata": {},
   "outputs": [
    {
     "data": {
      "image/png": "[encoded data removed]",
      "text/plain": [
       "<Figure size 432x288 with 1 Axes>"
      ]
     },
     "metadata": {
      "needs_background": "light"
     },
     "output_type": "display_data"
    }
   ],
   "source": [
    "plt.hist(x=df.Smoke_cig_currently, bins=20)\n",
    "plt.xlabel(\"Smoke_cig_currently\")\n",
    "plt.show()"
   ]
  }
 ],
 "metadata": {
  "kernelspec": {
   "display_name": "Python 3 (ipykernel)",
   "language": "python",
   "name": "python3"
  },
  "language_info": {
   "codemirror_mode": {
    "name": "ipython",
    "version": 3
   },
   "file_extension": ".py",
   "mimetype": "text/x-python",
   "name": "python",
   "nbconvert_exporter": "python",
   "pygments_lexer": "ipython3",
   "version": "3.9.12"
  }
 },
 "nbformat": 4,
 "nbformat_minor": 5
}
