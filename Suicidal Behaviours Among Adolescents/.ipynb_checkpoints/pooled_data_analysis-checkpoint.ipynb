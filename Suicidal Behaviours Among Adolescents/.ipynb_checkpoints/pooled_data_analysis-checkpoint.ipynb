{
 "cells": [
  {
   "cell_type": "code",
   "execution_count": 17,
   "id": "47259ea6-25ad-42ed-a4c2-2fe88ffe1575",
   "metadata": {},
   "outputs": [],
   "source": [
    "import numpy as np\n",
    "import pandas as pd\n",
    "\n",
    "import missingno\n",
    "import matplotlib.pyplot as plt\n",
    "import plotly.express as plx\n",
    "\n",
    "import country_converter"
   ]
  },
  {
   "cell_type": "markdown",
   "id": "c3873f4f-b4ea-4e59-a3e3-200641b394d8",
   "metadata": {},
   "source": [
    "## Data Exploration"
   ]
  },
  {
   "cell_type": "code",
   "execution_count": 18,
   "id": "a43a7f65-cacd-414a-8915-54267dfe6bf5",
   "metadata": {},
   "outputs": [
    {
     "data": {
      "text/html": [
       "<div>\n",
       "<style scoped>\n",
       "    .dataframe tbody tr th:only-of-type {\n",
       "        vertical-align: middle;\n",
       "    }\n",
       "\n",
       "    .dataframe tbody tr th {\n",
       "        vertical-align: top;\n",
       "    }\n",
       "\n",
       "    .dataframe thead th {\n",
       "        text-align: right;\n",
       "    }\n",
       "</style>\n",
       "<table border=\"1\" class=\"dataframe\">\n",
       "  <thead>\n",
       "    <tr style=\"text-align: right;\">\n",
       "      <th></th>\n",
       "      <th>Country</th>\n",
       "      <th>Year</th>\n",
       "      <th>Age Group</th>\n",
       "      <th>Sex</th>\n",
       "      <th>Currently_Drink_Alcohol</th>\n",
       "      <th>Really_Get_Drunk</th>\n",
       "      <th>Overwieght</th>\n",
       "      <th>Use_Marijuana</th>\n",
       "      <th>Have_Understanding_Parents</th>\n",
       "      <th>Missed_classes_without_permssion</th>\n",
       "      <th>Had_sexual_relation</th>\n",
       "      <th>Smoke_cig_currently</th>\n",
       "      <th>Had_fights</th>\n",
       "      <th>Bullied</th>\n",
       "      <th>Got_Seriously_injured</th>\n",
       "      <th>No_close_friends</th>\n",
       "      <th>Attempted_suicide</th>\n",
       "    </tr>\n",
       "  </thead>\n",
       "  <tbody>\n",
       "    <tr>\n",
       "      <th>0</th>\n",
       "      <td>Argentina</td>\n",
       "      <td>2018</td>\n",
       "      <td>13-15</td>\n",
       "      <td>Female</td>\n",
       "      <td>50.3</td>\n",
       "      <td>30.7</td>\n",
       "      <td>27.8</td>\n",
       "      <td>7.9</td>\n",
       "      <td>41.5</td>\n",
       "      <td>24.7</td>\n",
       "      <td>25.7</td>\n",
       "      <td>16.8</td>\n",
       "      <td>17.2</td>\n",
       "      <td>NaN</td>\n",
       "      <td>27.5</td>\n",
       "      <td>4.8</td>\n",
       "      <td>19.9</td>\n",
       "    </tr>\n",
       "    <tr>\n",
       "      <th>1</th>\n",
       "      <td>Argentina</td>\n",
       "      <td>2018</td>\n",
       "      <td>13-15</td>\n",
       "      <td>Male</td>\n",
       "      <td>44.9</td>\n",
       "      <td>26.1</td>\n",
       "      <td>39.1</td>\n",
       "      <td>8.4</td>\n",
       "      <td>44.5</td>\n",
       "      <td>27.9</td>\n",
       "      <td>38.4</td>\n",
       "      <td>12.1</td>\n",
       "      <td>33.2</td>\n",
       "      <td>NaN</td>\n",
       "      <td>37.4</td>\n",
       "      <td>5.5</td>\n",
       "      <td>10.4</td>\n",
       "    </tr>\n",
       "    <tr>\n",
       "      <th>2</th>\n",
       "      <td>Argentina</td>\n",
       "      <td>2018</td>\n",
       "      <td>16-17</td>\n",
       "      <td>Female</td>\n",
       "      <td>67.2</td>\n",
       "      <td>56.3</td>\n",
       "      <td>22.5</td>\n",
       "      <td>21.9</td>\n",
       "      <td>37.1</td>\n",
       "      <td>34.0</td>\n",
       "      <td>59.1</td>\n",
       "      <td>28.5</td>\n",
       "      <td>15.1</td>\n",
       "      <td>NaN</td>\n",
       "      <td>30.1</td>\n",
       "      <td>6.3</td>\n",
       "      <td>17.4</td>\n",
       "    </tr>\n",
       "    <tr>\n",
       "      <th>3</th>\n",
       "      <td>Argentina</td>\n",
       "      <td>2018</td>\n",
       "      <td>16-17</td>\n",
       "      <td>Male</td>\n",
       "      <td>68.1</td>\n",
       "      <td>55.8</td>\n",
       "      <td>27.9</td>\n",
       "      <td>27.0</td>\n",
       "      <td>39.8</td>\n",
       "      <td>39.4</td>\n",
       "      <td>68.6</td>\n",
       "      <td>28.0</td>\n",
       "      <td>33.6</td>\n",
       "      <td>NaN</td>\n",
       "      <td>40.3</td>\n",
       "      <td>6.6</td>\n",
       "      <td>11.2</td>\n",
       "    </tr>\n",
       "    <tr>\n",
       "      <th>4</th>\n",
       "      <td>Argentina</td>\n",
       "      <td>2012</td>\n",
       "      <td>13-15</td>\n",
       "      <td>Male</td>\n",
       "      <td>49.3</td>\n",
       "      <td>28.9</td>\n",
       "      <td>35.9</td>\n",
       "      <td>10.6</td>\n",
       "      <td>46.2</td>\n",
       "      <td>32.0</td>\n",
       "      <td>43.5</td>\n",
       "      <td>17.0</td>\n",
       "      <td>44.2</td>\n",
       "      <td>42.1</td>\n",
       "      <td>24.8</td>\n",
       "      <td>6.1</td>\n",
       "      <td>12.9</td>\n",
       "    </tr>\n",
       "  </tbody>\n",
       "</table>\n",
       "</div>"
      ],
      "text/plain": [
       "     Country  Year Age Group     Sex  Currently_Drink_Alcohol  \\\n",
       "0  Argentina  2018     13-15  Female                     50.3   \n",
       "1  Argentina  2018     13-15    Male                     44.9   \n",
       "2  Argentina  2018     16-17  Female                     67.2   \n",
       "3  Argentina  2018     16-17    Male                     68.1   \n",
       "4  Argentina  2012     13-15    Male                     49.3   \n",
       "\n",
       "   Really_Get_Drunk  Overwieght  Use_Marijuana  Have_Understanding_Parents  \\\n",
       "0              30.7        27.8            7.9                        41.5   \n",
       "1              26.1        39.1            8.4                        44.5   \n",
       "2              56.3        22.5           21.9                        37.1   \n",
       "3              55.8        27.9           27.0                        39.8   \n",
       "4              28.9        35.9           10.6                        46.2   \n",
       "\n",
       "   Missed_classes_without_permssion  Had_sexual_relation  Smoke_cig_currently  \\\n",
       "0                              24.7                 25.7                 16.8   \n",
       "1                              27.9                 38.4                 12.1   \n",
       "2                              34.0                 59.1                 28.5   \n",
       "3                              39.4                 68.6                 28.0   \n",
       "4                              32.0                 43.5                 17.0   \n",
       "\n",
       "   Had_fights  Bullied  Got_Seriously_injured  No_close_friends  \\\n",
       "0        17.2      NaN                   27.5               4.8   \n",
       "1        33.2      NaN                   37.4               5.5   \n",
       "2        15.1      NaN                   30.1               6.3   \n",
       "3        33.6      NaN                   40.3               6.6   \n",
       "4        44.2     42.1                   24.8               6.1   \n",
       "\n",
       "   Attempted_suicide  \n",
       "0               19.9  \n",
       "1               10.4  \n",
       "2               17.4  \n",
       "3               11.2  \n",
       "4               12.9  "
      ]
     },
     "execution_count": 18,
     "metadata": {},
     "output_type": "execute_result"
    }
   ],
   "source": [
    "df = pd.read_csv(\"GHSH_Pooled_Data1.csv\")\n",
    "\n",
    "df.head()"
   ]
  },
  {
   "cell_type": "code",
   "execution_count": 19,
   "id": "6f991ae7-5673-4384-847b-8f5fff4dca71",
   "metadata": {},
   "outputs": [
    {
     "name": "stdout",
     "output_type": "stream",
     "text": [
      "Shape of the dataframe (106, 17)\n"
     ]
    }
   ],
   "source": [
    "print(\"Shape of the dataframe\", df.shape)"
   ]
  },
  {
   "cell_type": "code",
   "execution_count": 20,
   "id": "4c46068d-ea69-451d-ae02-bad9c80f42e6",
   "metadata": {},
   "outputs": [
    {
     "data": {
      "text/html": [
       "<div>\n",
       "<style scoped>\n",
       "    .dataframe tbody tr th:only-of-type {\n",
       "        vertical-align: middle;\n",
       "    }\n",
       "\n",
       "    .dataframe tbody tr th {\n",
       "        vertical-align: top;\n",
       "    }\n",
       "\n",
       "    .dataframe thead th {\n",
       "        text-align: right;\n",
       "    }\n",
       "</style>\n",
       "<table border=\"1\" class=\"dataframe\">\n",
       "  <thead>\n",
       "    <tr style=\"text-align: right;\">\n",
       "      <th></th>\n",
       "      <th>Year</th>\n",
       "      <th>Currently_Drink_Alcohol</th>\n",
       "      <th>Really_Get_Drunk</th>\n",
       "      <th>Overwieght</th>\n",
       "      <th>Use_Marijuana</th>\n",
       "      <th>Have_Understanding_Parents</th>\n",
       "      <th>Missed_classes_without_permssion</th>\n",
       "      <th>Had_sexual_relation</th>\n",
       "      <th>Smoke_cig_currently</th>\n",
       "      <th>Had_fights</th>\n",
       "      <th>Bullied</th>\n",
       "      <th>Got_Seriously_injured</th>\n",
       "      <th>No_close_friends</th>\n",
       "      <th>Attempted_suicide</th>\n",
       "    </tr>\n",
       "  </thead>\n",
       "  <tbody>\n",
       "    <tr>\n",
       "      <th>count</th>\n",
       "      <td>106.000000</td>\n",
       "      <td>106.000000</td>\n",
       "      <td>106.000000</td>\n",
       "      <td>106.000000</td>\n",
       "      <td>106.000000</td>\n",
       "      <td>106.000000</td>\n",
       "      <td>106.000000</td>\n",
       "      <td>106.000000</td>\n",
       "      <td>104.000000</td>\n",
       "      <td>106.000000</td>\n",
       "      <td>102.000000</td>\n",
       "      <td>106.000000</td>\n",
       "      <td>106.000000</td>\n",
       "      <td>106.000000</td>\n",
       "    </tr>\n",
       "    <tr>\n",
       "      <th>mean</th>\n",
       "      <td>2014.698113</td>\n",
       "      <td>31.815094</td>\n",
       "      <td>22.496226</td>\n",
       "      <td>23.694340</td>\n",
       "      <td>7.642453</td>\n",
       "      <td>33.190566</td>\n",
       "      <td>29.996226</td>\n",
       "      <td>26.679245</td>\n",
       "      <td>15.546154</td>\n",
       "      <td>32.448113</td>\n",
       "      <td>31.109804</td>\n",
       "      <td>43.723679</td>\n",
       "      <td>7.744340</td>\n",
       "      <td>14.452830</td>\n",
       "    </tr>\n",
       "    <tr>\n",
       "      <th>std</th>\n",
       "      <td>2.089292</td>\n",
       "      <td>53.454089</td>\n",
       "      <td>16.553129</td>\n",
       "      <td>15.764075</td>\n",
       "      <td>8.713536</td>\n",
       "      <td>11.559408</td>\n",
       "      <td>10.786728</td>\n",
       "      <td>17.401318</td>\n",
       "      <td>10.748501</td>\n",
       "      <td>15.297701</td>\n",
       "      <td>14.185479</td>\n",
       "      <td>14.808421</td>\n",
       "      <td>4.365254</td>\n",
       "      <td>9.273621</td>\n",
       "    </tr>\n",
       "    <tr>\n",
       "      <th>min</th>\n",
       "      <td>2010.000000</td>\n",
       "      <td>1.400000</td>\n",
       "      <td>0.800000</td>\n",
       "      <td>3.300000</td>\n",
       "      <td>0.000000</td>\n",
       "      <td>5.600000</td>\n",
       "      <td>6.500000</td>\n",
       "      <td>2.500000</td>\n",
       "      <td>1.200000</td>\n",
       "      <td>3.500000</td>\n",
       "      <td>9.900000</td>\n",
       "      <td>15.200000</td>\n",
       "      <td>1.500000</td>\n",
       "      <td>2.700000</td>\n",
       "    </tr>\n",
       "    <tr>\n",
       "      <th>25%</th>\n",
       "      <td>2013.000000</td>\n",
       "      <td>11.550000</td>\n",
       "      <td>9.000000</td>\n",
       "      <td>11.400000</td>\n",
       "      <td>2.025000</td>\n",
       "      <td>25.825000</td>\n",
       "      <td>22.450000</td>\n",
       "      <td>12.600000</td>\n",
       "      <td>7.050000</td>\n",
       "      <td>20.750000</td>\n",
       "      <td>21.775000</td>\n",
       "      <td>34.800000</td>\n",
       "      <td>4.500000</td>\n",
       "      <td>9.400000</td>\n",
       "    </tr>\n",
       "    <tr>\n",
       "      <th>50%</th>\n",
       "      <td>2015.000000</td>\n",
       "      <td>26.000000</td>\n",
       "      <td>19.650000</td>\n",
       "      <td>21.800000</td>\n",
       "      <td>4.350000</td>\n",
       "      <td>33.400000</td>\n",
       "      <td>28.950000</td>\n",
       "      <td>22.350000</td>\n",
       "      <td>12.600000</td>\n",
       "      <td>29.650000</td>\n",
       "      <td>27.550000</td>\n",
       "      <td>41.400000</td>\n",
       "      <td>6.950000</td>\n",
       "      <td>11.850000</td>\n",
       "    </tr>\n",
       "    <tr>\n",
       "      <th>75%</th>\n",
       "      <td>2016.000000</td>\n",
       "      <td>42.350000</td>\n",
       "      <td>30.475000</td>\n",
       "      <td>31.850000</td>\n",
       "      <td>9.575000</td>\n",
       "      <td>40.850000</td>\n",
       "      <td>36.825000</td>\n",
       "      <td>37.100000</td>\n",
       "      <td>22.000000</td>\n",
       "      <td>42.700000</td>\n",
       "      <td>41.150000</td>\n",
       "      <td>53.150000</td>\n",
       "      <td>9.700000</td>\n",
       "      <td>18.425000</td>\n",
       "    </tr>\n",
       "    <tr>\n",
       "      <th>max</th>\n",
       "      <td>2018.000000</td>\n",
       "      <td>548.000000</td>\n",
       "      <td>80.200000</td>\n",
       "      <td>70.600000</td>\n",
       "      <td>43.200000</td>\n",
       "      <td>63.900000</td>\n",
       "      <td>62.200000</td>\n",
       "      <td>73.900000</td>\n",
       "      <td>43.800000</td>\n",
       "      <td>76.500000</td>\n",
       "      <td>78.600000</td>\n",
       "      <td>87.700000</td>\n",
       "      <td>24.800000</td>\n",
       "      <td>67.200000</td>\n",
       "    </tr>\n",
       "  </tbody>\n",
       "</table>\n",
       "</div>"
      ],
      "text/plain": [
       "              Year  Currently_Drink_Alcohol  Really_Get_Drunk  Overwieght  \\\n",
       "count   106.000000               106.000000        106.000000  106.000000   \n",
       "mean   2014.698113                31.815094         22.496226   23.694340   \n",
       "std       2.089292                53.454089         16.553129   15.764075   \n",
       "min    2010.000000                 1.400000          0.800000    3.300000   \n",
       "25%    2013.000000                11.550000          9.000000   11.400000   \n",
       "50%    2015.000000                26.000000         19.650000   21.800000   \n",
       "75%    2016.000000                42.350000         30.475000   31.850000   \n",
       "max    2018.000000               548.000000         80.200000   70.600000   \n",
       "\n",
       "       Use_Marijuana  Have_Understanding_Parents  \\\n",
       "count     106.000000                  106.000000   \n",
       "mean        7.642453                   33.190566   \n",
       "std         8.713536                   11.559408   \n",
       "min         0.000000                    5.600000   \n",
       "25%         2.025000                   25.825000   \n",
       "50%         4.350000                   33.400000   \n",
       "75%         9.575000                   40.850000   \n",
       "max        43.200000                   63.900000   \n",
       "\n",
       "       Missed_classes_without_permssion  Had_sexual_relation  \\\n",
       "count                        106.000000           106.000000   \n",
       "mean                          29.996226            26.679245   \n",
       "std                           10.786728            17.401318   \n",
       "min                            6.500000             2.500000   \n",
       "25%                           22.450000            12.600000   \n",
       "50%                           28.950000            22.350000   \n",
       "75%                           36.825000            37.100000   \n",
       "max                           62.200000            73.900000   \n",
       "\n",
       "       Smoke_cig_currently  Had_fights     Bullied  Got_Seriously_injured  \\\n",
       "count           104.000000  106.000000  102.000000             106.000000   \n",
       "mean             15.546154   32.448113   31.109804              43.723679   \n",
       "std              10.748501   15.297701   14.185479              14.808421   \n",
       "min               1.200000    3.500000    9.900000              15.200000   \n",
       "25%               7.050000   20.750000   21.775000              34.800000   \n",
       "50%              12.600000   29.650000   27.550000              41.400000   \n",
       "75%              22.000000   42.700000   41.150000              53.150000   \n",
       "max              43.800000   76.500000   78.600000              87.700000   \n",
       "\n",
       "       No_close_friends  Attempted_suicide  \n",
       "count        106.000000         106.000000  \n",
       "mean           7.744340          14.452830  \n",
       "std            4.365254           9.273621  \n",
       "min            1.500000           2.700000  \n",
       "25%            4.500000           9.400000  \n",
       "50%            6.950000          11.850000  \n",
       "75%            9.700000          18.425000  \n",
       "max           24.800000          67.200000  "
      ]
     },
     "execution_count": 20,
     "metadata": {},
     "output_type": "execute_result"
    }
   ],
   "source": [
    "df.describe()"
   ]
  },
  {
   "cell_type": "markdown",
   "id": "d5ba8221-7502-4f24-a2a1-49e37194cb98",
   "metadata": {},
   "source": [
    "## Show Unique Values for Specific Columns"
   ]
  },
  {
   "cell_type": "code",
   "execution_count": 21,
   "id": "9e245a82-cbde-472b-b7c2-e12e50f3b7bd",
   "metadata": {},
   "outputs": [],
   "source": [
    "def unique_values(columns):\n",
    "    for col in columns:\n",
    "        print(\"\\n Unique Values for {} column\".format(col))\n",
    "        val = df[col].unique()\n",
    "        print(sorted(val))\n",
    "        print(\"Total values:\", str(len(val)))\n",
    "        print(\"=\"*100)"
   ]
  },
  {
   "cell_type": "code",
   "execution_count": 22,
   "id": "a5216725-1acd-45bf-82cf-87934d05aba6",
   "metadata": {},
   "outputs": [
    {
     "name": "stdout",
     "output_type": "stream",
     "text": [
      "\n",
      " Unique Values for Country column\n",
      "['Argentina', 'Barabados', 'Benin', 'Bhutan', 'Brunei Darussalam ', 'Dominican Republic ', 'Fiji Islands', 'Indonesia', 'Jamaica', 'Kiribati', 'Laos', 'Malaysia', 'Mauritus', 'Mongolia', 'Namibia', 'Nepal', 'Peru', 'Samoa', 'Seychelles', 'Suriname', 'Thailand', 'Timor-Leste ', 'Trinidad and Tobago ', 'Tuvalu ', 'Uruguay ', 'Vanuatu ', 'Wallis and Futuna ']\n",
      "Total values: 27\n",
      "====================================================================================================\n",
      "\n",
      " Unique Values for Year column\n",
      "[2010, 2011, 2012, 2013, 2014, 2015, 2016, 2017, 2018]\n",
      "Total values: 9\n",
      "====================================================================================================\n",
      "\n",
      " Unique Values for Age Group column\n",
      "['13-15', '16-17']\n",
      "Total values: 2\n",
      "====================================================================================================\n",
      "\n",
      " Unique Values for Sex column\n",
      "['Female', 'Male']\n",
      "Total values: 2\n",
      "====================================================================================================\n"
     ]
    }
   ],
   "source": [
    "unique_values([\"Country\", \"Year\", \"Age Group\", \"Sex\"])"
   ]
  },
  {
   "cell_type": "markdown",
   "id": "0e497670-4593-472d-9366-00a4e6e95bed",
   "metadata": {},
   "source": [
    "From this, we have:\n",
    "- 26 COUNTRIES\n",
    "- 8 Years from 2010-2017\n",
    "- Age group: 13-15 | 16-17"
   ]
  },
  {
   "cell_type": "markdown",
   "id": "9dafdda1-f742-4f68-b3fb-9edabe7b2b2a",
   "metadata": {},
   "source": [
    "### Check missing data"
   ]
  },
  {
   "cell_type": "code",
   "execution_count": 23,
   "id": "01230226-b7bc-42ac-be88-dea3fb861773",
   "metadata": {},
   "outputs": [
    {
     "data": {
      "image/png": "[encoded data removed]",
      "text/plain": [
       "<Figure size 1800x720 with 2 Axes>"
      ]
     },
     "metadata": {
      "needs_background": "light"
     },
     "output_type": "display_data"
    }
   ],
   "source": [
    "missingno.matrix(df)\n",
    "plt.show()"
   ]
  },
  {
   "cell_type": "code",
   "execution_count": 24,
   "id": "756382ca-2989-44c6-ae5c-7c01483cf25e",
   "metadata": {},
   "outputs": [
    {
     "name": "stdout",
     "output_type": "stream",
     "text": [
      "Total missing data: 6\n"
     ]
    }
   ],
   "source": [
    "print(\"Total missing data:\",df.isnull().sum().sum())"
   ]
  },
  {
   "cell_type": "markdown",
   "id": "b0ae9891-058e-4acc-b13c-9346d32a5c9b",
   "metadata": {},
   "source": [
    "Since there are few counts of missing data, it is okay to drop them"
   ]
  },
  {
   "cell_type": "code",
   "execution_count": 25,
   "id": "ad45b3cb-3dbe-4771-b6c7-72288586b904",
   "metadata": {},
   "outputs": [
    {
     "data": {
      "text/plain": [
       "Country                             0\n",
       "Year                                0\n",
       "Age Group                           0\n",
       "Sex                                 0\n",
       "Currently_Drink_Alcohol             0\n",
       "Really_Get_Drunk                    0\n",
       "Overwieght                          0\n",
       "Use_Marijuana                       0\n",
       "Have_Understanding_Parents          0\n",
       "Missed_classes_without_permssion    0\n",
       "Had_sexual_relation                 0\n",
       "Smoke_cig_currently                 2\n",
       "Had_fights                          0\n",
       "Bullied                             4\n",
       "Got_Seriously_injured               0\n",
       "No_close_friends                    0\n",
       "Attempted_suicide                   0\n",
       "dtype: int64"
      ]
     },
     "execution_count": 25,
     "metadata": {},
     "output_type": "execute_result"
    }
   ],
   "source": [
    "df.isnull().sum()"
   ]
  },
  {
   "cell_type": "code",
   "execution_count": 26,
   "id": "badba1b9-cae4-4386-93a2-e493d9992f98",
   "metadata": {},
   "outputs": [
    {
     "data": {
      "text/html": [
       "<div>\n",
       "<style scoped>\n",
       "    .dataframe tbody tr th:only-of-type {\n",
       "        vertical-align: middle;\n",
       "    }\n",
       "\n",
       "    .dataframe tbody tr th {\n",
       "        vertical-align: top;\n",
       "    }\n",
       "\n",
       "    .dataframe thead th {\n",
       "        text-align: right;\n",
       "    }\n",
       "</style>\n",
       "<table border=\"1\" class=\"dataframe\">\n",
       "  <thead>\n",
       "    <tr style=\"text-align: right;\">\n",
       "      <th></th>\n",
       "      <th>Country</th>\n",
       "      <th>Year</th>\n",
       "      <th>Age Group</th>\n",
       "      <th>Sex</th>\n",
       "      <th>Currently_Drink_Alcohol</th>\n",
       "      <th>Really_Get_Drunk</th>\n",
       "      <th>Overwieght</th>\n",
       "      <th>Use_Marijuana</th>\n",
       "      <th>Have_Understanding_Parents</th>\n",
       "      <th>Missed_classes_without_permssion</th>\n",
       "      <th>Had_sexual_relation</th>\n",
       "      <th>Smoke_cig_currently</th>\n",
       "      <th>Had_fights</th>\n",
       "      <th>Bullied</th>\n",
       "      <th>Got_Seriously_injured</th>\n",
       "      <th>No_close_friends</th>\n",
       "      <th>Attempted_suicide</th>\n",
       "    </tr>\n",
       "  </thead>\n",
       "  <tbody>\n",
       "    <tr>\n",
       "      <th>0</th>\n",
       "      <td>Argentina</td>\n",
       "      <td>2012</td>\n",
       "      <td>13-15</td>\n",
       "      <td>Male</td>\n",
       "      <td>49.3</td>\n",
       "      <td>28.9</td>\n",
       "      <td>35.9</td>\n",
       "      <td>10.6</td>\n",
       "      <td>46.2</td>\n",
       "      <td>32.0</td>\n",
       "      <td>43.5</td>\n",
       "      <td>17.0</td>\n",
       "      <td>44.2</td>\n",
       "      <td>42.1</td>\n",
       "      <td>24.8</td>\n",
       "      <td>6.1</td>\n",
       "      <td>12.9</td>\n",
       "    </tr>\n",
       "    <tr>\n",
       "      <th>1</th>\n",
       "      <td>Argentina</td>\n",
       "      <td>2012</td>\n",
       "      <td>13-15</td>\n",
       "      <td>Female</td>\n",
       "      <td>50.7</td>\n",
       "      <td>26.8</td>\n",
       "      <td>21.8</td>\n",
       "      <td>6.5</td>\n",
       "      <td>49.9</td>\n",
       "      <td>29.4</td>\n",
       "      <td>30.7</td>\n",
       "      <td>20.5</td>\n",
       "      <td>24.7</td>\n",
       "      <td>25.2</td>\n",
       "      <td>24.2</td>\n",
       "      <td>4.3</td>\n",
       "      <td>18.9</td>\n",
       "    </tr>\n",
       "    <tr>\n",
       "      <th>2</th>\n",
       "      <td>Benin</td>\n",
       "      <td>2016</td>\n",
       "      <td>13-15</td>\n",
       "      <td>Male</td>\n",
       "      <td>38.0</td>\n",
       "      <td>19.3</td>\n",
       "      <td>12.7</td>\n",
       "      <td>0.8</td>\n",
       "      <td>35.7</td>\n",
       "      <td>18.8</td>\n",
       "      <td>31.8</td>\n",
       "      <td>5.1</td>\n",
       "      <td>32.1</td>\n",
       "      <td>47.4</td>\n",
       "      <td>48.4</td>\n",
       "      <td>10.8</td>\n",
       "      <td>14.4</td>\n",
       "    </tr>\n",
       "    <tr>\n",
       "      <th>3</th>\n",
       "      <td>Benin</td>\n",
       "      <td>2016</td>\n",
       "      <td>13-15</td>\n",
       "      <td>Female</td>\n",
       "      <td>42.4</td>\n",
       "      <td>16.8</td>\n",
       "      <td>18.3</td>\n",
       "      <td>0.2</td>\n",
       "      <td>39.7</td>\n",
       "      <td>6.5</td>\n",
       "      <td>14.2</td>\n",
       "      <td>1.3</td>\n",
       "      <td>27.3</td>\n",
       "      <td>51.5</td>\n",
       "      <td>40.4</td>\n",
       "      <td>14.2</td>\n",
       "      <td>9.6</td>\n",
       "    </tr>\n",
       "    <tr>\n",
       "      <th>4</th>\n",
       "      <td>Benin</td>\n",
       "      <td>2016</td>\n",
       "      <td>16-17</td>\n",
       "      <td>Male</td>\n",
       "      <td>46.5</td>\n",
       "      <td>29.6</td>\n",
       "      <td>3.3</td>\n",
       "      <td>2.1</td>\n",
       "      <td>33.3</td>\n",
       "      <td>17.3</td>\n",
       "      <td>35.7</td>\n",
       "      <td>6.9</td>\n",
       "      <td>28.8</td>\n",
       "      <td>43.3</td>\n",
       "      <td>51.0</td>\n",
       "      <td>9.7</td>\n",
       "      <td>13.4</td>\n",
       "    </tr>\n",
       "    <tr>\n",
       "      <th>...</th>\n",
       "      <td>...</td>\n",
       "      <td>...</td>\n",
       "      <td>...</td>\n",
       "      <td>...</td>\n",
       "      <td>...</td>\n",
       "      <td>...</td>\n",
       "      <td>...</td>\n",
       "      <td>...</td>\n",
       "      <td>...</td>\n",
       "      <td>...</td>\n",
       "      <td>...</td>\n",
       "      <td>...</td>\n",
       "      <td>...</td>\n",
       "      <td>...</td>\n",
       "      <td>...</td>\n",
       "      <td>...</td>\n",
       "      <td>...</td>\n",
       "    </tr>\n",
       "    <tr>\n",
       "      <th>95</th>\n",
       "      <td>Vanuatu</td>\n",
       "      <td>2011</td>\n",
       "      <td>13-15</td>\n",
       "      <td>Female</td>\n",
       "      <td>5.8</td>\n",
       "      <td>4.7</td>\n",
       "      <td>13.6</td>\n",
       "      <td>1.9</td>\n",
       "      <td>20.2</td>\n",
       "      <td>44.6</td>\n",
       "      <td>8.4</td>\n",
       "      <td>8.2</td>\n",
       "      <td>41.8</td>\n",
       "      <td>66.5</td>\n",
       "      <td>57.4</td>\n",
       "      <td>14.3</td>\n",
       "      <td>19.5</td>\n",
       "    </tr>\n",
       "    <tr>\n",
       "      <th>96</th>\n",
       "      <td>Wallis and Futuna</td>\n",
       "      <td>2015</td>\n",
       "      <td>13-15</td>\n",
       "      <td>Male</td>\n",
       "      <td>32.2</td>\n",
       "      <td>35.5</td>\n",
       "      <td>60.5</td>\n",
       "      <td>4.0</td>\n",
       "      <td>36.3</td>\n",
       "      <td>32.7</td>\n",
       "      <td>32.0</td>\n",
       "      <td>25.7</td>\n",
       "      <td>48.7</td>\n",
       "      <td>30.2</td>\n",
       "      <td>51.2</td>\n",
       "      <td>4.1</td>\n",
       "      <td>14.7</td>\n",
       "    </tr>\n",
       "    <tr>\n",
       "      <th>97</th>\n",
       "      <td>Wallis and Futuna</td>\n",
       "      <td>2015</td>\n",
       "      <td>13-15</td>\n",
       "      <td>Female</td>\n",
       "      <td>24.4</td>\n",
       "      <td>27.1</td>\n",
       "      <td>63.0</td>\n",
       "      <td>2.0</td>\n",
       "      <td>36.3</td>\n",
       "      <td>16.2</td>\n",
       "      <td>13.6</td>\n",
       "      <td>29.9</td>\n",
       "      <td>22.9</td>\n",
       "      <td>30.9</td>\n",
       "      <td>41.7</td>\n",
       "      <td>3.3</td>\n",
       "      <td>16.9</td>\n",
       "    </tr>\n",
       "    <tr>\n",
       "      <th>98</th>\n",
       "      <td>Wallis and Futuna</td>\n",
       "      <td>2015</td>\n",
       "      <td>16-17</td>\n",
       "      <td>Male</td>\n",
       "      <td>48.3</td>\n",
       "      <td>53.7</td>\n",
       "      <td>57.8</td>\n",
       "      <td>10.1</td>\n",
       "      <td>36.5</td>\n",
       "      <td>38.9</td>\n",
       "      <td>55.7</td>\n",
       "      <td>40.0</td>\n",
       "      <td>49.6</td>\n",
       "      <td>23.6</td>\n",
       "      <td>54.5</td>\n",
       "      <td>7.3</td>\n",
       "      <td>9.0</td>\n",
       "    </tr>\n",
       "    <tr>\n",
       "      <th>99</th>\n",
       "      <td>Wallis and Futuna</td>\n",
       "      <td>2015</td>\n",
       "      <td>16-17</td>\n",
       "      <td>Female</td>\n",
       "      <td>42.9</td>\n",
       "      <td>51.7</td>\n",
       "      <td>70.6</td>\n",
       "      <td>3.9</td>\n",
       "      <td>37.8</td>\n",
       "      <td>37.2</td>\n",
       "      <td>22.4</td>\n",
       "      <td>41.7</td>\n",
       "      <td>17.3</td>\n",
       "      <td>29.4</td>\n",
       "      <td>30.4</td>\n",
       "      <td>1.5</td>\n",
       "      <td>16.2</td>\n",
       "    </tr>\n",
       "  </tbody>\n",
       "</table>\n",
       "<p>100 rows × 17 columns</p>\n",
       "</div>"
      ],
      "text/plain": [
       "               Country  Year Age Group     Sex  Currently_Drink_Alcohol  \\\n",
       "0            Argentina  2012     13-15    Male                     49.3   \n",
       "1            Argentina  2012     13-15  Female                     50.7   \n",
       "2                Benin  2016     13-15    Male                     38.0   \n",
       "3                Benin  2016     13-15  Female                     42.4   \n",
       "4                Benin  2016     16-17    Male                     46.5   \n",
       "..                 ...   ...       ...     ...                      ...   \n",
       "95            Vanuatu   2011     13-15  Female                      5.8   \n",
       "96  Wallis and Futuna   2015     13-15    Male                     32.2   \n",
       "97  Wallis and Futuna   2015     13-15  Female                     24.4   \n",
       "98  Wallis and Futuna   2015     16-17    Male                     48.3   \n",
       "99  Wallis and Futuna   2015     16-17  Female                     42.9   \n",
       "\n",
       "    Really_Get_Drunk  Overwieght  Use_Marijuana  Have_Understanding_Parents  \\\n",
       "0               28.9        35.9           10.6                        46.2   \n",
       "1               26.8        21.8            6.5                        49.9   \n",
       "2               19.3        12.7            0.8                        35.7   \n",
       "3               16.8        18.3            0.2                        39.7   \n",
       "4               29.6         3.3            2.1                        33.3   \n",
       "..               ...         ...            ...                         ...   \n",
       "95               4.7        13.6            1.9                        20.2   \n",
       "96              35.5        60.5            4.0                        36.3   \n",
       "97              27.1        63.0            2.0                        36.3   \n",
       "98              53.7        57.8           10.1                        36.5   \n",
       "99              51.7        70.6            3.9                        37.8   \n",
       "\n",
       "    Missed_classes_without_permssion  Had_sexual_relation  \\\n",
       "0                               32.0                 43.5   \n",
       "1                               29.4                 30.7   \n",
       "2                               18.8                 31.8   \n",
       "3                                6.5                 14.2   \n",
       "4                               17.3                 35.7   \n",
       "..                               ...                  ...   \n",
       "95                              44.6                  8.4   \n",
       "96                              32.7                 32.0   \n",
       "97                              16.2                 13.6   \n",
       "98                              38.9                 55.7   \n",
       "99                              37.2                 22.4   \n",
       "\n",
       "    Smoke_cig_currently  Had_fights  Bullied  Got_Seriously_injured  \\\n",
       "0                  17.0        44.2     42.1                   24.8   \n",
       "1                  20.5        24.7     25.2                   24.2   \n",
       "2                   5.1        32.1     47.4                   48.4   \n",
       "3                   1.3        27.3     51.5                   40.4   \n",
       "4                   6.9        28.8     43.3                   51.0   \n",
       "..                  ...         ...      ...                    ...   \n",
       "95                  8.2        41.8     66.5                   57.4   \n",
       "96                 25.7        48.7     30.2                   51.2   \n",
       "97                 29.9        22.9     30.9                   41.7   \n",
       "98                 40.0        49.6     23.6                   54.5   \n",
       "99                 41.7        17.3     29.4                   30.4   \n",
       "\n",
       "    No_close_friends  Attempted_suicide  \n",
       "0                6.1               12.9  \n",
       "1                4.3               18.9  \n",
       "2               10.8               14.4  \n",
       "3               14.2                9.6  \n",
       "4                9.7               13.4  \n",
       "..               ...                ...  \n",
       "95              14.3               19.5  \n",
       "96               4.1               14.7  \n",
       "97               3.3               16.9  \n",
       "98               7.3                9.0  \n",
       "99               1.5               16.2  \n",
       "\n",
       "[100 rows x 17 columns]"
      ]
     },
     "execution_count": 26,
     "metadata": {},
     "output_type": "execute_result"
    }
   ],
   "source": [
    "df.dropna(axis=0, inplace=True)\n",
    "df.reset_index(drop=True)"
   ]
  },
  {
   "cell_type": "code",
   "execution_count": 27,
   "id": "a9e02035-955b-4376-b9e3-235883095825",
   "metadata": {},
   "outputs": [
    {
     "data": {
      "text/plain": [
       "(100, 17)"
      ]
     },
     "execution_count": 27,
     "metadata": {},
     "output_type": "execute_result"
    }
   ],
   "source": [
    "df.shape"
   ]
  },
  {
   "cell_type": "code",
   "execution_count": 28,
   "id": "8fa27754-d4e0-4d88-aafa-81d462b75f35",
   "metadata": {},
   "outputs": [
    {
     "data": {
      "application/vnd.plotly.v1+json": {
       "config": {
        "plotlyServerURL": "https://plot.ly"
       },
       "data": [
        {
         "alignmentgroup": "True",
         "hovertemplate": "x=%{x}<br>y=%{y}<br>color=%{marker.color}<extra></extra>",
         "legendgroup": "",
         "marker": {
          "color": [
           34.38333333333333,
           30.65,
           25.825,
           22.75,
           18,
           17.925,
           17.200000000000003,
           17,
           15.899999999999999,
           14.5,
           14.2,
           13.425,
           12.875,
           12.7,
           12.075,
           11.225,
           10.9,
           9.950000000000001,
           9.725,
           9.25,
           9.100000000000001,
           8.775,
           6.6,
           6.125,
           5.275,
           3.6
          ],
          "coloraxis": "coloraxis",
          "pattern": {
           "shape": ""
          }
         },
         "name": "",
         "offsetgroup": "",
         "orientation": "v",
         "showlegend": false,
         "textposition": "auto",
         "type": "bar",
         "x": [
          "Samoa",
          "Kiribati",
          "Namibia",
          "Vanuatu ",
          "Seychelles",
          "Jamaica",
          "Dominican Republic ",
          "Peru",
          "Argentina",
          "Trinidad and Tobago ",
          "Wallis and Futuna ",
          "Suriname",
          "Benin",
          "Thailand",
          "Mauritus",
          "Bhutan",
          "Fiji Islands",
          "Tuvalu ",
          "Nepal",
          "Mongolia",
          "Uruguay ",
          "Timor-Leste ",
          "Malaysia",
          "Brunei Darussalam ",
          "Laos",
          "Indonesia"
         ],
         "xaxis": "x",
         "y": [
          34.38333333333333,
          30.65,
          25.825,
          22.75,
          18,
          17.925,
          17.200000000000003,
          17,
          15.899999999999999,
          14.5,
          14.2,
          13.425,
          12.875,
          12.7,
          12.075,
          11.225,
          10.9,
          9.950000000000001,
          9.725,
          9.25,
          9.100000000000001,
          8.775,
          6.6,
          6.125,
          5.275,
          3.6
         ],
         "yaxis": "y"
        }
       ],
       "layout": {
        "barmode": "relative",
        "coloraxis": {
         "colorbar": {
          "title": {
           "text": "color"
          }
         },
         "colorscale": [
          [
           0,
           "rgb(230, 240, 240)"
          ],
          [
           0.09090909090909091,
           "rgb(191, 221, 229)"
          ],
          [
           0.18181818181818182,
           "rgb(156, 201, 226)"
          ],
          [
           0.2727272727272727,
           "rgb(129, 180, 227)"
          ],
          [
           0.36363636363636365,
           "rgb(115, 154, 228)"
          ],
          [
           0.45454545454545453,
           "rgb(117, 127, 221)"
          ],
          [
           0.5454545454545454,
           "rgb(120, 100, 202)"
          ],
          [
           0.6363636363636364,
           "rgb(119, 74, 175)"
          ],
          [
           0.7272727272727273,
           "rgb(113, 50, 141)"
          ],
          [
           0.8181818181818182,
           "rgb(100, 31, 104)"
          ],
          [
           0.9090909090909091,
           "rgb(80, 20, 66)"
          ],
          [
           1,
           "rgb(54, 14, 36)"
          ]
         ]
        },
        "height": 500,
        "legend": {
         "tracegroupgap": 0
        },
        "margin": {
         "t": 60
        },
        "template": {
         "data": {
          "bar": [
           {
            "error_x": {
             "color": "#2a3f5f"
            },
            "error_y": {
             "color": "#2a3f5f"
            },
            "marker": {
             "line": {
              "color": "#E5ECF6",
              "width": 0.5
             },
             "pattern": {
              "fillmode": "overlay",
              "size": 10,
              "solidity": 0.2
             }
            },
            "type": "bar"
           }
          ],
          "barpolar": [
           {
            "marker": {
             "line": {
              "color": "#E5ECF6",
              "width": 0.5
             },
             "pattern": {
              "fillmode": "overlay",
              "size": 10,
              "solidity": 0.2
             }
            },
            "type": "barpolar"
           }
          ],
          "carpet": [
           {
            "aaxis": {
             "endlinecolor": "#2a3f5f",
             "gridcolor": "white",
             "linecolor": "white",
             "minorgridcolor": "white",
             "startlinecolor": "#2a3f5f"
            },
            "baxis": {
             "endlinecolor": "#2a3f5f",
             "gridcolor": "white",
             "linecolor": "white",
             "minorgridcolor": "white",
             "startlinecolor": "#2a3f5f"
            },
            "type": "carpet"
           }
          ],
          "choropleth": [
           {
            "colorbar": {
             "outlinewidth": 0,
             "ticks": ""
            },
            "type": "choropleth"
           }
          ],
          "contour": [
           {
            "colorbar": {
             "outlinewidth": 0,
             "ticks": ""
            },
            "colorscale": [
             [
              0,
              "#0d0887"
             ],
             [
              0.1111111111111111,
              "#46039f"
             ],
             [
              0.2222222222222222,
              "#7201a8"
             ],
             [
              0.3333333333333333,
              "#9c179e"
             ],
             [
              0.4444444444444444,
              "#bd3786"
             ],
             [
              0.5555555555555556,
              "#d8576b"
             ],
             [
              0.6666666666666666,
              "#ed7953"
             ],
             [
              0.7777777777777778,
              "#fb9f3a"
             ],
             [
              0.8888888888888888,
              "#fdca26"
             ],
             [
              1,
              "#f0f921"
             ]
            ],
            "type": "contour"
           }
          ],
          "contourcarpet": [
           {
            "colorbar": {
             "outlinewidth": 0,
             "ticks": ""
            },
            "type": "contourcarpet"
           }
          ],
          "heatmap": [
           {
            "colorbar": {
             "outlinewidth": 0,
             "ticks": ""
            },
            "colorscale": [
             [
              0,
              "#0d0887"
             ],
             [
              0.1111111111111111,
              "#46039f"
             ],
             [
              0.2222222222222222,
              "#7201a8"
             ],
             [
              0.3333333333333333,
              "#9c179e"
             ],
             [
              0.4444444444444444,
              "#bd3786"
             ],
             [
              0.5555555555555556,
              "#d8576b"
             ],
             [
              0.6666666666666666,
              "#ed7953"
             ],
             [
              0.7777777777777778,
              "#fb9f3a"
             ],
             [
              0.8888888888888888,
              "#fdca26"
             ],
             [
              1,
              "#f0f921"
             ]
            ],
            "type": "heatmap"
           }
          ],
          "heatmapgl": [
           {
            "colorbar": {
             "outlinewidth": 0,
             "ticks": ""
            },
            "colorscale": [
             [
              0,
              "#0d0887"
             ],
             [
              0.1111111111111111,
              "#46039f"
             ],
             [
              0.2222222222222222,
              "#7201a8"
             ],
             [
              0.3333333333333333,
              "#9c179e"
             ],
             [
              0.4444444444444444,
              "#bd3786"
             ],
             [
              0.5555555555555556,
              "#d8576b"
             ],
             [
              0.6666666666666666,
              "#ed7953"
             ],
             [
              0.7777777777777778,
              "#fb9f3a"
             ],
             [
              0.8888888888888888,
              "#fdca26"
             ],
             [
              1,
              "#f0f921"
             ]
            ],
            "type": "heatmapgl"
           }
          ],
          "histogram": [
           {
            "marker": {
             "pattern": {
              "fillmode": "overlay",
              "size": 10,
              "solidity": 0.2
             }
            },
            "type": "histogram"
           }
          ],
          "histogram2d": [
           {
            "colorbar": {
             "outlinewidth": 0,
             "ticks": ""
            },
            "colorscale": [
             [
              0,
              "#0d0887"
             ],
             [
              0.1111111111111111,
              "#46039f"
             ],
             [
              0.2222222222222222,
              "#7201a8"
             ],
             [
              0.3333333333333333,
              "#9c179e"
             ],
             [
              0.4444444444444444,
              "#bd3786"
             ],
             [
              0.5555555555555556,
              "#d8576b"
             ],
             [
              0.6666666666666666,
              "#ed7953"
             ],
             [
              0.7777777777777778,
              "#fb9f3a"
             ],
             [
              0.8888888888888888,
              "#fdca26"
             ],
             [
              1,
              "#f0f921"
             ]
            ],
            "type": "histogram2d"
           }
          ],
          "histogram2dcontour": [
           {
            "colorbar": {
             "outlinewidth": 0,
             "ticks": ""
            },
            "colorscale": [
             [
              0,
              "#0d0887"
             ],
             [
              0.1111111111111111,
              "#46039f"
             ],
             [
              0.2222222222222222,
              "#7201a8"
             ],
             [
              0.3333333333333333,
              "#9c179e"
             ],
             [
              0.4444444444444444,
              "#bd3786"
             ],
             [
              0.5555555555555556,
              "#d8576b"
             ],
             [
              0.6666666666666666,
              "#ed7953"
             ],
             [
              0.7777777777777778,
              "#fb9f3a"
             ],
             [
              0.8888888888888888,
              "#fdca26"
             ],
             [
              1,
              "#f0f921"
             ]
            ],
            "type": "histogram2dcontour"
           }
          ],
          "mesh3d": [
           {
            "colorbar": {
             "outlinewidth": 0,
             "ticks": ""
            },
            "type": "mesh3d"
           }
          ],
          "parcoords": [
           {
            "line": {
             "colorbar": {
              "outlinewidth": 0,
              "ticks": ""
             }
            },
            "type": "parcoords"
           }
          ],
          "pie": [
           {
            "automargin": true,
            "type": "pie"
           }
          ],
          "scatter": [
           {
            "marker": {
             "colorbar": {
              "outlinewidth": 0,
              "ticks": ""
             }
            },
            "type": "scatter"
           }
          ],
          "scatter3d": [
           {
            "line": {
             "colorbar": {
              "outlinewidth": 0,
              "ticks": ""
             }
            },
            "marker": {
             "colorbar": {
              "outlinewidth": 0,
              "ticks": ""
             }
            },
            "type": "scatter3d"
           }
          ],
          "scattercarpet": [
           {
            "marker": {
             "colorbar": {
              "outlinewidth": 0,
              "ticks": ""
             }
            },
            "type": "scattercarpet"
           }
          ],
          "scattergeo": [
           {
            "marker": {
             "colorbar": {
              "outlinewidth": 0,
              "ticks": ""
             }
            },
            "type": "scattergeo"
           }
          ],
          "scattergl": [
           {
            "marker": {
             "colorbar": {
              "outlinewidth": 0,
              "ticks": ""
             }
            },
            "type": "scattergl"
           }
          ],
          "scattermapbox": [
           {
            "marker": {
             "colorbar": {
              "outlinewidth": 0,
              "ticks": ""
             }
            },
            "type": "scattermapbox"
           }
          ],
          "scatterpolar": [
           {
            "marker": {
             "colorbar": {
              "outlinewidth": 0,
              "ticks": ""
             }
            },
            "type": "scatterpolar"
           }
          ],
          "scatterpolargl": [
           {
            "marker": {
             "colorbar": {
              "outlinewidth": 0,
              "ticks": ""
             }
            },
            "type": "scatterpolargl"
           }
          ],
          "scatterternary": [
           {
            "marker": {
             "colorbar": {
              "outlinewidth": 0,
              "ticks": ""
             }
            },
            "type": "scatterternary"
           }
          ],
          "surface": [
           {
            "colorbar": {
             "outlinewidth": 0,
             "ticks": ""
            },
            "colorscale": [
             [
              0,
              "#0d0887"
             ],
             [
              0.1111111111111111,
              "#46039f"
             ],
             [
              0.2222222222222222,
              "#7201a8"
             ],
             [
              0.3333333333333333,
              "#9c179e"
             ],
             [
              0.4444444444444444,
              "#bd3786"
             ],
             [
              0.5555555555555556,
              "#d8576b"
             ],
             [
              0.6666666666666666,
              "#ed7953"
             ],
             [
              0.7777777777777778,
              "#fb9f3a"
             ],
             [
              0.8888888888888888,
              "#fdca26"
             ],
             [
              1,
              "#f0f921"
             ]
            ],
            "type": "surface"
           }
          ],
          "table": [
           {
            "cells": {
             "fill": {
              "color": "#EBF0F8"
             },
             "line": {
              "color": "white"
             }
            },
            "header": {
             "fill": {
              "color": "#C8D4E3"
             },
             "line": {
              "color": "white"
             }
            },
            "type": "table"
           }
          ]
         },
         "layout": {
          "annotationdefaults": {
           "arrowcolor": "#2a3f5f",
           "arrowhead": 0,
           "arrowwidth": 1
          },
          "autotypenumbers": "strict",
          "coloraxis": {
           "colorbar": {
            "outlinewidth": 0,
            "ticks": ""
           }
          },
          "colorscale": {
           "diverging": [
            [
             0,
             "#8e0152"
            ],
            [
             0.1,
             "#c51b7d"
            ],
            [
             0.2,
             "#de77ae"
            ],
            [
             0.3,
             "#f1b6da"
            ],
            [
             0.4,
             "#fde0ef"
            ],
            [
             0.5,
             "#f7f7f7"
            ],
            [
             0.6,
             "#e6f5d0"
            ],
            [
             0.7,
             "#b8e186"
            ],
            [
             0.8,
             "#7fbc41"
            ],
            [
             0.9,
             "#4d9221"
            ],
            [
             1,
             "#276419"
            ]
           ],
           "sequential": [
            [
             0,
             "#0d0887"
            ],
            [
             0.1111111111111111,
             "#46039f"
            ],
            [
             0.2222222222222222,
             "#7201a8"
            ],
            [
             0.3333333333333333,
             "#9c179e"
            ],
            [
             0.4444444444444444,
             "#bd3786"
            ],
            [
             0.5555555555555556,
             "#d8576b"
            ],
            [
             0.6666666666666666,
             "#ed7953"
            ],
            [
             0.7777777777777778,
             "#fb9f3a"
            ],
            [
             0.8888888888888888,
             "#fdca26"
            ],
            [
             1,
             "#f0f921"
            ]
           ],
           "sequentialminus": [
            [
             0,
             "#0d0887"
            ],
            [
             0.1111111111111111,
             "#46039f"
            ],
            [
             0.2222222222222222,
             "#7201a8"
            ],
            [
             0.3333333333333333,
             "#9c179e"
            ],
            [
             0.4444444444444444,
             "#bd3786"
            ],
            [
             0.5555555555555556,
             "#d8576b"
            ],
            [
             0.6666666666666666,
             "#ed7953"
            ],
            [
             0.7777777777777778,
             "#fb9f3a"
            ],
            [
             0.8888888888888888,
             "#fdca26"
            ],
            [
             1,
             "#f0f921"
            ]
           ]
          },
          "colorway": [
           "#636efa",
           "#EF553B",
           "#00cc96",
           "#ab63fa",
           "#FFA15A",
           "#19d3f3",
           "#FF6692",
           "#B6E880",
           "#FF97FF",
           "#FECB52"
          ],
          "font": {
           "color": "#2a3f5f"
          },
          "geo": {
           "bgcolor": "white",
           "lakecolor": "white",
           "landcolor": "#E5ECF6",
           "showlakes": true,
           "showland": true,
           "subunitcolor": "white"
          },
          "hoverlabel": {
           "align": "left"
          },
          "hovermode": "closest",
          "mapbox": {
           "style": "light"
          },
          "paper_bgcolor": "white",
          "plot_bgcolor": "#E5ECF6",
          "polar": {
           "angularaxis": {
            "gridcolor": "white",
            "linecolor": "white",
            "ticks": ""
           },
           "bgcolor": "#E5ECF6",
           "radialaxis": {
            "gridcolor": "white",
            "linecolor": "white",
            "ticks": ""
           }
          },
          "scene": {
           "xaxis": {
            "backgroundcolor": "#E5ECF6",
            "gridcolor": "white",
            "gridwidth": 2,
            "linecolor": "white",
            "showbackground": true,
            "ticks": "",
            "zerolinecolor": "white"
           },
           "yaxis": {
            "backgroundcolor": "#E5ECF6",
            "gridcolor": "white",
            "gridwidth": 2,
            "linecolor": "white",
            "showbackground": true,
            "ticks": "",
            "zerolinecolor": "white"
           },
           "zaxis": {
            "backgroundcolor": "#E5ECF6",
            "gridcolor": "white",
            "gridwidth": 2,
            "linecolor": "white",
            "showbackground": true,
            "ticks": "",
            "zerolinecolor": "white"
           }
          },
          "shapedefaults": {
           "line": {
            "color": "#2a3f5f"
           }
          },
          "ternary": {
           "aaxis": {
            "gridcolor": "white",
            "linecolor": "white",
            "ticks": ""
           },
           "baxis": {
            "gridcolor": "white",
            "linecolor": "white",
            "ticks": ""
           },
           "bgcolor": "#E5ECF6",
           "caxis": {
            "gridcolor": "white",
            "linecolor": "white",
            "ticks": ""
           }
          },
          "title": {
           "x": 0.05
          },
          "xaxis": {
           "automargin": true,
           "gridcolor": "white",
           "linecolor": "white",
           "ticks": "",
           "title": {
            "standoff": 15
           },
           "zerolinecolor": "white",
           "zerolinewidth": 2
          },
          "yaxis": {
           "automargin": true,
           "gridcolor": "white",
           "linecolor": "white",
           "ticks": "",
           "title": {
            "standoff": 15
           },
           "zerolinecolor": "white",
           "zerolinewidth": 2
          }
         }
        },
        "title": {
         "text": "Suicide rates by Country"
        },
        "width": 850,
        "xaxis": {
         "anchor": "y",
         "autorange": true,
         "domain": [
          0,
          1
         ],
         "range": [
          -0.5,
          25.5
         ],
         "title": {
          "text": "Country"
         },
         "type": "category"
        },
        "yaxis": {
         "anchor": "x",
         "autorange": true,
         "domain": [
          0,
          1
         ],
         "range": [
          0,
          36.19298245614035
         ],
         "title": {
          "text": "Suicide rate"
         },
         "type": "linear"
        }
       }
      },
      "image/png": "[encoded data removed]",
      "text/html": [
       "<div>                            <div id=\"dfb191f7-3c36-44da-a59d-a123a1cabca4\" class=\"plotly-graph-div\" style=\"height:500px; width:850px;\"></div>            <script type=\"text/javascript\">                require([\"plotly\"], function(Plotly) {                    window.PLOTLYENV=window.PLOTLYENV || {};                                    if (document.getElementById(\"dfb191f7-3c36-44da-a59d-a123a1cabca4\")) {                    Plotly.newPlot(                        \"dfb191f7-3c36-44da-a59d-a123a1cabca4\",                        [{\"alignmentgroup\":\"True\",\"hovertemplate\":\"x=%{x}<br>y=%{y}<br>color=%{marker.color}<extra></extra>\",\"legendgroup\":\"\",\"marker\":{\"color\":[34.38333333333333,30.65,25.825,22.75,18.0,17.925,17.200000000000003,17.0,15.899999999999999,14.5,14.2,13.425,12.875,12.7,12.075,11.225,10.9,9.950000000000001,9.725,9.25,9.100000000000001,8.775,6.6,6.125,5.275,3.6],\"coloraxis\":\"coloraxis\",\"pattern\":{\"shape\":\"\"}},\"name\":\"\",\"offsetgroup\":\"\",\"orientation\":\"v\",\"showlegend\":false,\"textposition\":\"auto\",\"x\":[\"Samoa\",\"Kiribati\",\"Namibia\",\"Vanuatu \",\"Seychelles\",\"Jamaica\",\"Dominican Republic \",\"Peru\",\"Argentina\",\"Trinidad and Tobago \",\"Wallis and Futuna \",\"Suriname\",\"Benin\",\"Thailand\",\"Mauritus\",\"Bhutan\",\"Fiji Islands\",\"Tuvalu \",\"Nepal\",\"Mongolia\",\"Uruguay \",\"Timor-Leste \",\"Malaysia\",\"Brunei Darussalam \",\"Laos\",\"Indonesia\"],\"xaxis\":\"x\",\"y\":[34.38333333333333,30.65,25.825,22.75,18.0,17.925,17.200000000000003,17.0,15.899999999999999,14.5,14.2,13.425,12.875,12.7,12.075,11.225,10.9,9.950000000000001,9.725,9.25,9.100000000000001,8.775,6.6,6.125,5.275,3.6],\"yaxis\":\"y\",\"type\":\"bar\"}],                        {\"template\":{\"data\":{\"bar\":[{\"error_x\":{\"color\":\"#2a3f5f\"},\"error_y\":{\"color\":\"#2a3f5f\"},\"marker\":{\"line\":{\"color\":\"#E5ECF6\",\"width\":0.5},\"pattern\":{\"fillmode\":\"overlay\",\"size\":10,\"solidity\":0.2}},\"type\":\"bar\"}],\"barpolar\":[{\"marker\":{\"line\":{\"color\":\"#E5ECF6\",\"width\":0.5},\"pattern\":{\"fillmode\":\"overlay\",\"size\":10,\"solidity\":0.2}},\"type\":\"barpolar\"}],\"carpet\":[{\"aaxis\":{\"endlinecolor\":\"#2a3f5f\",\"gridcolor\":\"white\",\"linecolor\":\"white\",\"minorgridcolor\":\"white\",\"startlinecolor\":\"#2a3f5f\"},\"baxis\":{\"endlinecolor\":\"#2a3f5f\",\"gridcolor\":\"white\",\"linecolor\":\"white\",\"minorgridcolor\":\"white\",\"startlinecolor\":\"#2a3f5f\"},\"type\":\"carpet\"}],\"choropleth\":[{\"colorbar\":{\"outlinewidth\":0,\"ticks\":\"\"},\"type\":\"choropleth\"}],\"contour\":[{\"colorbar\":{\"outlinewidth\":0,\"ticks\":\"\"},\"colorscale\":[[0.0,\"#0d0887\"],[0.1111111111111111,\"#46039f\"],[0.2222222222222222,\"#7201a8\"],[0.3333333333333333,\"#9c179e\"],[0.4444444444444444,\"#bd3786\"],[0.5555555555555556,\"#d8576b\"],[0.6666666666666666,\"#ed7953\"],[0.7777777777777778,\"#fb9f3a\"],[0.8888888888888888,\"#fdca26\"],[1.0,\"#f0f921\"]],\"type\":\"contour\"}],\"contourcarpet\":[{\"colorbar\":{\"outlinewidth\":0,\"ticks\":\"\"},\"type\":\"contourcarpet\"}],\"heatmap\":[{\"colorbar\":{\"outlinewidth\":0,\"ticks\":\"\"},\"colorscale\":[[0.0,\"#0d0887\"],[0.1111111111111111,\"#46039f\"],[0.2222222222222222,\"#7201a8\"],[0.3333333333333333,\"#9c179e\"],[0.4444444444444444,\"#bd3786\"],[0.5555555555555556,\"#d8576b\"],[0.6666666666666666,\"#ed7953\"],[0.7777777777777778,\"#fb9f3a\"],[0.8888888888888888,\"#fdca26\"],[1.0,\"#f0f921\"]],\"type\":\"heatmap\"}],\"heatmapgl\":[{\"colorbar\":{\"outlinewidth\":0,\"ticks\":\"\"},\"colorscale\":[[0.0,\"#0d0887\"],[0.1111111111111111,\"#46039f\"],[0.2222222222222222,\"#7201a8\"],[0.3333333333333333,\"#9c179e\"],[0.4444444444444444,\"#bd3786\"],[0.5555555555555556,\"#d8576b\"],[0.6666666666666666,\"#ed7953\"],[0.7777777777777778,\"#fb9f3a\"],[0.8888888888888888,\"#fdca26\"],[1.0,\"#f0f921\"]],\"type\":\"heatmapgl\"}],\"histogram\":[{\"marker\":{\"pattern\":{\"fillmode\":\"overlay\",\"size\":10,\"solidity\":0.2}},\"type\":\"histogram\"}],\"histogram2d\":[{\"colorbar\":{\"outlinewidth\":0,\"ticks\":\"\"},\"colorscale\":[[0.0,\"#0d0887\"],[0.1111111111111111,\"#46039f\"],[0.2222222222222222,\"#7201a8\"],[0.3333333333333333,\"#9c179e\"],[0.4444444444444444,\"#bd3786\"],[0.5555555555555556,\"#d8576b\"],[0.6666666666666666,\"#ed7953\"],[0.7777777777777778,\"#fb9f3a\"],[0.8888888888888888,\"#fdca26\"],[1.0,\"#f0f921\"]],\"type\":\"histogram2d\"}],\"histogram2dcontour\":[{\"colorbar\":{\"outlinewidth\":0,\"ticks\":\"\"},\"colorscale\":[[0.0,\"#0d0887\"],[0.1111111111111111,\"#46039f\"],[0.2222222222222222,\"#7201a8\"],[0.3333333333333333,\"#9c179e\"],[0.4444444444444444,\"#bd3786\"],[0.5555555555555556,\"#d8576b\"],[0.6666666666666666,\"#ed7953\"],[0.7777777777777778,\"#fb9f3a\"],[0.8888888888888888,\"#fdca26\"],[1.0,\"#f0f921\"]],\"type\":\"histogram2dcontour\"}],\"mesh3d\":[{\"colorbar\":{\"outlinewidth\":0,\"ticks\":\"\"},\"type\":\"mesh3d\"}],\"parcoords\":[{\"line\":{\"colorbar\":{\"outlinewidth\":0,\"ticks\":\"\"}},\"type\":\"parcoords\"}],\"pie\":[{\"automargin\":true,\"type\":\"pie\"}],\"scatter\":[{\"marker\":{\"colorbar\":{\"outlinewidth\":0,\"ticks\":\"\"}},\"type\":\"scatter\"}],\"scatter3d\":[{\"line\":{\"colorbar\":{\"outlinewidth\":0,\"ticks\":\"\"}},\"marker\":{\"colorbar\":{\"outlinewidth\":0,\"ticks\":\"\"}},\"type\":\"scatter3d\"}],\"scattercarpet\":[{\"marker\":{\"colorbar\":{\"outlinewidth\":0,\"ticks\":\"\"}},\"type\":\"scattercarpet\"}],\"scattergeo\":[{\"marker\":{\"colorbar\":{\"outlinewidth\":0,\"ticks\":\"\"}},\"type\":\"scattergeo\"}],\"scattergl\":[{\"marker\":{\"colorbar\":{\"outlinewidth\":0,\"ticks\":\"\"}},\"type\":\"scattergl\"}],\"scattermapbox\":[{\"marker\":{\"colorbar\":{\"outlinewidth\":0,\"ticks\":\"\"}},\"type\":\"scattermapbox\"}],\"scatterpolar\":[{\"marker\":{\"colorbar\":{\"outlinewidth\":0,\"ticks\":\"\"}},\"type\":\"scatterpolar\"}],\"scatterpolargl\":[{\"marker\":{\"colorbar\":{\"outlinewidth\":0,\"ticks\":\"\"}},\"type\":\"scatterpolargl\"}],\"scatterternary\":[{\"marker\":{\"colorbar\":{\"outlinewidth\":0,\"ticks\":\"\"}},\"type\":\"scatterternary\"}],\"surface\":[{\"colorbar\":{\"outlinewidth\":0,\"ticks\":\"\"},\"colorscale\":[[0.0,\"#0d0887\"],[0.1111111111111111,\"#46039f\"],[0.2222222222222222,\"#7201a8\"],[0.3333333333333333,\"#9c179e\"],[0.4444444444444444,\"#bd3786\"],[0.5555555555555556,\"#d8576b\"],[0.6666666666666666,\"#ed7953\"],[0.7777777777777778,\"#fb9f3a\"],[0.8888888888888888,\"#fdca26\"],[1.0,\"#f0f921\"]],\"type\":\"surface\"}],\"table\":[{\"cells\":{\"fill\":{\"color\":\"#EBF0F8\"},\"line\":{\"color\":\"white\"}},\"header\":{\"fill\":{\"color\":\"#C8D4E3\"},\"line\":{\"color\":\"white\"}},\"type\":\"table\"}]},\"layout\":{\"annotationdefaults\":{\"arrowcolor\":\"#2a3f5f\",\"arrowhead\":0,\"arrowwidth\":1},\"autotypenumbers\":\"strict\",\"coloraxis\":{\"colorbar\":{\"outlinewidth\":0,\"ticks\":\"\"}},\"colorscale\":{\"diverging\":[[0,\"#8e0152\"],[0.1,\"#c51b7d\"],[0.2,\"#de77ae\"],[0.3,\"#f1b6da\"],[0.4,\"#fde0ef\"],[0.5,\"#f7f7f7\"],[0.6,\"#e6f5d0\"],[0.7,\"#b8e186\"],[0.8,\"#7fbc41\"],[0.9,\"#4d9221\"],[1,\"#276419\"]],\"sequential\":[[0.0,\"#0d0887\"],[0.1111111111111111,\"#46039f\"],[0.2222222222222222,\"#7201a8\"],[0.3333333333333333,\"#9c179e\"],[0.4444444444444444,\"#bd3786\"],[0.5555555555555556,\"#d8576b\"],[0.6666666666666666,\"#ed7953\"],[0.7777777777777778,\"#fb9f3a\"],[0.8888888888888888,\"#fdca26\"],[1.0,\"#f0f921\"]],\"sequentialminus\":[[0.0,\"#0d0887\"],[0.1111111111111111,\"#46039f\"],[0.2222222222222222,\"#7201a8\"],[0.3333333333333333,\"#9c179e\"],[0.4444444444444444,\"#bd3786\"],[0.5555555555555556,\"#d8576b\"],[0.6666666666666666,\"#ed7953\"],[0.7777777777777778,\"#fb9f3a\"],[0.8888888888888888,\"#fdca26\"],[1.0,\"#f0f921\"]]},\"colorway\":[\"#636efa\",\"#EF553B\",\"#00cc96\",\"#ab63fa\",\"#FFA15A\",\"#19d3f3\",\"#FF6692\",\"#B6E880\",\"#FF97FF\",\"#FECB52\"],\"font\":{\"color\":\"#2a3f5f\"},\"geo\":{\"bgcolor\":\"white\",\"lakecolor\":\"white\",\"landcolor\":\"#E5ECF6\",\"showlakes\":true,\"showland\":true,\"subunitcolor\":\"white\"},\"hoverlabel\":{\"align\":\"left\"},\"hovermode\":\"closest\",\"mapbox\":{\"style\":\"light\"},\"paper_bgcolor\":\"white\",\"plot_bgcolor\":\"#E5ECF6\",\"polar\":{\"angularaxis\":{\"gridcolor\":\"white\",\"linecolor\":\"white\",\"ticks\":\"\"},\"bgcolor\":\"#E5ECF6\",\"radialaxis\":{\"gridcolor\":\"white\",\"linecolor\":\"white\",\"ticks\":\"\"}},\"scene\":{\"xaxis\":{\"backgroundcolor\":\"#E5ECF6\",\"gridcolor\":\"white\",\"gridwidth\":2,\"linecolor\":\"white\",\"showbackground\":true,\"ticks\":\"\",\"zerolinecolor\":\"white\"},\"yaxis\":{\"backgroundcolor\":\"#E5ECF6\",\"gridcolor\":\"white\",\"gridwidth\":2,\"linecolor\":\"white\",\"showbackground\":true,\"ticks\":\"\",\"zerolinecolor\":\"white\"},\"zaxis\":{\"backgroundcolor\":\"#E5ECF6\",\"gridcolor\":\"white\",\"gridwidth\":2,\"linecolor\":\"white\",\"showbackground\":true,\"ticks\":\"\",\"zerolinecolor\":\"white\"}},\"shapedefaults\":{\"line\":{\"color\":\"#2a3f5f\"}},\"ternary\":{\"aaxis\":{\"gridcolor\":\"white\",\"linecolor\":\"white\",\"ticks\":\"\"},\"baxis\":{\"gridcolor\":\"white\",\"linecolor\":\"white\",\"ticks\":\"\"},\"bgcolor\":\"#E5ECF6\",\"caxis\":{\"gridcolor\":\"white\",\"linecolor\":\"white\",\"ticks\":\"\"}},\"title\":{\"x\":0.05},\"xaxis\":{\"automargin\":true,\"gridcolor\":\"white\",\"linecolor\":\"white\",\"ticks\":\"\",\"title\":{\"standoff\":15},\"zerolinecolor\":\"white\",\"zerolinewidth\":2},\"yaxis\":{\"automargin\":true,\"gridcolor\":\"white\",\"linecolor\":\"white\",\"ticks\":\"\",\"title\":{\"standoff\":15},\"zerolinecolor\":\"white\",\"zerolinewidth\":2}}},\"xaxis\":{\"anchor\":\"y\",\"domain\":[0.0,1.0],\"title\":{\"text\":\"Country\"}},\"yaxis\":{\"anchor\":\"x\",\"domain\":[0.0,1.0],\"title\":{\"text\":\"Suicide rate\"}},\"coloraxis\":{\"colorbar\":{\"title\":{\"text\":\"color\"}},\"colorscale\":[[0.0,\"rgb(230, 240, 240)\"],[0.09090909090909091,\"rgb(191, 221, 229)\"],[0.18181818181818182,\"rgb(156, 201, 226)\"],[0.2727272727272727,\"rgb(129, 180, 227)\"],[0.36363636363636365,\"rgb(115, 154, 228)\"],[0.45454545454545453,\"rgb(117, 127, 221)\"],[0.5454545454545454,\"rgb(120, 100, 202)\"],[0.6363636363636364,\"rgb(119, 74, 175)\"],[0.7272727272727273,\"rgb(113, 50, 141)\"],[0.8181818181818182,\"rgb(100, 31, 104)\"],[0.9090909090909091,\"rgb(80, 20, 66)\"],[1.0,\"rgb(54, 14, 36)\"]]},\"legend\":{\"tracegroupgap\":0},\"margin\":{\"t\":60},\"barmode\":\"relative\",\"title\":{\"text\":\"Suicide rates by Country\"},\"width\":850,\"height\":500},                        {\"responsive\": true}                    ).then(function(){\n",
       "                            \n",
       "var gd = document.getElementById('dfb191f7-3c36-44da-a59d-a123a1cabca4');\n",
       "var x = new MutationObserver(function (mutations, observer) {{\n",
       "        var display = window.getComputedStyle(gd).display;\n",
       "        if (!display || display === 'none') {{\n",
       "            console.log([gd, 'removed!']);\n",
       "            Plotly.purge(gd);\n",
       "            observer.disconnect();\n",
       "        }}\n",
       "}});\n",
       "\n",
       "// Listen for the removal of the full notebook cells\n",
       "var notebookContainer = gd.closest('#notebook-container');\n",
       "if (notebookContainer) {{\n",
       "    x.observe(notebookContainer, {childList: true});\n",
       "}}\n",
       "\n",
       "// Listen for the clearing of the current output cell\n",
       "var outputEl = gd.closest('.output');\n",
       "if (outputEl) {{\n",
       "    x.observe(outputEl, {childList: true});\n",
       "}}\n",
       "\n",
       "                        })                };                });            </script>        </div>"
      ]
     },
     "metadata": {},
     "output_type": "display_data"
    }
   ],
   "source": [
    "df_mean = df.groupby('Country')[['Attempted_suicide']].mean().sort_values('Attempted_suicide', ascending=False)\n",
    "fig_bar = plx.bar(x=df_mean.index, y=df_mean[\"Attempted_suicide\"], color = df_mean.Attempted_suicide, color_continuous_scale='dense')\n",
    "fig_bar.update_layout(width = 850, height = 500, title_text=\"Suicide rates by Country\")\n",
    "fig_bar.update_xaxes(title = 'Country')\n",
    "fig_bar.update_yaxes(title = 'Suicide rate')\n",
    "fig_bar.show()"
   ]
  },
  {
   "cell_type": "code",
   "execution_count": 29,
   "id": "512bd4d9-7cf5-4cbe-849d-48a129305651",
   "metadata": {},
   "outputs": [
    {
     "data": {
      "text/html": [
       "<div>\n",
       "<style scoped>\n",
       "    .dataframe tbody tr th:only-of-type {\n",
       "        vertical-align: middle;\n",
       "    }\n",
       "\n",
       "    .dataframe tbody tr th {\n",
       "        vertical-align: top;\n",
       "    }\n",
       "\n",
       "    .dataframe thead th {\n",
       "        text-align: right;\n",
       "    }\n",
       "</style>\n",
       "<table border=\"1\" class=\"dataframe\">\n",
       "  <thead>\n",
       "    <tr style=\"text-align: right;\">\n",
       "      <th></th>\n",
       "      <th>Attempted_suicide</th>\n",
       "    </tr>\n",
       "    <tr>\n",
       "      <th>Sex</th>\n",
       "      <th></th>\n",
       "    </tr>\n",
       "  </thead>\n",
       "  <tbody>\n",
       "    <tr>\n",
       "      <th>Female</th>\n",
       "      <td>14.976</td>\n",
       "    </tr>\n",
       "    <tr>\n",
       "      <th>Male</th>\n",
       "      <td>13.970</td>\n",
       "    </tr>\n",
       "  </tbody>\n",
       "</table>\n",
       "</div>"
      ],
      "text/plain": [
       "        Attempted_suicide\n",
       "Sex                      \n",
       "Female             14.976\n",
       "Male               13.970"
      ]
     },
     "execution_count": 29,
     "metadata": {},
     "output_type": "execute_result"
    }
   ],
   "source": [
    "df.groupby('Sex')[['Attempted_suicide']].mean()"
   ]
  },
  {
   "cell_type": "code",
   "execution_count": 30,
   "id": "fad7763b-a5f6-421e-b4aa-b8872c75881b",
   "metadata": {},
   "outputs": [
    {
     "data": {
      "text/html": [
       "<div>\n",
       "<style scoped>\n",
       "    .dataframe tbody tr th:only-of-type {\n",
       "        vertical-align: middle;\n",
       "    }\n",
       "\n",
       "    .dataframe tbody tr th {\n",
       "        vertical-align: top;\n",
       "    }\n",
       "\n",
       "    .dataframe thead th {\n",
       "        text-align: right;\n",
       "    }\n",
       "</style>\n",
       "<table border=\"1\" class=\"dataframe\">\n",
       "  <thead>\n",
       "    <tr style=\"text-align: right;\">\n",
       "      <th></th>\n",
       "      <th>Country</th>\n",
       "      <th>Year</th>\n",
       "      <th>Age Group</th>\n",
       "      <th>Sex</th>\n",
       "      <th>Currently_Drink_Alcohol</th>\n",
       "      <th>Really_Get_Drunk</th>\n",
       "      <th>Overwieght</th>\n",
       "      <th>Use_Marijuana</th>\n",
       "      <th>Have_Understanding_Parents</th>\n",
       "      <th>Missed_classes_without_permssion</th>\n",
       "      <th>Had_sexual_relation</th>\n",
       "      <th>Smoke_cig_currently</th>\n",
       "      <th>Had_fights</th>\n",
       "      <th>Bullied</th>\n",
       "      <th>Got_Seriously_injured</th>\n",
       "      <th>No_close_friends</th>\n",
       "      <th>Attempted_suicide</th>\n",
       "    </tr>\n",
       "  </thead>\n",
       "  <tbody>\n",
       "    <tr>\n",
       "      <th>4</th>\n",
       "      <td>Argentina</td>\n",
       "      <td>2012</td>\n",
       "      <td>13-15</td>\n",
       "      <td>Male</td>\n",
       "      <td>49.3</td>\n",
       "      <td>28.9</td>\n",
       "      <td>35.9</td>\n",
       "      <td>10.6</td>\n",
       "      <td>46.2</td>\n",
       "      <td>32.0</td>\n",
       "      <td>43.5</td>\n",
       "      <td>17.0</td>\n",
       "      <td>44.2</td>\n",
       "      <td>42.1</td>\n",
       "      <td>24.8</td>\n",
       "      <td>6.1</td>\n",
       "      <td>12.9</td>\n",
       "    </tr>\n",
       "    <tr>\n",
       "      <th>5</th>\n",
       "      <td>Argentina</td>\n",
       "      <td>2012</td>\n",
       "      <td>13-15</td>\n",
       "      <td>Female</td>\n",
       "      <td>50.7</td>\n",
       "      <td>26.8</td>\n",
       "      <td>21.8</td>\n",
       "      <td>6.5</td>\n",
       "      <td>49.9</td>\n",
       "      <td>29.4</td>\n",
       "      <td>30.7</td>\n",
       "      <td>20.5</td>\n",
       "      <td>24.7</td>\n",
       "      <td>25.2</td>\n",
       "      <td>24.2</td>\n",
       "      <td>4.3</td>\n",
       "      <td>18.9</td>\n",
       "    </tr>\n",
       "    <tr>\n",
       "      <th>8</th>\n",
       "      <td>Benin</td>\n",
       "      <td>2016</td>\n",
       "      <td>13-15</td>\n",
       "      <td>Male</td>\n",
       "      <td>38.0</td>\n",
       "      <td>19.3</td>\n",
       "      <td>12.7</td>\n",
       "      <td>0.8</td>\n",
       "      <td>35.7</td>\n",
       "      <td>18.8</td>\n",
       "      <td>31.8</td>\n",
       "      <td>5.1</td>\n",
       "      <td>32.1</td>\n",
       "      <td>47.4</td>\n",
       "      <td>48.4</td>\n",
       "      <td>10.8</td>\n",
       "      <td>14.4</td>\n",
       "    </tr>\n",
       "    <tr>\n",
       "      <th>9</th>\n",
       "      <td>Benin</td>\n",
       "      <td>2016</td>\n",
       "      <td>13-15</td>\n",
       "      <td>Female</td>\n",
       "      <td>42.4</td>\n",
       "      <td>16.8</td>\n",
       "      <td>18.3</td>\n",
       "      <td>0.2</td>\n",
       "      <td>39.7</td>\n",
       "      <td>6.5</td>\n",
       "      <td>14.2</td>\n",
       "      <td>1.3</td>\n",
       "      <td>27.3</td>\n",
       "      <td>51.5</td>\n",
       "      <td>40.4</td>\n",
       "      <td>14.2</td>\n",
       "      <td>9.6</td>\n",
       "    </tr>\n",
       "    <tr>\n",
       "      <th>10</th>\n",
       "      <td>Benin</td>\n",
       "      <td>2016</td>\n",
       "      <td>16-17</td>\n",
       "      <td>Male</td>\n",
       "      <td>46.5</td>\n",
       "      <td>29.6</td>\n",
       "      <td>3.3</td>\n",
       "      <td>2.1</td>\n",
       "      <td>33.3</td>\n",
       "      <td>17.3</td>\n",
       "      <td>35.7</td>\n",
       "      <td>6.9</td>\n",
       "      <td>28.8</td>\n",
       "      <td>43.3</td>\n",
       "      <td>51.0</td>\n",
       "      <td>9.7</td>\n",
       "      <td>13.4</td>\n",
       "    </tr>\n",
       "  </tbody>\n",
       "</table>\n",
       "</div>"
      ],
      "text/plain": [
       "      Country  Year Age Group     Sex  Currently_Drink_Alcohol  \\\n",
       "4   Argentina  2012     13-15    Male                     49.3   \n",
       "5   Argentina  2012     13-15  Female                     50.7   \n",
       "8       Benin  2016     13-15    Male                     38.0   \n",
       "9       Benin  2016     13-15  Female                     42.4   \n",
       "10      Benin  2016     16-17    Male                     46.5   \n",
       "\n",
       "    Really_Get_Drunk  Overwieght  Use_Marijuana  Have_Understanding_Parents  \\\n",
       "4               28.9        35.9           10.6                        46.2   \n",
       "5               26.8        21.8            6.5                        49.9   \n",
       "8               19.3        12.7            0.8                        35.7   \n",
       "9               16.8        18.3            0.2                        39.7   \n",
       "10              29.6         3.3            2.1                        33.3   \n",
       "\n",
       "    Missed_classes_without_permssion  Had_sexual_relation  \\\n",
       "4                               32.0                 43.5   \n",
       "5                               29.4                 30.7   \n",
       "8                               18.8                 31.8   \n",
       "9                                6.5                 14.2   \n",
       "10                              17.3                 35.7   \n",
       "\n",
       "    Smoke_cig_currently  Had_fights  Bullied  Got_Seriously_injured  \\\n",
       "4                  17.0        44.2     42.1                   24.8   \n",
       "5                  20.5        24.7     25.2                   24.2   \n",
       "8                   5.1        32.1     47.4                   48.4   \n",
       "9                   1.3        27.3     51.5                   40.4   \n",
       "10                  6.9        28.8     43.3                   51.0   \n",
       "\n",
       "    No_close_friends  Attempted_suicide  \n",
       "4                6.1               12.9  \n",
       "5                4.3               18.9  \n",
       "8               10.8               14.4  \n",
       "9               14.2                9.6  \n",
       "10               9.7               13.4  "
      ]
     },
     "execution_count": 30,
     "metadata": {},
     "output_type": "execute_result"
    }
   ],
   "source": [
    "# Change Mauritus to Mauritius\n",
    "df.replace({\"Mauritus\":\"Mauritius\"}, inplace=True)\n",
    "df.head()"
   ]
  },
  {
   "cell_type": "code",
   "execution_count": 31,
   "id": "28a5551f-54e6-425a-88c9-5d1b9def9c08",
   "metadata": {},
   "outputs": [],
   "source": [
    "df['Country_ISO3'] = country_converter.convert(names=df[\"Country\"], to=\"ISO3\")"
   ]
  },
  {
   "cell_type": "code",
   "execution_count": 32,
   "id": "2e7838bb-6ff5-486b-bfb1-7623a22844b2",
   "metadata": {},
   "outputs": [
    {
     "data": {
      "text/html": [
       "<div>\n",
       "<style scoped>\n",
       "    .dataframe tbody tr th:only-of-type {\n",
       "        vertical-align: middle;\n",
       "    }\n",
       "\n",
       "    .dataframe tbody tr th {\n",
       "        vertical-align: top;\n",
       "    }\n",
       "\n",
       "    .dataframe thead th {\n",
       "        text-align: right;\n",
       "    }\n",
       "</style>\n",
       "<table border=\"1\" class=\"dataframe\">\n",
       "  <thead>\n",
       "    <tr style=\"text-align: right;\">\n",
       "      <th></th>\n",
       "      <th>Country</th>\n",
       "      <th>Year</th>\n",
       "      <th>Age Group</th>\n",
       "      <th>Sex</th>\n",
       "      <th>Currently_Drink_Alcohol</th>\n",
       "      <th>Really_Get_Drunk</th>\n",
       "      <th>Overwieght</th>\n",
       "      <th>Use_Marijuana</th>\n",
       "      <th>Have_Understanding_Parents</th>\n",
       "      <th>Missed_classes_without_permssion</th>\n",
       "      <th>Had_sexual_relation</th>\n",
       "      <th>Smoke_cig_currently</th>\n",
       "      <th>Had_fights</th>\n",
       "      <th>Bullied</th>\n",
       "      <th>Got_Seriously_injured</th>\n",
       "      <th>No_close_friends</th>\n",
       "      <th>Attempted_suicide</th>\n",
       "      <th>Country_ISO3</th>\n",
       "    </tr>\n",
       "  </thead>\n",
       "  <tbody>\n",
       "    <tr>\n",
       "      <th>4</th>\n",
       "      <td>Argentina</td>\n",
       "      <td>2012</td>\n",
       "      <td>13-15</td>\n",
       "      <td>Male</td>\n",
       "      <td>49.3</td>\n",
       "      <td>28.9</td>\n",
       "      <td>35.9</td>\n",
       "      <td>10.6</td>\n",
       "      <td>46.2</td>\n",
       "      <td>32.0</td>\n",
       "      <td>43.5</td>\n",
       "      <td>17.0</td>\n",
       "      <td>44.2</td>\n",
       "      <td>42.1</td>\n",
       "      <td>24.8</td>\n",
       "      <td>6.1</td>\n",
       "      <td>12.9</td>\n",
       "      <td>ARG</td>\n",
       "    </tr>\n",
       "    <tr>\n",
       "      <th>5</th>\n",
       "      <td>Argentina</td>\n",
       "      <td>2012</td>\n",
       "      <td>13-15</td>\n",
       "      <td>Female</td>\n",
       "      <td>50.7</td>\n",
       "      <td>26.8</td>\n",
       "      <td>21.8</td>\n",
       "      <td>6.5</td>\n",
       "      <td>49.9</td>\n",
       "      <td>29.4</td>\n",
       "      <td>30.7</td>\n",
       "      <td>20.5</td>\n",
       "      <td>24.7</td>\n",
       "      <td>25.2</td>\n",
       "      <td>24.2</td>\n",
       "      <td>4.3</td>\n",
       "      <td>18.9</td>\n",
       "      <td>ARG</td>\n",
       "    </tr>\n",
       "    <tr>\n",
       "      <th>8</th>\n",
       "      <td>Benin</td>\n",
       "      <td>2016</td>\n",
       "      <td>13-15</td>\n",
       "      <td>Male</td>\n",
       "      <td>38.0</td>\n",
       "      <td>19.3</td>\n",
       "      <td>12.7</td>\n",
       "      <td>0.8</td>\n",
       "      <td>35.7</td>\n",
       "      <td>18.8</td>\n",
       "      <td>31.8</td>\n",
       "      <td>5.1</td>\n",
       "      <td>32.1</td>\n",
       "      <td>47.4</td>\n",
       "      <td>48.4</td>\n",
       "      <td>10.8</td>\n",
       "      <td>14.4</td>\n",
       "      <td>BEN</td>\n",
       "    </tr>\n",
       "    <tr>\n",
       "      <th>9</th>\n",
       "      <td>Benin</td>\n",
       "      <td>2016</td>\n",
       "      <td>13-15</td>\n",
       "      <td>Female</td>\n",
       "      <td>42.4</td>\n",
       "      <td>16.8</td>\n",
       "      <td>18.3</td>\n",
       "      <td>0.2</td>\n",
       "      <td>39.7</td>\n",
       "      <td>6.5</td>\n",
       "      <td>14.2</td>\n",
       "      <td>1.3</td>\n",
       "      <td>27.3</td>\n",
       "      <td>51.5</td>\n",
       "      <td>40.4</td>\n",
       "      <td>14.2</td>\n",
       "      <td>9.6</td>\n",
       "      <td>BEN</td>\n",
       "    </tr>\n",
       "    <tr>\n",
       "      <th>10</th>\n",
       "      <td>Benin</td>\n",
       "      <td>2016</td>\n",
       "      <td>16-17</td>\n",
       "      <td>Male</td>\n",
       "      <td>46.5</td>\n",
       "      <td>29.6</td>\n",
       "      <td>3.3</td>\n",
       "      <td>2.1</td>\n",
       "      <td>33.3</td>\n",
       "      <td>17.3</td>\n",
       "      <td>35.7</td>\n",
       "      <td>6.9</td>\n",
       "      <td>28.8</td>\n",
       "      <td>43.3</td>\n",
       "      <td>51.0</td>\n",
       "      <td>9.7</td>\n",
       "      <td>13.4</td>\n",
       "      <td>BEN</td>\n",
       "    </tr>\n",
       "    <tr>\n",
       "      <th>...</th>\n",
       "      <td>...</td>\n",
       "      <td>...</td>\n",
       "      <td>...</td>\n",
       "      <td>...</td>\n",
       "      <td>...</td>\n",
       "      <td>...</td>\n",
       "      <td>...</td>\n",
       "      <td>...</td>\n",
       "      <td>...</td>\n",
       "      <td>...</td>\n",
       "      <td>...</td>\n",
       "      <td>...</td>\n",
       "      <td>...</td>\n",
       "      <td>...</td>\n",
       "      <td>...</td>\n",
       "      <td>...</td>\n",
       "      <td>...</td>\n",
       "      <td>...</td>\n",
       "    </tr>\n",
       "    <tr>\n",
       "      <th>101</th>\n",
       "      <td>Vanuatu</td>\n",
       "      <td>2011</td>\n",
       "      <td>13-15</td>\n",
       "      <td>Female</td>\n",
       "      <td>5.8</td>\n",
       "      <td>4.7</td>\n",
       "      <td>13.6</td>\n",
       "      <td>1.9</td>\n",
       "      <td>20.2</td>\n",
       "      <td>44.6</td>\n",
       "      <td>8.4</td>\n",
       "      <td>8.2</td>\n",
       "      <td>41.8</td>\n",
       "      <td>66.5</td>\n",
       "      <td>57.4</td>\n",
       "      <td>14.3</td>\n",
       "      <td>19.5</td>\n",
       "      <td>VUT</td>\n",
       "    </tr>\n",
       "    <tr>\n",
       "      <th>102</th>\n",
       "      <td>Wallis and Futuna</td>\n",
       "      <td>2015</td>\n",
       "      <td>13-15</td>\n",
       "      <td>Male</td>\n",
       "      <td>32.2</td>\n",
       "      <td>35.5</td>\n",
       "      <td>60.5</td>\n",
       "      <td>4.0</td>\n",
       "      <td>36.3</td>\n",
       "      <td>32.7</td>\n",
       "      <td>32.0</td>\n",
       "      <td>25.7</td>\n",
       "      <td>48.7</td>\n",
       "      <td>30.2</td>\n",
       "      <td>51.2</td>\n",
       "      <td>4.1</td>\n",
       "      <td>14.7</td>\n",
       "      <td>WLF</td>\n",
       "    </tr>\n",
       "    <tr>\n",
       "      <th>103</th>\n",
       "      <td>Wallis and Futuna</td>\n",
       "      <td>2015</td>\n",
       "      <td>13-15</td>\n",
       "      <td>Female</td>\n",
       "      <td>24.4</td>\n",
       "      <td>27.1</td>\n",
       "      <td>63.0</td>\n",
       "      <td>2.0</td>\n",
       "      <td>36.3</td>\n",
       "      <td>16.2</td>\n",
       "      <td>13.6</td>\n",
       "      <td>29.9</td>\n",
       "      <td>22.9</td>\n",
       "      <td>30.9</td>\n",
       "      <td>41.7</td>\n",
       "      <td>3.3</td>\n",
       "      <td>16.9</td>\n",
       "      <td>WLF</td>\n",
       "    </tr>\n",
       "    <tr>\n",
       "      <th>104</th>\n",
       "      <td>Wallis and Futuna</td>\n",
       "      <td>2015</td>\n",
       "      <td>16-17</td>\n",
       "      <td>Male</td>\n",
       "      <td>48.3</td>\n",
       "      <td>53.7</td>\n",
       "      <td>57.8</td>\n",
       "      <td>10.1</td>\n",
       "      <td>36.5</td>\n",
       "      <td>38.9</td>\n",
       "      <td>55.7</td>\n",
       "      <td>40.0</td>\n",
       "      <td>49.6</td>\n",
       "      <td>23.6</td>\n",
       "      <td>54.5</td>\n",
       "      <td>7.3</td>\n",
       "      <td>9.0</td>\n",
       "      <td>WLF</td>\n",
       "    </tr>\n",
       "    <tr>\n",
       "      <th>105</th>\n",
       "      <td>Wallis and Futuna</td>\n",
       "      <td>2015</td>\n",
       "      <td>16-17</td>\n",
       "      <td>Female</td>\n",
       "      <td>42.9</td>\n",
       "      <td>51.7</td>\n",
       "      <td>70.6</td>\n",
       "      <td>3.9</td>\n",
       "      <td>37.8</td>\n",
       "      <td>37.2</td>\n",
       "      <td>22.4</td>\n",
       "      <td>41.7</td>\n",
       "      <td>17.3</td>\n",
       "      <td>29.4</td>\n",
       "      <td>30.4</td>\n",
       "      <td>1.5</td>\n",
       "      <td>16.2</td>\n",
       "      <td>WLF</td>\n",
       "    </tr>\n",
       "  </tbody>\n",
       "</table>\n",
       "<p>100 rows × 18 columns</p>\n",
       "</div>"
      ],
      "text/plain": [
       "                Country  Year Age Group     Sex  Currently_Drink_Alcohol  \\\n",
       "4             Argentina  2012     13-15    Male                     49.3   \n",
       "5             Argentina  2012     13-15  Female                     50.7   \n",
       "8                 Benin  2016     13-15    Male                     38.0   \n",
       "9                 Benin  2016     13-15  Female                     42.4   \n",
       "10                Benin  2016     16-17    Male                     46.5   \n",
       "..                  ...   ...       ...     ...                      ...   \n",
       "101            Vanuatu   2011     13-15  Female                      5.8   \n",
       "102  Wallis and Futuna   2015     13-15    Male                     32.2   \n",
       "103  Wallis and Futuna   2015     13-15  Female                     24.4   \n",
       "104  Wallis and Futuna   2015     16-17    Male                     48.3   \n",
       "105  Wallis and Futuna   2015     16-17  Female                     42.9   \n",
       "\n",
       "     Really_Get_Drunk  Overwieght  Use_Marijuana  Have_Understanding_Parents  \\\n",
       "4                28.9        35.9           10.6                        46.2   \n",
       "5                26.8        21.8            6.5                        49.9   \n",
       "8                19.3        12.7            0.8                        35.7   \n",
       "9                16.8        18.3            0.2                        39.7   \n",
       "10               29.6         3.3            2.1                        33.3   \n",
       "..                ...         ...            ...                         ...   \n",
       "101               4.7        13.6            1.9                        20.2   \n",
       "102              35.5        60.5            4.0                        36.3   \n",
       "103              27.1        63.0            2.0                        36.3   \n",
       "104              53.7        57.8           10.1                        36.5   \n",
       "105              51.7        70.6            3.9                        37.8   \n",
       "\n",
       "     Missed_classes_without_permssion  Had_sexual_relation  \\\n",
       "4                                32.0                 43.5   \n",
       "5                                29.4                 30.7   \n",
       "8                                18.8                 31.8   \n",
       "9                                 6.5                 14.2   \n",
       "10                               17.3                 35.7   \n",
       "..                                ...                  ...   \n",
       "101                              44.6                  8.4   \n",
       "102                              32.7                 32.0   \n",
       "103                              16.2                 13.6   \n",
       "104                              38.9                 55.7   \n",
       "105                              37.2                 22.4   \n",
       "\n",
       "     Smoke_cig_currently  Had_fights  Bullied  Got_Seriously_injured  \\\n",
       "4                   17.0        44.2     42.1                   24.8   \n",
       "5                   20.5        24.7     25.2                   24.2   \n",
       "8                    5.1        32.1     47.4                   48.4   \n",
       "9                    1.3        27.3     51.5                   40.4   \n",
       "10                   6.9        28.8     43.3                   51.0   \n",
       "..                   ...         ...      ...                    ...   \n",
       "101                  8.2        41.8     66.5                   57.4   \n",
       "102                 25.7        48.7     30.2                   51.2   \n",
       "103                 29.9        22.9     30.9                   41.7   \n",
       "104                 40.0        49.6     23.6                   54.5   \n",
       "105                 41.7        17.3     29.4                   30.4   \n",
       "\n",
       "     No_close_friends  Attempted_suicide Country_ISO3  \n",
       "4                 6.1               12.9          ARG  \n",
       "5                 4.3               18.9          ARG  \n",
       "8                10.8               14.4          BEN  \n",
       "9                14.2                9.6          BEN  \n",
       "10                9.7               13.4          BEN  \n",
       "..                ...                ...          ...  \n",
       "101              14.3               19.5          VUT  \n",
       "102               4.1               14.7          WLF  \n",
       "103               3.3               16.9          WLF  \n",
       "104               7.3                9.0          WLF  \n",
       "105               1.5               16.2          WLF  \n",
       "\n",
       "[100 rows x 18 columns]"
      ]
     },
     "execution_count": 32,
     "metadata": {},
     "output_type": "execute_result"
    }
   ],
   "source": [
    "df"
   ]
  },
  {
   "cell_type": "code",
   "execution_count": 38,
   "id": "115b34ec-0a09-43a4-88df-2d81cc4059d3",
   "metadata": {},
   "outputs": [
    {
     "data": {
      "application/vnd.plotly.v1+json": {
       "config": {
        "plotlyServerURL": "https://plot.ly"
       },
       "data": [
        {
         "coloraxis": "coloraxis",
         "geo": "geo",
         "hovertemplate": "Year=2010<br>Country_ISO3=%{location}<br>Attempted_suicide=%{z}<extra></extra>",
         "locations": [
          "MNG",
          "PER",
          "PER",
          "MNG"
         ],
         "name": "",
         "type": "choropleth",
         "z": [
          9.4,
          22,
          12,
          7.2
         ]
        }
       ],
       "frames": [
        {
         "data": [
          {
           "coloraxis": "coloraxis",
           "geo": "geo",
           "hovertemplate": "Year=2010<br>Country_ISO3=%{location}<br>Attempted_suicide=%{z}<extra></extra>",
           "locations": [
            "MNG",
            "PER",
            "PER",
            "MNG"
           ],
           "name": "",
           "type": "choropleth",
           "z": [
            9.4,
            22,
            12,
            7.2
           ]
          }
         ],
         "name": "2010"
        },
        {
         "data": [
          {
           "coloraxis": "coloraxis",
           "geo": "geo",
           "hovertemplate": "Year=2011<br>Country_ISO3=%{location}<br>Attempted_suicide=%{z}<extra></extra>",
           "locations": [
            "VUT",
            "VUT",
            "WSM",
            "WSM",
            "KIR",
            "KIR"
           ],
           "name": "",
           "type": "choropleth",
           "z": [
            19.5,
            28.3,
            53.7,
            67.2,
            31.5,
            29.8
           ]
          }
         ],
         "name": "2011"
        },
        {
         "data": [
          {
           "coloraxis": "coloraxis",
           "geo": "geo",
           "hovertemplate": "Year=2012<br>Country_ISO3=%{location}<br>Attempted_suicide=%{z}<extra></extra>",
           "locations": [
            "URY",
            "URY",
            "MYS",
            "MYS",
            "MYS",
            "MYS",
            "ARG",
            "ARG"
           ],
           "name": "",
           "type": "choropleth",
           "z": [
            10.8,
            7.4,
            6.7,
            5.7,
            7.4,
            6.6,
            12.9,
            18.9
           ]
          }
         ],
         "name": "2012"
        },
        {
         "data": [
          {
           "coloraxis": "coloraxis",
           "geo": "geo",
           "hovertemplate": "Year=2013<br>Country_ISO3=%{location}<br>Attempted_suicide=%{z}<extra></extra>",
           "locations": [
            "NAM",
            "MNG",
            "MNG",
            "TUV",
            "TUV",
            "NAM",
            "NAM",
            "MNG",
            "NAM",
            "MNG"
           ],
           "name": "",
           "type": "choropleth",
           "z": [
            25.2,
            9.2,
            11.6,
            16.3,
            3.6,
            29.9,
            23.8,
            7.7,
            24.4,
            10.4
           ]
          }
         ],
         "name": "2013"
        },
        {
         "data": [
          {
           "coloraxis": "coloraxis",
           "geo": "geo",
           "hovertemplate": "Year=2014<br>Country_ISO3=%{location}<br>Attempted_suicide=%{z}<extra></extra>",
           "locations": [
            "BRN",
            "BRN",
            "BRN",
            "BRN"
           ],
           "name": "",
           "type": "choropleth",
           "z": [
            9.6,
            4.5,
            5.9,
            4.5
           ]
          }
         ],
         "name": "2014"
        },
        {
         "data": [
          {
           "coloraxis": "coloraxis",
           "geo": "geo",
           "hovertemplate": "Year=2015<br>Country_ISO3=%{location}<br>Attempted_suicide=%{z}<extra></extra>",
           "locations": [
            "SYC",
            "SYC",
            "THA",
            "THA",
            "NPL",
            "TLS",
            "WLF",
            "THA",
            "THA",
            "TLS",
            "NPL",
            "NPL",
            "NPL",
            "WLF",
            "TLS",
            "TLS",
            "WLF",
            "WLF",
            "IDN",
            "IDN",
            "IDN",
            "SYC",
            "IDN",
            "LAO",
            "LAO",
            "LAO",
            "LAO",
            "SYC"
           ],
           "name": "",
           "type": "choropleth",
           "z": [
            20.5,
            19.8,
            16,
            12.8,
            10.4,
            8.2,
            9,
            11.5,
            10.5,
            9.6,
            11.7,
            9.4,
            7.4,
            16.2,
            9.5,
            7.8,
            16.9,
            14.7,
            4.4,
            3.6,
            3.7,
            13.9,
            2.7,
            4.9,
            6.9,
            3.8,
            5.5,
            17.8
           ]
          }
         ],
         "name": "2015"
        },
        {
         "data": [
          {
           "coloraxis": "coloraxis",
           "geo": "geo",
           "hovertemplate": "Year=2016<br>Country_ISO3=%{location}<br>Attempted_suicide=%{z}<extra></extra>",
           "locations": [
            "VUT",
            "VUT",
            "VUT",
            "BEN",
            "BEN",
            "BEN",
            "SUR",
            "SUR",
            "SUR",
            "VUT",
            "DOM",
            "BEN",
            "FJI",
            "FJI",
            "FJI",
            "FJI",
            "DOM",
            "DOM",
            "SUR",
            "BTN",
            "BTN",
            "DOM",
            "BTN",
            "BTN"
           ],
           "name": "",
           "type": "choropleth",
           "z": [
            18.6,
            23.1,
            16.7,
            9.6,
            13.4,
            14.4,
            23.4,
            11.5,
            10.9,
            30.3,
            24.3,
            14.1,
            11.6,
            8,
            12.8,
            11.2,
            20.1,
            12.3,
            7.9,
            9.7,
            10.9,
            12.1,
            10.3,
            14
           ]
          }
         ],
         "name": "2016"
        },
        {
         "data": [
          {
           "coloraxis": "coloraxis",
           "geo": "geo",
           "hovertemplate": "Year=2017<br>Country_ISO3=%{location}<br>Attempted_suicide=%{z}<extra></extra>",
           "locations": [
            "MUS",
            "WSM",
            "WSM",
            "WSM",
            "JAM",
            "JAM",
            "JAM",
            "WSM",
            "MUS",
            "MUS",
            "TTO",
            "TTO",
            "TTO",
            "MUS",
            "JAM",
            "TTO"
           ],
           "name": "",
           "type": "choropleth",
           "z": [
            10.9,
            21,
            19.7,
            20.7,
            16.1,
            20.6,
            13.2,
            24,
            11.5,
            16.5,
            12.2,
            17.9,
            10.4,
            9.4,
            21.8,
            17.5
           ]
          }
         ],
         "name": "2017"
        }
       ],
       "layout": {
        "coloraxis": {
         "colorbar": {
          "title": {
           "text": "Attempted_suicide"
          }
         },
         "colorscale": [
          [
           0,
           "rgb(230, 240, 240)"
          ],
          [
           0.09090909090909091,
           "rgb(191, 221, 229)"
          ],
          [
           0.18181818181818182,
           "rgb(156, 201, 226)"
          ],
          [
           0.2727272727272727,
           "rgb(129, 180, 227)"
          ],
          [
           0.36363636363636365,
           "rgb(115, 154, 228)"
          ],
          [
           0.45454545454545453,
           "rgb(117, 127, 221)"
          ],
          [
           0.5454545454545454,
           "rgb(120, 100, 202)"
          ],
          [
           0.6363636363636364,
           "rgb(119, 74, 175)"
          ],
          [
           0.7272727272727273,
           "rgb(113, 50, 141)"
          ],
          [
           0.8181818181818182,
           "rgb(100, 31, 104)"
          ],
          [
           0.9090909090909091,
           "rgb(80, 20, 66)"
          ],
          [
           1,
           "rgb(54, 14, 36)"
          ]
         ]
        },
        "geo": {
         "center": {
          "lat": 5.581943337122968,
          "lon": -4.506772660811425
         },
         "domain": {
          "x": [
           0,
           1
          ],
          "y": [
           0,
           1
          ]
         },
         "projection": {
          "rotation": {
           "lon": -4.506772660811425
          },
          "scale": 1.259921032127321
         }
        },
        "height": 600,
        "legend": {
         "tracegroupgap": 0
        },
        "sliders": [
         {
          "active": 0,
          "currentvalue": {
           "prefix": "Year="
          },
          "len": 0.9,
          "pad": {
           "b": 10,
           "t": 60
          },
          "steps": [
           {
            "args": [
             [
              "2010"
             ],
             {
              "frame": {
               "duration": 0,
               "redraw": true
              },
              "fromcurrent": true,
              "mode": "immediate",
              "transition": {
               "duration": 0,
               "easing": "linear"
              }
             }
            ],
            "label": "2010",
            "method": "animate"
           },
           {
            "args": [
             [
              "2011"
             ],
             {
              "frame": {
               "duration": 0,
               "redraw": true
              },
              "fromcurrent": true,
              "mode": "immediate",
              "transition": {
               "duration": 0,
               "easing": "linear"
              }
             }
            ],
            "label": "2011",
            "method": "animate"
           },
           {
            "args": [
             [
              "2012"
             ],
             {
              "frame": {
               "duration": 0,
               "redraw": true
              },
              "fromcurrent": true,
              "mode": "immediate",
              "transition": {
               "duration": 0,
               "easing": "linear"
              }
             }
            ],
            "label": "2012",
            "method": "animate"
           },
           {
            "args": [
             [
              "2013"
             ],
             {
              "frame": {
               "duration": 0,
               "redraw": true
              },
              "fromcurrent": true,
              "mode": "immediate",
              "transition": {
               "duration": 0,
               "easing": "linear"
              }
             }
            ],
            "label": "2013",
            "method": "animate"
           },
           {
            "args": [
             [
              "2014"
             ],
             {
              "frame": {
               "duration": 0,
               "redraw": true
              },
              "fromcurrent": true,
              "mode": "immediate",
              "transition": {
               "duration": 0,
               "easing": "linear"
              }
             }
            ],
            "label": "2014",
            "method": "animate"
           },
           {
            "args": [
             [
              "2015"
             ],
             {
              "frame": {
               "duration": 0,
               "redraw": true
              },
              "fromcurrent": true,
              "mode": "immediate",
              "transition": {
               "duration": 0,
               "easing": "linear"
              }
             }
            ],
            "label": "2015",
            "method": "animate"
           },
           {
            "args": [
             [
              "2016"
             ],
             {
              "frame": {
               "duration": 0,
               "redraw": true
              },
              "fromcurrent": true,
              "mode": "immediate",
              "transition": {
               "duration": 0,
               "easing": "linear"
              }
             }
            ],
            "label": "2016",
            "method": "animate"
           },
           {
            "args": [
             [
              "2017"
             ],
             {
              "frame": {
               "duration": 0,
               "redraw": true
              },
              "fromcurrent": true,
              "mode": "immediate",
              "transition": {
               "duration": 0,
               "easing": "linear"
              }
             }
            ],
            "label": "2017",
            "method": "animate"
           }
          ],
          "x": 0.1,
          "xanchor": "left",
          "y": 0,
          "yanchor": "top"
         }
        ],
        "template": {
         "data": {
          "bar": [
           {
            "error_x": {
             "color": "#2a3f5f"
            },
            "error_y": {
             "color": "#2a3f5f"
            },
            "marker": {
             "line": {
              "color": "#E5ECF6",
              "width": 0.5
             },
             "pattern": {
              "fillmode": "overlay",
              "size": 10,
              "solidity": 0.2
             }
            },
            "type": "bar"
           }
          ],
          "barpolar": [
           {
            "marker": {
             "line": {
              "color": "#E5ECF6",
              "width": 0.5
             },
             "pattern": {
              "fillmode": "overlay",
              "size": 10,
              "solidity": 0.2
             }
            },
            "type": "barpolar"
           }
          ],
          "carpet": [
           {
            "aaxis": {
             "endlinecolor": "#2a3f5f",
             "gridcolor": "white",
             "linecolor": "white",
             "minorgridcolor": "white",
             "startlinecolor": "#2a3f5f"
            },
            "baxis": {
             "endlinecolor": "#2a3f5f",
             "gridcolor": "white",
             "linecolor": "white",
             "minorgridcolor": "white",
             "startlinecolor": "#2a3f5f"
            },
            "type": "carpet"
           }
          ],
          "choropleth": [
           {
            "colorbar": {
             "outlinewidth": 0,
             "ticks": ""
            },
            "type": "choropleth"
           }
          ],
          "contour": [
           {
            "colorbar": {
             "outlinewidth": 0,
             "ticks": ""
            },
            "colorscale": [
             [
              0,
              "#0d0887"
             ],
             [
              0.1111111111111111,
              "#46039f"
             ],
             [
              0.2222222222222222,
              "#7201a8"
             ],
             [
              0.3333333333333333,
              "#9c179e"
             ],
             [
              0.4444444444444444,
              "#bd3786"
             ],
             [
              0.5555555555555556,
              "#d8576b"
             ],
             [
              0.6666666666666666,
              "#ed7953"
             ],
             [
              0.7777777777777778,
              "#fb9f3a"
             ],
             [
              0.8888888888888888,
              "#fdca26"
             ],
             [
              1,
              "#f0f921"
             ]
            ],
            "type": "contour"
           }
          ],
          "contourcarpet": [
           {
            "colorbar": {
             "outlinewidth": 0,
             "ticks": ""
            },
            "type": "contourcarpet"
           }
          ],
          "heatmap": [
           {
            "colorbar": {
             "outlinewidth": 0,
             "ticks": ""
            },
            "colorscale": [
             [
              0,
              "#0d0887"
             ],
             [
              0.1111111111111111,
              "#46039f"
             ],
             [
              0.2222222222222222,
              "#7201a8"
             ],
             [
              0.3333333333333333,
              "#9c179e"
             ],
             [
              0.4444444444444444,
              "#bd3786"
             ],
             [
              0.5555555555555556,
              "#d8576b"
             ],
             [
              0.6666666666666666,
              "#ed7953"
             ],
             [
              0.7777777777777778,
              "#fb9f3a"
             ],
             [
              0.8888888888888888,
              "#fdca26"
             ],
             [
              1,
              "#f0f921"
             ]
            ],
            "type": "heatmap"
           }
          ],
          "heatmapgl": [
           {
            "colorbar": {
             "outlinewidth": 0,
             "ticks": ""
            },
            "colorscale": [
             [
              0,
              "#0d0887"
             ],
             [
              0.1111111111111111,
              "#46039f"
             ],
             [
              0.2222222222222222,
              "#7201a8"
             ],
             [
              0.3333333333333333,
              "#9c179e"
             ],
             [
              0.4444444444444444,
              "#bd3786"
             ],
             [
              0.5555555555555556,
              "#d8576b"
             ],
             [
              0.6666666666666666,
              "#ed7953"
             ],
             [
              0.7777777777777778,
              "#fb9f3a"
             ],
             [
              0.8888888888888888,
              "#fdca26"
             ],
             [
              1,
              "#f0f921"
             ]
            ],
            "type": "heatmapgl"
           }
          ],
          "histogram": [
           {
            "marker": {
             "pattern": {
              "fillmode": "overlay",
              "size": 10,
              "solidity": 0.2
             }
            },
            "type": "histogram"
           }
          ],
          "histogram2d": [
           {
            "colorbar": {
             "outlinewidth": 0,
             "ticks": ""
            },
            "colorscale": [
             [
              0,
              "#0d0887"
             ],
             [
              0.1111111111111111,
              "#46039f"
             ],
             [
              0.2222222222222222,
              "#7201a8"
             ],
             [
              0.3333333333333333,
              "#9c179e"
             ],
             [
              0.4444444444444444,
              "#bd3786"
             ],
             [
              0.5555555555555556,
              "#d8576b"
             ],
             [
              0.6666666666666666,
              "#ed7953"
             ],
             [
              0.7777777777777778,
              "#fb9f3a"
             ],
             [
              0.8888888888888888,
              "#fdca26"
             ],
             [
              1,
              "#f0f921"
             ]
            ],
            "type": "histogram2d"
           }
          ],
          "histogram2dcontour": [
           {
            "colorbar": {
             "outlinewidth": 0,
             "ticks": ""
            },
            "colorscale": [
             [
              0,
              "#0d0887"
             ],
             [
              0.1111111111111111,
              "#46039f"
             ],
             [
              0.2222222222222222,
              "#7201a8"
             ],
             [
              0.3333333333333333,
              "#9c179e"
             ],
             [
              0.4444444444444444,
              "#bd3786"
             ],
             [
              0.5555555555555556,
              "#d8576b"
             ],
             [
              0.6666666666666666,
              "#ed7953"
             ],
             [
              0.7777777777777778,
              "#fb9f3a"
             ],
             [
              0.8888888888888888,
              "#fdca26"
             ],
             [
              1,
              "#f0f921"
             ]
            ],
            "type": "histogram2dcontour"
           }
          ],
          "mesh3d": [
           {
            "colorbar": {
             "outlinewidth": 0,
             "ticks": ""
            },
            "type": "mesh3d"
           }
          ],
          "parcoords": [
           {
            "line": {
             "colorbar": {
              "outlinewidth": 0,
              "ticks": ""
             }
            },
            "type": "parcoords"
           }
          ],
          "pie": [
           {
            "automargin": true,
            "type": "pie"
           }
          ],
          "scatter": [
           {
            "marker": {
             "colorbar": {
              "outlinewidth": 0,
              "ticks": ""
             }
            },
            "type": "scatter"
           }
          ],
          "scatter3d": [
           {
            "line": {
             "colorbar": {
              "outlinewidth": 0,
              "ticks": ""
             }
            },
            "marker": {
             "colorbar": {
              "outlinewidth": 0,
              "ticks": ""
             }
            },
            "type": "scatter3d"
           }
          ],
          "scattercarpet": [
           {
            "marker": {
             "colorbar": {
              "outlinewidth": 0,
              "ticks": ""
             }
            },
            "type": "scattercarpet"
           }
          ],
          "scattergeo": [
           {
            "marker": {
             "colorbar": {
              "outlinewidth": 0,
              "ticks": ""
             }
            },
            "type": "scattergeo"
           }
          ],
          "scattergl": [
           {
            "marker": {
             "colorbar": {
              "outlinewidth": 0,
              "ticks": ""
             }
            },
            "type": "scattergl"
           }
          ],
          "scattermapbox": [
           {
            "marker": {
             "colorbar": {
              "outlinewidth": 0,
              "ticks": ""
             }
            },
            "type": "scattermapbox"
           }
          ],
          "scatterpolar": [
           {
            "marker": {
             "colorbar": {
              "outlinewidth": 0,
              "ticks": ""
             }
            },
            "type": "scatterpolar"
           }
          ],
          "scatterpolargl": [
           {
            "marker": {
             "colorbar": {
              "outlinewidth": 0,
              "ticks": ""
             }
            },
            "type": "scatterpolargl"
           }
          ],
          "scatterternary": [
           {
            "marker": {
             "colorbar": {
              "outlinewidth": 0,
              "ticks": ""
             }
            },
            "type": "scatterternary"
           }
          ],
          "surface": [
           {
            "colorbar": {
             "outlinewidth": 0,
             "ticks": ""
            },
            "colorscale": [
             [
              0,
              "#0d0887"
             ],
             [
              0.1111111111111111,
              "#46039f"
             ],
             [
              0.2222222222222222,
              "#7201a8"
             ],
             [
              0.3333333333333333,
              "#9c179e"
             ],
             [
              0.4444444444444444,
              "#bd3786"
             ],
             [
              0.5555555555555556,
              "#d8576b"
             ],
             [
              0.6666666666666666,
              "#ed7953"
             ],
             [
              0.7777777777777778,
              "#fb9f3a"
             ],
             [
              0.8888888888888888,
              "#fdca26"
             ],
             [
              1,
              "#f0f921"
             ]
            ],
            "type": "surface"
           }
          ],
          "table": [
           {
            "cells": {
             "fill": {
              "color": "#EBF0F8"
             },
             "line": {
              "color": "white"
             }
            },
            "header": {
             "fill": {
              "color": "#C8D4E3"
             },
             "line": {
              "color": "white"
             }
            },
            "type": "table"
           }
          ]
         },
         "layout": {
          "annotationdefaults": {
           "arrowcolor": "#2a3f5f",
           "arrowhead": 0,
           "arrowwidth": 1
          },
          "autotypenumbers": "strict",
          "coloraxis": {
           "colorbar": {
            "outlinewidth": 0,
            "ticks": ""
           }
          },
          "colorscale": {
           "diverging": [
            [
             0,
             "#8e0152"
            ],
            [
             0.1,
             "#c51b7d"
            ],
            [
             0.2,
             "#de77ae"
            ],
            [
             0.3,
             "#f1b6da"
            ],
            [
             0.4,
             "#fde0ef"
            ],
            [
             0.5,
             "#f7f7f7"
            ],
            [
             0.6,
             "#e6f5d0"
            ],
            [
             0.7,
             "#b8e186"
            ],
            [
             0.8,
             "#7fbc41"
            ],
            [
             0.9,
             "#4d9221"
            ],
            [
             1,
             "#276419"
            ]
           ],
           "sequential": [
            [
             0,
             "#0d0887"
            ],
            [
             0.1111111111111111,
             "#46039f"
            ],
            [
             0.2222222222222222,
             "#7201a8"
            ],
            [
             0.3333333333333333,
             "#9c179e"
            ],
            [
             0.4444444444444444,
             "#bd3786"
            ],
            [
             0.5555555555555556,
             "#d8576b"
            ],
            [
             0.6666666666666666,
             "#ed7953"
            ],
            [
             0.7777777777777778,
             "#fb9f3a"
            ],
            [
             0.8888888888888888,
             "#fdca26"
            ],
            [
             1,
             "#f0f921"
            ]
           ],
           "sequentialminus": [
            [
             0,
             "#0d0887"
            ],
            [
             0.1111111111111111,
             "#46039f"
            ],
            [
             0.2222222222222222,
             "#7201a8"
            ],
            [
             0.3333333333333333,
             "#9c179e"
            ],
            [
             0.4444444444444444,
             "#bd3786"
            ],
            [
             0.5555555555555556,
             "#d8576b"
            ],
            [
             0.6666666666666666,
             "#ed7953"
            ],
            [
             0.7777777777777778,
             "#fb9f3a"
            ],
            [
             0.8888888888888888,
             "#fdca26"
            ],
            [
             1,
             "#f0f921"
            ]
           ]
          },
          "colorway": [
           "#636efa",
           "#EF553B",
           "#00cc96",
           "#ab63fa",
           "#FFA15A",
           "#19d3f3",
           "#FF6692",
           "#B6E880",
           "#FF97FF",
           "#FECB52"
          ],
          "font": {
           "color": "#2a3f5f"
          },
          "geo": {
           "bgcolor": "white",
           "lakecolor": "white",
           "landcolor": "#E5ECF6",
           "showlakes": true,
           "showland": true,
           "subunitcolor": "white"
          },
          "hoverlabel": {
           "align": "left"
          },
          "hovermode": "closest",
          "mapbox": {
           "style": "light"
          },
          "paper_bgcolor": "white",
          "plot_bgcolor": "#E5ECF6",
          "polar": {
           "angularaxis": {
            "gridcolor": "white",
            "linecolor": "white",
            "ticks": ""
           },
           "bgcolor": "#E5ECF6",
           "radialaxis": {
            "gridcolor": "white",
            "linecolor": "white",
            "ticks": ""
           }
          },
          "scene": {
           "xaxis": {
            "backgroundcolor": "#E5ECF6",
            "gridcolor": "white",
            "gridwidth": 2,
            "linecolor": "white",
            "showbackground": true,
            "ticks": "",
            "zerolinecolor": "white"
           },
           "yaxis": {
            "backgroundcolor": "#E5ECF6",
            "gridcolor": "white",
            "gridwidth": 2,
            "linecolor": "white",
            "showbackground": true,
            "ticks": "",
            "zerolinecolor": "white"
           },
           "zaxis": {
            "backgroundcolor": "#E5ECF6",
            "gridcolor": "white",
            "gridwidth": 2,
            "linecolor": "white",
            "showbackground": true,
            "ticks": "",
            "zerolinecolor": "white"
           }
          },
          "shapedefaults": {
           "line": {
            "color": "#2a3f5f"
           }
          },
          "ternary": {
           "aaxis": {
            "gridcolor": "white",
            "linecolor": "white",
            "ticks": ""
           },
           "baxis": {
            "gridcolor": "white",
            "linecolor": "white",
            "ticks": ""
           },
           "bgcolor": "#E5ECF6",
           "caxis": {
            "gridcolor": "white",
            "linecolor": "white",
            "ticks": ""
           }
          },
          "title": {
           "x": 0.05
          },
          "xaxis": {
           "automargin": true,
           "gridcolor": "white",
           "linecolor": "white",
           "ticks": "",
           "title": {
            "standoff": 15
           },
           "zerolinecolor": "white",
           "zerolinewidth": 2
          },
          "yaxis": {
           "automargin": true,
           "gridcolor": "white",
           "linecolor": "white",
           "ticks": "",
           "title": {
            "standoff": 15
           },
           "zerolinecolor": "white",
           "zerolinewidth": 2
          }
         }
        },
        "title": {
         "text": "Attempted_suicide per Country and Year"
        },
        "updatemenus": [
         {
          "buttons": [
           {
            "args": [
             null,
             {
              "frame": {
               "duration": 500,
               "redraw": true
              },
              "fromcurrent": true,
              "mode": "immediate",
              "transition": {
               "duration": 500,
               "easing": "linear"
              }
             }
            ],
            "label": "&#9654;",
            "method": "animate"
           },
           {
            "args": [
             [
              null
             ],
             {
              "frame": {
               "duration": 0,
               "redraw": true
              },
              "fromcurrent": true,
              "mode": "immediate",
              "transition": {
               "duration": 0,
               "easing": "linear"
              }
             }
            ],
            "label": "&#9724;",
            "method": "animate"
           }
          ],
          "direction": "left",
          "pad": {
           "r": 10,
           "t": 70
          },
          "showactive": false,
          "type": "buttons",
          "x": 0.1,
          "xanchor": "right",
          "y": 0,
          "yanchor": "top"
         }
        ],
        "width": 850
       }
      },
      "image/png": "[encoded data removed]",
      "text/html": [
       "<div>                            <div id=\"5a384100-2982-4e99-924e-44e6a2c3fd6d\" class=\"plotly-graph-div\" style=\"height:600px; width:850px;\"></div>            <script type=\"text/javascript\">                require([\"plotly\"], function(Plotly) {                    window.PLOTLYENV=window.PLOTLYENV || {};                                    if (document.getElementById(\"5a384100-2982-4e99-924e-44e6a2c3fd6d\")) {                    Plotly.newPlot(                        \"5a384100-2982-4e99-924e-44e6a2c3fd6d\",                        [{\"coloraxis\":\"coloraxis\",\"geo\":\"geo\",\"hovertemplate\":\"Year=2010<br>Country_ISO3=%{location}<br>Attempted_suicide=%{z}<extra></extra>\",\"locations\":[\"MNG\",\"PER\",\"PER\",\"MNG\"],\"name\":\"\",\"z\":[9.4,22.0,12.0,7.2],\"type\":\"choropleth\"}],                        {\"template\":{\"data\":{\"bar\":[{\"error_x\":{\"color\":\"#2a3f5f\"},\"error_y\":{\"color\":\"#2a3f5f\"},\"marker\":{\"line\":{\"color\":\"#E5ECF6\",\"width\":0.5},\"pattern\":{\"fillmode\":\"overlay\",\"size\":10,\"solidity\":0.2}},\"type\":\"bar\"}],\"barpolar\":[{\"marker\":{\"line\":{\"color\":\"#E5ECF6\",\"width\":0.5},\"pattern\":{\"fillmode\":\"overlay\",\"size\":10,\"solidity\":0.2}},\"type\":\"barpolar\"}],\"carpet\":[{\"aaxis\":{\"endlinecolor\":\"#2a3f5f\",\"gridcolor\":\"white\",\"linecolor\":\"white\",\"minorgridcolor\":\"white\",\"startlinecolor\":\"#2a3f5f\"},\"baxis\":{\"endlinecolor\":\"#2a3f5f\",\"gridcolor\":\"white\",\"linecolor\":\"white\",\"minorgridcolor\":\"white\",\"startlinecolor\":\"#2a3f5f\"},\"type\":\"carpet\"}],\"choropleth\":[{\"colorbar\":{\"outlinewidth\":0,\"ticks\":\"\"},\"type\":\"choropleth\"}],\"contour\":[{\"colorbar\":{\"outlinewidth\":0,\"ticks\":\"\"},\"colorscale\":[[0.0,\"#0d0887\"],[0.1111111111111111,\"#46039f\"],[0.2222222222222222,\"#7201a8\"],[0.3333333333333333,\"#9c179e\"],[0.4444444444444444,\"#bd3786\"],[0.5555555555555556,\"#d8576b\"],[0.6666666666666666,\"#ed7953\"],[0.7777777777777778,\"#fb9f3a\"],[0.8888888888888888,\"#fdca26\"],[1.0,\"#f0f921\"]],\"type\":\"contour\"}],\"contourcarpet\":[{\"colorbar\":{\"outlinewidth\":0,\"ticks\":\"\"},\"type\":\"contourcarpet\"}],\"heatmap\":[{\"colorbar\":{\"outlinewidth\":0,\"ticks\":\"\"},\"colorscale\":[[0.0,\"#0d0887\"],[0.1111111111111111,\"#46039f\"],[0.2222222222222222,\"#7201a8\"],[0.3333333333333333,\"#9c179e\"],[0.4444444444444444,\"#bd3786\"],[0.5555555555555556,\"#d8576b\"],[0.6666666666666666,\"#ed7953\"],[0.7777777777777778,\"#fb9f3a\"],[0.8888888888888888,\"#fdca26\"],[1.0,\"#f0f921\"]],\"type\":\"heatmap\"}],\"heatmapgl\":[{\"colorbar\":{\"outlinewidth\":0,\"ticks\":\"\"},\"colorscale\":[[0.0,\"#0d0887\"],[0.1111111111111111,\"#46039f\"],[0.2222222222222222,\"#7201a8\"],[0.3333333333333333,\"#9c179e\"],[0.4444444444444444,\"#bd3786\"],[0.5555555555555556,\"#d8576b\"],[0.6666666666666666,\"#ed7953\"],[0.7777777777777778,\"#fb9f3a\"],[0.8888888888888888,\"#fdca26\"],[1.0,\"#f0f921\"]],\"type\":\"heatmapgl\"}],\"histogram\":[{\"marker\":{\"pattern\":{\"fillmode\":\"overlay\",\"size\":10,\"solidity\":0.2}},\"type\":\"histogram\"}],\"histogram2d\":[{\"colorbar\":{\"outlinewidth\":0,\"ticks\":\"\"},\"colorscale\":[[0.0,\"#0d0887\"],[0.1111111111111111,\"#46039f\"],[0.2222222222222222,\"#7201a8\"],[0.3333333333333333,\"#9c179e\"],[0.4444444444444444,\"#bd3786\"],[0.5555555555555556,\"#d8576b\"],[0.6666666666666666,\"#ed7953\"],[0.7777777777777778,\"#fb9f3a\"],[0.8888888888888888,\"#fdca26\"],[1.0,\"#f0f921\"]],\"type\":\"histogram2d\"}],\"histogram2dcontour\":[{\"colorbar\":{\"outlinewidth\":0,\"ticks\":\"\"},\"colorscale\":[[0.0,\"#0d0887\"],[0.1111111111111111,\"#46039f\"],[0.2222222222222222,\"#7201a8\"],[0.3333333333333333,\"#9c179e\"],[0.4444444444444444,\"#bd3786\"],[0.5555555555555556,\"#d8576b\"],[0.6666666666666666,\"#ed7953\"],[0.7777777777777778,\"#fb9f3a\"],[0.8888888888888888,\"#fdca26\"],[1.0,\"#f0f921\"]],\"type\":\"histogram2dcontour\"}],\"mesh3d\":[{\"colorbar\":{\"outlinewidth\":0,\"ticks\":\"\"},\"type\":\"mesh3d\"}],\"parcoords\":[{\"line\":{\"colorbar\":{\"outlinewidth\":0,\"ticks\":\"\"}},\"type\":\"parcoords\"}],\"pie\":[{\"automargin\":true,\"type\":\"pie\"}],\"scatter\":[{\"marker\":{\"colorbar\":{\"outlinewidth\":0,\"ticks\":\"\"}},\"type\":\"scatter\"}],\"scatter3d\":[{\"line\":{\"colorbar\":{\"outlinewidth\":0,\"ticks\":\"\"}},\"marker\":{\"colorbar\":{\"outlinewidth\":0,\"ticks\":\"\"}},\"type\":\"scatter3d\"}],\"scattercarpet\":[{\"marker\":{\"colorbar\":{\"outlinewidth\":0,\"ticks\":\"\"}},\"type\":\"scattercarpet\"}],\"scattergeo\":[{\"marker\":{\"colorbar\":{\"outlinewidth\":0,\"ticks\":\"\"}},\"type\":\"scattergeo\"}],\"scattergl\":[{\"marker\":{\"colorbar\":{\"outlinewidth\":0,\"ticks\":\"\"}},\"type\":\"scattergl\"}],\"scattermapbox\":[{\"marker\":{\"colorbar\":{\"outlinewidth\":0,\"ticks\":\"\"}},\"type\":\"scattermapbox\"}],\"scatterpolar\":[{\"marker\":{\"colorbar\":{\"outlinewidth\":0,\"ticks\":\"\"}},\"type\":\"scatterpolar\"}],\"scatterpolargl\":[{\"marker\":{\"colorbar\":{\"outlinewidth\":0,\"ticks\":\"\"}},\"type\":\"scatterpolargl\"}],\"scatterternary\":[{\"marker\":{\"colorbar\":{\"outlinewidth\":0,\"ticks\":\"\"}},\"type\":\"scatterternary\"}],\"surface\":[{\"colorbar\":{\"outlinewidth\":0,\"ticks\":\"\"},\"colorscale\":[[0.0,\"#0d0887\"],[0.1111111111111111,\"#46039f\"],[0.2222222222222222,\"#7201a8\"],[0.3333333333333333,\"#9c179e\"],[0.4444444444444444,\"#bd3786\"],[0.5555555555555556,\"#d8576b\"],[0.6666666666666666,\"#ed7953\"],[0.7777777777777778,\"#fb9f3a\"],[0.8888888888888888,\"#fdca26\"],[1.0,\"#f0f921\"]],\"type\":\"surface\"}],\"table\":[{\"cells\":{\"fill\":{\"color\":\"#EBF0F8\"},\"line\":{\"color\":\"white\"}},\"header\":{\"fill\":{\"color\":\"#C8D4E3\"},\"line\":{\"color\":\"white\"}},\"type\":\"table\"}]},\"layout\":{\"annotationdefaults\":{\"arrowcolor\":\"#2a3f5f\",\"arrowhead\":0,\"arrowwidth\":1},\"autotypenumbers\":\"strict\",\"coloraxis\":{\"colorbar\":{\"outlinewidth\":0,\"ticks\":\"\"}},\"colorscale\":{\"diverging\":[[0,\"#8e0152\"],[0.1,\"#c51b7d\"],[0.2,\"#de77ae\"],[0.3,\"#f1b6da\"],[0.4,\"#fde0ef\"],[0.5,\"#f7f7f7\"],[0.6,\"#e6f5d0\"],[0.7,\"#b8e186\"],[0.8,\"#7fbc41\"],[0.9,\"#4d9221\"],[1,\"#276419\"]],\"sequential\":[[0.0,\"#0d0887\"],[0.1111111111111111,\"#46039f\"],[0.2222222222222222,\"#7201a8\"],[0.3333333333333333,\"#9c179e\"],[0.4444444444444444,\"#bd3786\"],[0.5555555555555556,\"#d8576b\"],[0.6666666666666666,\"#ed7953\"],[0.7777777777777778,\"#fb9f3a\"],[0.8888888888888888,\"#fdca26\"],[1.0,\"#f0f921\"]],\"sequentialminus\":[[0.0,\"#0d0887\"],[0.1111111111111111,\"#46039f\"],[0.2222222222222222,\"#7201a8\"],[0.3333333333333333,\"#9c179e\"],[0.4444444444444444,\"#bd3786\"],[0.5555555555555556,\"#d8576b\"],[0.6666666666666666,\"#ed7953\"],[0.7777777777777778,\"#fb9f3a\"],[0.8888888888888888,\"#fdca26\"],[1.0,\"#f0f921\"]]},\"colorway\":[\"#636efa\",\"#EF553B\",\"#00cc96\",\"#ab63fa\",\"#FFA15A\",\"#19d3f3\",\"#FF6692\",\"#B6E880\",\"#FF97FF\",\"#FECB52\"],\"font\":{\"color\":\"#2a3f5f\"},\"geo\":{\"bgcolor\":\"white\",\"lakecolor\":\"white\",\"landcolor\":\"#E5ECF6\",\"showlakes\":true,\"showland\":true,\"subunitcolor\":\"white\"},\"hoverlabel\":{\"align\":\"left\"},\"hovermode\":\"closest\",\"mapbox\":{\"style\":\"light\"},\"paper_bgcolor\":\"white\",\"plot_bgcolor\":\"#E5ECF6\",\"polar\":{\"angularaxis\":{\"gridcolor\":\"white\",\"linecolor\":\"white\",\"ticks\":\"\"},\"bgcolor\":\"#E5ECF6\",\"radialaxis\":{\"gridcolor\":\"white\",\"linecolor\":\"white\",\"ticks\":\"\"}},\"scene\":{\"xaxis\":{\"backgroundcolor\":\"#E5ECF6\",\"gridcolor\":\"white\",\"gridwidth\":2,\"linecolor\":\"white\",\"showbackground\":true,\"ticks\":\"\",\"zerolinecolor\":\"white\"},\"yaxis\":{\"backgroundcolor\":\"#E5ECF6\",\"gridcolor\":\"white\",\"gridwidth\":2,\"linecolor\":\"white\",\"showbackground\":true,\"ticks\":\"\",\"zerolinecolor\":\"white\"},\"zaxis\":{\"backgroundcolor\":\"#E5ECF6\",\"gridcolor\":\"white\",\"gridwidth\":2,\"linecolor\":\"white\",\"showbackground\":true,\"ticks\":\"\",\"zerolinecolor\":\"white\"}},\"shapedefaults\":{\"line\":{\"color\":\"#2a3f5f\"}},\"ternary\":{\"aaxis\":{\"gridcolor\":\"white\",\"linecolor\":\"white\",\"ticks\":\"\"},\"baxis\":{\"gridcolor\":\"white\",\"linecolor\":\"white\",\"ticks\":\"\"},\"bgcolor\":\"#E5ECF6\",\"caxis\":{\"gridcolor\":\"white\",\"linecolor\":\"white\",\"ticks\":\"\"}},\"title\":{\"x\":0.05},\"xaxis\":{\"automargin\":true,\"gridcolor\":\"white\",\"linecolor\":\"white\",\"ticks\":\"\",\"title\":{\"standoff\":15},\"zerolinecolor\":\"white\",\"zerolinewidth\":2},\"yaxis\":{\"automargin\":true,\"gridcolor\":\"white\",\"linecolor\":\"white\",\"ticks\":\"\",\"title\":{\"standoff\":15},\"zerolinecolor\":\"white\",\"zerolinewidth\":2}}},\"geo\":{\"domain\":{\"x\":[0.0,1.0],\"y\":[0.0,1.0]},\"center\":{}},\"coloraxis\":{\"colorbar\":{\"title\":{\"text\":\"Attempted_suicide\"}},\"colorscale\":[[0.0,\"rgb(230, 240, 240)\"],[0.09090909090909091,\"rgb(191, 221, 229)\"],[0.18181818181818182,\"rgb(156, 201, 226)\"],[0.2727272727272727,\"rgb(129, 180, 227)\"],[0.36363636363636365,\"rgb(115, 154, 228)\"],[0.45454545454545453,\"rgb(117, 127, 221)\"],[0.5454545454545454,\"rgb(120, 100, 202)\"],[0.6363636363636364,\"rgb(119, 74, 175)\"],[0.7272727272727273,\"rgb(113, 50, 141)\"],[0.8181818181818182,\"rgb(100, 31, 104)\"],[0.9090909090909091,\"rgb(80, 20, 66)\"],[1.0,\"rgb(54, 14, 36)\"]]},\"legend\":{\"tracegroupgap\":0},\"title\":{\"text\":\"Attempted_suicide per Country and Year\"},\"updatemenus\":[{\"buttons\":[{\"args\":[null,{\"frame\":{\"duration\":500,\"redraw\":true},\"mode\":\"immediate\",\"fromcurrent\":true,\"transition\":{\"duration\":500,\"easing\":\"linear\"}}],\"label\":\"&#9654;\",\"method\":\"animate\"},{\"args\":[[null],{\"frame\":{\"duration\":0,\"redraw\":true},\"mode\":\"immediate\",\"fromcurrent\":true,\"transition\":{\"duration\":0,\"easing\":\"linear\"}}],\"label\":\"&#9724;\",\"method\":\"animate\"}],\"direction\":\"left\",\"pad\":{\"r\":10,\"t\":70},\"showactive\":false,\"type\":\"buttons\",\"x\":0.1,\"xanchor\":\"right\",\"y\":0,\"yanchor\":\"top\"}],\"sliders\":[{\"active\":0,\"currentvalue\":{\"prefix\":\"Year=\"},\"len\":0.9,\"pad\":{\"b\":10,\"t\":60},\"steps\":[{\"args\":[[\"2010\"],{\"frame\":{\"duration\":0,\"redraw\":true},\"mode\":\"immediate\",\"fromcurrent\":true,\"transition\":{\"duration\":0,\"easing\":\"linear\"}}],\"label\":\"2010\",\"method\":\"animate\"},{\"args\":[[\"2011\"],{\"frame\":{\"duration\":0,\"redraw\":true},\"mode\":\"immediate\",\"fromcurrent\":true,\"transition\":{\"duration\":0,\"easing\":\"linear\"}}],\"label\":\"2011\",\"method\":\"animate\"},{\"args\":[[\"2012\"],{\"frame\":{\"duration\":0,\"redraw\":true},\"mode\":\"immediate\",\"fromcurrent\":true,\"transition\":{\"duration\":0,\"easing\":\"linear\"}}],\"label\":\"2012\",\"method\":\"animate\"},{\"args\":[[\"2013\"],{\"frame\":{\"duration\":0,\"redraw\":true},\"mode\":\"immediate\",\"fromcurrent\":true,\"transition\":{\"duration\":0,\"easing\":\"linear\"}}],\"label\":\"2013\",\"method\":\"animate\"},{\"args\":[[\"2014\"],{\"frame\":{\"duration\":0,\"redraw\":true},\"mode\":\"immediate\",\"fromcurrent\":true,\"transition\":{\"duration\":0,\"easing\":\"linear\"}}],\"label\":\"2014\",\"method\":\"animate\"},{\"args\":[[\"2015\"],{\"frame\":{\"duration\":0,\"redraw\":true},\"mode\":\"immediate\",\"fromcurrent\":true,\"transition\":{\"duration\":0,\"easing\":\"linear\"}}],\"label\":\"2015\",\"method\":\"animate\"},{\"args\":[[\"2016\"],{\"frame\":{\"duration\":0,\"redraw\":true},\"mode\":\"immediate\",\"fromcurrent\":true,\"transition\":{\"duration\":0,\"easing\":\"linear\"}}],\"label\":\"2016\",\"method\":\"animate\"},{\"args\":[[\"2017\"],{\"frame\":{\"duration\":0,\"redraw\":true},\"mode\":\"immediate\",\"fromcurrent\":true,\"transition\":{\"duration\":0,\"easing\":\"linear\"}}],\"label\":\"2017\",\"method\":\"animate\"}],\"x\":0.1,\"xanchor\":\"left\",\"y\":0,\"yanchor\":\"top\"}],\"width\":850,\"height\":600},                        {\"responsive\": true}                    ).then(function(){\n",
       "                            Plotly.addFrames('5a384100-2982-4e99-924e-44e6a2c3fd6d', [{\"data\":[{\"coloraxis\":\"coloraxis\",\"geo\":\"geo\",\"hovertemplate\":\"Year=2010<br>Country_ISO3=%{location}<br>Attempted_suicide=%{z}<extra></extra>\",\"locations\":[\"MNG\",\"PER\",\"PER\",\"MNG\"],\"name\":\"\",\"z\":[9.4,22.0,12.0,7.2],\"type\":\"choropleth\"}],\"name\":\"2010\"},{\"data\":[{\"coloraxis\":\"coloraxis\",\"geo\":\"geo\",\"hovertemplate\":\"Year=2011<br>Country_ISO3=%{location}<br>Attempted_suicide=%{z}<extra></extra>\",\"locations\":[\"VUT\",\"VUT\",\"WSM\",\"WSM\",\"KIR\",\"KIR\"],\"name\":\"\",\"z\":[19.5,28.3,53.7,67.2,31.5,29.8],\"type\":\"choropleth\"}],\"name\":\"2011\"},{\"data\":[{\"coloraxis\":\"coloraxis\",\"geo\":\"geo\",\"hovertemplate\":\"Year=2012<br>Country_ISO3=%{location}<br>Attempted_suicide=%{z}<extra></extra>\",\"locations\":[\"URY\",\"URY\",\"MYS\",\"MYS\",\"MYS\",\"MYS\",\"ARG\",\"ARG\"],\"name\":\"\",\"z\":[10.8,7.4,6.7,5.7,7.4,6.6,12.9,18.9],\"type\":\"choropleth\"}],\"name\":\"2012\"},{\"data\":[{\"coloraxis\":\"coloraxis\",\"geo\":\"geo\",\"hovertemplate\":\"Year=2013<br>Country_ISO3=%{location}<br>Attempted_suicide=%{z}<extra></extra>\",\"locations\":[\"NAM\",\"MNG\",\"MNG\",\"TUV\",\"TUV\",\"NAM\",\"NAM\",\"MNG\",\"NAM\",\"MNG\"],\"name\":\"\",\"z\":[25.2,9.2,11.6,16.3,3.6,29.9,23.8,7.7,24.4,10.4],\"type\":\"choropleth\"}],\"name\":\"2013\"},{\"data\":[{\"coloraxis\":\"coloraxis\",\"geo\":\"geo\",\"hovertemplate\":\"Year=2014<br>Country_ISO3=%{location}<br>Attempted_suicide=%{z}<extra></extra>\",\"locations\":[\"BRN\",\"BRN\",\"BRN\",\"BRN\"],\"name\":\"\",\"z\":[9.6,4.5,5.9,4.5],\"type\":\"choropleth\"}],\"name\":\"2014\"},{\"data\":[{\"coloraxis\":\"coloraxis\",\"geo\":\"geo\",\"hovertemplate\":\"Year=2015<br>Country_ISO3=%{location}<br>Attempted_suicide=%{z}<extra></extra>\",\"locations\":[\"SYC\",\"SYC\",\"THA\",\"THA\",\"NPL\",\"TLS\",\"WLF\",\"THA\",\"THA\",\"TLS\",\"NPL\",\"NPL\",\"NPL\",\"WLF\",\"TLS\",\"TLS\",\"WLF\",\"WLF\",\"IDN\",\"IDN\",\"IDN\",\"SYC\",\"IDN\",\"LAO\",\"LAO\",\"LAO\",\"LAO\",\"SYC\"],\"name\":\"\",\"z\":[20.5,19.8,16.0,12.8,10.4,8.2,9.0,11.5,10.5,9.6,11.7,9.4,7.4,16.2,9.5,7.8,16.9,14.7,4.4,3.6,3.7,13.9,2.7,4.9,6.9,3.8,5.5,17.8],\"type\":\"choropleth\"}],\"name\":\"2015\"},{\"data\":[{\"coloraxis\":\"coloraxis\",\"geo\":\"geo\",\"hovertemplate\":\"Year=2016<br>Country_ISO3=%{location}<br>Attempted_suicide=%{z}<extra></extra>\",\"locations\":[\"VUT\",\"VUT\",\"VUT\",\"BEN\",\"BEN\",\"BEN\",\"SUR\",\"SUR\",\"SUR\",\"VUT\",\"DOM\",\"BEN\",\"FJI\",\"FJI\",\"FJI\",\"FJI\",\"DOM\",\"DOM\",\"SUR\",\"BTN\",\"BTN\",\"DOM\",\"BTN\",\"BTN\"],\"name\":\"\",\"z\":[18.6,23.1,16.7,9.6,13.4,14.4,23.4,11.5,10.9,30.3,24.3,14.1,11.6,8.0,12.8,11.2,20.1,12.3,7.9,9.7,10.9,12.1,10.3,14.0],\"type\":\"choropleth\"}],\"name\":\"2016\"},{\"data\":[{\"coloraxis\":\"coloraxis\",\"geo\":\"geo\",\"hovertemplate\":\"Year=2017<br>Country_ISO3=%{location}<br>Attempted_suicide=%{z}<extra></extra>\",\"locations\":[\"MUS\",\"WSM\",\"WSM\",\"WSM\",\"JAM\",\"JAM\",\"JAM\",\"WSM\",\"MUS\",\"MUS\",\"TTO\",\"TTO\",\"TTO\",\"MUS\",\"JAM\",\"TTO\"],\"name\":\"\",\"z\":[10.9,21.0,19.7,20.7,16.1,20.6,13.2,24.0,11.5,16.5,12.2,17.9,10.4,9.4,21.8,17.5],\"type\":\"choropleth\"}],\"name\":\"2017\"}]);\n",
       "                        }).then(function(){\n",
       "                            \n",
       "var gd = document.getElementById('5a384100-2982-4e99-924e-44e6a2c3fd6d');\n",
       "var x = new MutationObserver(function (mutations, observer) {{\n",
       "        var display = window.getComputedStyle(gd).display;\n",
       "        if (!display || display === 'none') {{\n",
       "            console.log([gd, 'removed!']);\n",
       "            Plotly.purge(gd);\n",
       "            observer.disconnect();\n",
       "        }}\n",
       "}});\n",
       "\n",
       "// Listen for the removal of the full notebook cells\n",
       "var notebookContainer = gd.closest('#notebook-container');\n",
       "if (notebookContainer) {{\n",
       "    x.observe(notebookContainer, {childList: true});\n",
       "}}\n",
       "\n",
       "// Listen for the clearing of the current output cell\n",
       "var outputEl = gd.closest('.output');\n",
       "if (outputEl) {{\n",
       "    x.observe(outputEl, {childList: true});\n",
       "}}\n",
       "\n",
       "                        })                };                });            </script>        </div>"
      ]
     },
     "metadata": {},
     "output_type": "display_data"
    }
   ],
   "source": [
    "fig = plx.choropleth(df.sort_values('Year'), locations='Country_ISO3',\n",
    "                    color='Attempted_suicide',\n",
    "                    color_continuous_scale='dense',\n",
    "                    title = 'Attempted_suicide per Country and Year', \n",
    "                    animation_frame='Year')\n",
    "fig.update_layout(width = 850, height = 600, title_text=\"Attempted Suicide per Country and Year\")\n",
    "fig.show()"
   ]
  }
 ],
 "metadata": {
  "kernelspec": {
   "display_name": "Python 3 (ipykernel)",
   "language": "python",
   "name": "python3"
  },
  "language_info": {
   "codemirror_mode": {
    "name": "ipython",
    "version": 3
   },
   "file_extension": ".py",
   "mimetype": "text/x-python",
   "name": "python",
   "nbconvert_exporter": "python",
   "pygments_lexer": "ipython3",
   "version": "3.9.12"
  }
 },
 "nbformat": 4,
 "nbformat_minor": 5
}
