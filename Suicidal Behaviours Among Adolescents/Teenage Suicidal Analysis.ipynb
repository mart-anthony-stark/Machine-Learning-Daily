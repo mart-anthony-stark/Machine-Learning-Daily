{
 "cells": [
  {
   "cell_type": "code",
   "execution_count": 5,
   "id": "b1fb00dc",
   "metadata": {},
   "outputs": [],
   "source": [
    "# !pip install missingno"
   ]
  },
  {
   "cell_type": "code",
   "execution_count": 8,
   "id": "91739043",
   "metadata": {},
   "outputs": [],
   "source": [
    "# !pip install country_converter"
   ]
  },
  {
   "cell_type": "markdown",
   "id": "89ebaecf",
   "metadata": {},
   "source": [
    "# Suicidal Behaviors Among Adolescents\n",
    "# Data Analysis"
   ]
  },
  {
   "cell_type": "code",
   "execution_count": 1,
   "id": "004b8665",
   "metadata": {},
   "outputs": [],
   "source": [
    "# Import Packages\n",
    "import numpy as np\n",
    "import pandas as pd\n",
    "\n",
    "import missingno\n",
    "\n",
    "import matplotlib.pyplot as plt\n",
    "import plotly.express as plx\n",
    "\n",
    "import country_converter"
   ]
  },
  {
   "cell_type": "markdown",
   "id": "b6fea234",
   "metadata": {},
   "source": [
    "# Eploratory Data Analysis"
   ]
  },
  {
   "cell_type": "code",
   "execution_count": 2,
   "id": "201602e6",
   "metadata": {},
   "outputs": [
    {
     "data": {
      "text/html": [
       "<div>\n",
       "<style scoped>\n",
       "    .dataframe tbody tr th:only-of-type {\n",
       "        vertical-align: middle;\n",
       "    }\n",
       "\n",
       "    .dataframe tbody tr th {\n",
       "        vertical-align: top;\n",
       "    }\n",
       "\n",
       "    .dataframe thead th {\n",
       "        text-align: right;\n",
       "    }\n",
       "</style>\n",
       "<table border=\"1\" class=\"dataframe\">\n",
       "  <thead>\n",
       "    <tr style=\"text-align: right;\">\n",
       "      <th></th>\n",
       "      <th>Country</th>\n",
       "      <th>Year</th>\n",
       "      <th>Age Group</th>\n",
       "      <th>Sex</th>\n",
       "      <th>Currently_Drink_Alcohol</th>\n",
       "      <th>Really_Get_Drunk</th>\n",
       "      <th>Overwieght</th>\n",
       "      <th>Use_Marijuana</th>\n",
       "      <th>Have_Understanding_Parents</th>\n",
       "      <th>Missed_classes_without_permssion</th>\n",
       "      <th>Had_sexual_relation</th>\n",
       "      <th>Smoke_cig_currently</th>\n",
       "      <th>Had_fights</th>\n",
       "      <th>Bullied</th>\n",
       "      <th>Got_Seriously_injured</th>\n",
       "      <th>No_close_friends</th>\n",
       "      <th>Attempted_suicide</th>\n",
       "    </tr>\n",
       "  </thead>\n",
       "  <tbody>\n",
       "    <tr>\n",
       "      <th>0</th>\n",
       "      <td>Argentina</td>\n",
       "      <td>2018</td>\n",
       "      <td>13-15</td>\n",
       "      <td>Female</td>\n",
       "      <td>50.3</td>\n",
       "      <td>30.7</td>\n",
       "      <td>27.8</td>\n",
       "      <td>7.9</td>\n",
       "      <td>41.5</td>\n",
       "      <td>24.7</td>\n",
       "      <td>25.7</td>\n",
       "      <td>16.8</td>\n",
       "      <td>17.2</td>\n",
       "      <td>NaN</td>\n",
       "      <td>27.5</td>\n",
       "      <td>4.8</td>\n",
       "      <td>19.9</td>\n",
       "    </tr>\n",
       "    <tr>\n",
       "      <th>1</th>\n",
       "      <td>Argentina</td>\n",
       "      <td>2018</td>\n",
       "      <td>13-15</td>\n",
       "      <td>Male</td>\n",
       "      <td>44.9</td>\n",
       "      <td>26.1</td>\n",
       "      <td>39.1</td>\n",
       "      <td>8.4</td>\n",
       "      <td>44.5</td>\n",
       "      <td>27.9</td>\n",
       "      <td>38.4</td>\n",
       "      <td>12.1</td>\n",
       "      <td>33.2</td>\n",
       "      <td>NaN</td>\n",
       "      <td>37.4</td>\n",
       "      <td>5.5</td>\n",
       "      <td>10.4</td>\n",
       "    </tr>\n",
       "    <tr>\n",
       "      <th>2</th>\n",
       "      <td>Argentina</td>\n",
       "      <td>2018</td>\n",
       "      <td>16-17</td>\n",
       "      <td>Female</td>\n",
       "      <td>67.2</td>\n",
       "      <td>56.3</td>\n",
       "      <td>22.5</td>\n",
       "      <td>21.9</td>\n",
       "      <td>37.1</td>\n",
       "      <td>34.0</td>\n",
       "      <td>59.1</td>\n",
       "      <td>28.5</td>\n",
       "      <td>15.1</td>\n",
       "      <td>NaN</td>\n",
       "      <td>30.1</td>\n",
       "      <td>6.3</td>\n",
       "      <td>17.4</td>\n",
       "    </tr>\n",
       "    <tr>\n",
       "      <th>3</th>\n",
       "      <td>Argentina</td>\n",
       "      <td>2018</td>\n",
       "      <td>16-17</td>\n",
       "      <td>Male</td>\n",
       "      <td>68.1</td>\n",
       "      <td>55.8</td>\n",
       "      <td>27.9</td>\n",
       "      <td>27.0</td>\n",
       "      <td>39.8</td>\n",
       "      <td>39.4</td>\n",
       "      <td>68.6</td>\n",
       "      <td>28.0</td>\n",
       "      <td>33.6</td>\n",
       "      <td>NaN</td>\n",
       "      <td>40.3</td>\n",
       "      <td>6.6</td>\n",
       "      <td>11.2</td>\n",
       "    </tr>\n",
       "    <tr>\n",
       "      <th>4</th>\n",
       "      <td>Argentina</td>\n",
       "      <td>2012</td>\n",
       "      <td>13-15</td>\n",
       "      <td>Male</td>\n",
       "      <td>49.3</td>\n",
       "      <td>28.9</td>\n",
       "      <td>35.9</td>\n",
       "      <td>10.6</td>\n",
       "      <td>46.2</td>\n",
       "      <td>32.0</td>\n",
       "      <td>43.5</td>\n",
       "      <td>17.0</td>\n",
       "      <td>44.2</td>\n",
       "      <td>42.1</td>\n",
       "      <td>24.8</td>\n",
       "      <td>6.1</td>\n",
       "      <td>12.9</td>\n",
       "    </tr>\n",
       "  </tbody>\n",
       "</table>\n",
       "</div>"
      ],
      "text/plain": [
       "     Country  Year Age Group     Sex  Currently_Drink_Alcohol  \\\n",
       "0  Argentina  2018     13-15  Female                     50.3   \n",
       "1  Argentina  2018     13-15    Male                     44.9   \n",
       "2  Argentina  2018     16-17  Female                     67.2   \n",
       "3  Argentina  2018     16-17    Male                     68.1   \n",
       "4  Argentina  2012     13-15    Male                     49.3   \n",
       "\n",
       "   Really_Get_Drunk  Overwieght  Use_Marijuana  Have_Understanding_Parents  \\\n",
       "0              30.7        27.8            7.9                        41.5   \n",
       "1              26.1        39.1            8.4                        44.5   \n",
       "2              56.3        22.5           21.9                        37.1   \n",
       "3              55.8        27.9           27.0                        39.8   \n",
       "4              28.9        35.9           10.6                        46.2   \n",
       "\n",
       "   Missed_classes_without_permssion  Had_sexual_relation  Smoke_cig_currently  \\\n",
       "0                              24.7                 25.7                 16.8   \n",
       "1                              27.9                 38.4                 12.1   \n",
       "2                              34.0                 59.1                 28.5   \n",
       "3                              39.4                 68.6                 28.0   \n",
       "4                              32.0                 43.5                 17.0   \n",
       "\n",
       "   Had_fights  Bullied  Got_Seriously_injured  No_close_friends  \\\n",
       "0        17.2      NaN                   27.5               4.8   \n",
       "1        33.2      NaN                   37.4               5.5   \n",
       "2        15.1      NaN                   30.1               6.3   \n",
       "3        33.6      NaN                   40.3               6.6   \n",
       "4        44.2     42.1                   24.8               6.1   \n",
       "\n",
       "   Attempted_suicide  \n",
       "0               19.9  \n",
       "1               10.4  \n",
       "2               17.4  \n",
       "3               11.2  \n",
       "4               12.9  "
      ]
     },
     "execution_count": 2,
     "metadata": {},
     "output_type": "execute_result"
    }
   ],
   "source": [
    "df = pd.read_csv('GHSH_Pooled_Data1.csv')\n",
    "df.head()"
   ]
  },
  {
   "cell_type": "code",
   "execution_count": 3,
   "id": "39d54979",
   "metadata": {},
   "outputs": [
    {
     "name": "stdout",
     "output_type": "stream",
     "text": [
      "Shape:  (106, 17)\n"
     ]
    }
   ],
   "source": [
    "print(\"Shape: \", df.shape)"
   ]
  },
  {
   "cell_type": "code",
   "execution_count": 4,
   "id": "9b1bbba0",
   "metadata": {},
   "outputs": [
    {
     "name": "stdout",
     "output_type": "stream",
     "text": [
      "<class 'pandas.core.frame.DataFrame'>\n",
      "RangeIndex: 106 entries, 0 to 105\n",
      "Data columns (total 17 columns):\n",
      " #   Column                            Non-Null Count  Dtype  \n",
      "---  ------                            --------------  -----  \n",
      " 0   Country                           106 non-null    object \n",
      " 1   Year                              106 non-null    int64  \n",
      " 2   Age Group                         106 non-null    object \n",
      " 3   Sex                               106 non-null    object \n",
      " 4   Currently_Drink_Alcohol           106 non-null    float64\n",
      " 5   Really_Get_Drunk                  106 non-null    float64\n",
      " 6   Overwieght                        106 non-null    float64\n",
      " 7   Use_Marijuana                     106 non-null    float64\n",
      " 8   Have_Understanding_Parents        106 non-null    float64\n",
      " 9   Missed_classes_without_permssion  106 non-null    float64\n",
      " 10  Had_sexual_relation               106 non-null    float64\n",
      " 11  Smoke_cig_currently               104 non-null    float64\n",
      " 12  Had_fights                        106 non-null    float64\n",
      " 13  Bullied                           102 non-null    float64\n",
      " 14  Got_Seriously_injured             106 non-null    float64\n",
      " 15  No_close_friends                  106 non-null    float64\n",
      " 16  Attempted_suicide                 106 non-null    float64\n",
      "dtypes: float64(13), int64(1), object(3)\n",
      "memory usage: 14.2+ KB\n"
     ]
    }
   ],
   "source": [
    "df.info()"
   ]
  },
  {
   "cell_type": "markdown",
   "id": "15b5d7dc",
   "metadata": {},
   "source": [
    "## Check unique values"
   ]
  },
  {
   "cell_type": "code",
   "execution_count": 5,
   "id": "299ff32b",
   "metadata": {},
   "outputs": [],
   "source": [
    "def unique_val(columns):\n",
    "    for col in columns:\n",
    "        print(f'{\"=\"*50}\\nUnique values for {col}')\n",
    "        val = sorted(df[col].unique())\n",
    "        print(val)\n",
    "        print(f'\\nTotal Unique: {len(val)}')\n",
    "        "
   ]
  },
  {
   "cell_type": "code",
   "execution_count": 6,
   "id": "24356f53",
   "metadata": {},
   "outputs": [
    {
     "name": "stdout",
     "output_type": "stream",
     "text": [
      "==================================================\n",
      "Unique values for Country\n",
      "['Argentina', 'Barabados', 'Benin', 'Bhutan', 'Brunei Darussalam ', 'Dominican Republic ', 'Fiji Islands', 'Indonesia', 'Jamaica', 'Kiribati', 'Laos', 'Malaysia', 'Mauritus', 'Mongolia', 'Namibia', 'Nepal', 'Peru', 'Samoa', 'Seychelles', 'Suriname', 'Thailand', 'Timor-Leste ', 'Trinidad and Tobago ', 'Tuvalu ', 'Uruguay ', 'Vanuatu ', 'Wallis and Futuna ']\n",
      "\n",
      "Total Unique: 27\n",
      "==================================================\n",
      "Unique values for Year\n",
      "[2010, 2011, 2012, 2013, 2014, 2015, 2016, 2017, 2018]\n",
      "\n",
      "Total Unique: 9\n",
      "==================================================\n",
      "Unique values for Age Group\n",
      "['13-15', '16-17']\n",
      "\n",
      "Total Unique: 2\n",
      "==================================================\n",
      "Unique values for Sex\n",
      "['Female', 'Male']\n",
      "\n",
      "Total Unique: 2\n"
     ]
    }
   ],
   "source": [
    "unique_val(['Country', 'Year', 'Age Group', 'Sex'])"
   ]
  },
  {
   "cell_type": "markdown",
   "id": "48ca5f03",
   "metadata": {},
   "source": [
    "- 27 Countries\n",
    "- 8 years from 2010-2018\n",
    "- Age group: 13-15 | 16-17"
   ]
  },
  {
   "cell_type": "markdown",
   "id": "4e947927",
   "metadata": {},
   "source": [
    "## Check missing data"
   ]
  },
  {
   "cell_type": "code",
   "execution_count": 7,
   "id": "01239c22",
   "metadata": {},
   "outputs": [
    {
     "name": "stdout",
     "output_type": "stream",
     "text": [
      "Missing data:  6\n"
     ]
    }
   ],
   "source": [
    "print(\"Missing data: \",df.isnull().sum().sum())"
   ]
  },
  {
   "cell_type": "code",
   "execution_count": 8,
   "id": "4fed4252",
   "metadata": {},
   "outputs": [
    {
     "data": {
      "image/png": "[encoded data removed]",
      "text/plain": [
       "<Figure size 2500x1000 with 2 Axes>"
      ]
     },
     "metadata": {},
     "output_type": "display_data"
    }
   ],
   "source": [
    "missingno.matrix(df)\n",
    "plt.show()"
   ]
  },
  {
   "cell_type": "markdown",
   "id": "407d8137",
   "metadata": {},
   "source": [
    "### Since there are only few(6) null values, it is okay to drop them in dataset "
   ]
  },
  {
   "cell_type": "code",
   "execution_count": 9,
   "id": "94a3b3d2",
   "metadata": {},
   "outputs": [
    {
     "data": {
      "text/html": [
       "<div>\n",
       "<style scoped>\n",
       "    .dataframe tbody tr th:only-of-type {\n",
       "        vertical-align: middle;\n",
       "    }\n",
       "\n",
       "    .dataframe tbody tr th {\n",
       "        vertical-align: top;\n",
       "    }\n",
       "\n",
       "    .dataframe thead th {\n",
       "        text-align: right;\n",
       "    }\n",
       "</style>\n",
       "<table border=\"1\" class=\"dataframe\">\n",
       "  <thead>\n",
       "    <tr style=\"text-align: right;\">\n",
       "      <th></th>\n",
       "      <th>Country</th>\n",
       "      <th>Year</th>\n",
       "      <th>Age Group</th>\n",
       "      <th>Sex</th>\n",
       "      <th>Currently_Drink_Alcohol</th>\n",
       "      <th>Really_Get_Drunk</th>\n",
       "      <th>Overwieght</th>\n",
       "      <th>Use_Marijuana</th>\n",
       "      <th>Have_Understanding_Parents</th>\n",
       "      <th>Missed_classes_without_permssion</th>\n",
       "      <th>Had_sexual_relation</th>\n",
       "      <th>Smoke_cig_currently</th>\n",
       "      <th>Had_fights</th>\n",
       "      <th>Bullied</th>\n",
       "      <th>Got_Seriously_injured</th>\n",
       "      <th>No_close_friends</th>\n",
       "      <th>Attempted_suicide</th>\n",
       "    </tr>\n",
       "  </thead>\n",
       "  <tbody>\n",
       "    <tr>\n",
       "      <th>0</th>\n",
       "      <td>Argentina</td>\n",
       "      <td>2012</td>\n",
       "      <td>13-15</td>\n",
       "      <td>Male</td>\n",
       "      <td>49.3</td>\n",
       "      <td>28.9</td>\n",
       "      <td>35.9</td>\n",
       "      <td>10.6</td>\n",
       "      <td>46.2</td>\n",
       "      <td>32.0</td>\n",
       "      <td>43.5</td>\n",
       "      <td>17.0</td>\n",
       "      <td>44.2</td>\n",
       "      <td>42.1</td>\n",
       "      <td>24.8</td>\n",
       "      <td>6.1</td>\n",
       "      <td>12.9</td>\n",
       "    </tr>\n",
       "    <tr>\n",
       "      <th>1</th>\n",
       "      <td>Argentina</td>\n",
       "      <td>2012</td>\n",
       "      <td>13-15</td>\n",
       "      <td>Female</td>\n",
       "      <td>50.7</td>\n",
       "      <td>26.8</td>\n",
       "      <td>21.8</td>\n",
       "      <td>6.5</td>\n",
       "      <td>49.9</td>\n",
       "      <td>29.4</td>\n",
       "      <td>30.7</td>\n",
       "      <td>20.5</td>\n",
       "      <td>24.7</td>\n",
       "      <td>25.2</td>\n",
       "      <td>24.2</td>\n",
       "      <td>4.3</td>\n",
       "      <td>18.9</td>\n",
       "    </tr>\n",
       "    <tr>\n",
       "      <th>2</th>\n",
       "      <td>Benin</td>\n",
       "      <td>2016</td>\n",
       "      <td>13-15</td>\n",
       "      <td>Male</td>\n",
       "      <td>38.0</td>\n",
       "      <td>19.3</td>\n",
       "      <td>12.7</td>\n",
       "      <td>0.8</td>\n",
       "      <td>35.7</td>\n",
       "      <td>18.8</td>\n",
       "      <td>31.8</td>\n",
       "      <td>5.1</td>\n",
       "      <td>32.1</td>\n",
       "      <td>47.4</td>\n",
       "      <td>48.4</td>\n",
       "      <td>10.8</td>\n",
       "      <td>14.4</td>\n",
       "    </tr>\n",
       "    <tr>\n",
       "      <th>3</th>\n",
       "      <td>Benin</td>\n",
       "      <td>2016</td>\n",
       "      <td>13-15</td>\n",
       "      <td>Female</td>\n",
       "      <td>42.4</td>\n",
       "      <td>16.8</td>\n",
       "      <td>18.3</td>\n",
       "      <td>0.2</td>\n",
       "      <td>39.7</td>\n",
       "      <td>6.5</td>\n",
       "      <td>14.2</td>\n",
       "      <td>1.3</td>\n",
       "      <td>27.3</td>\n",
       "      <td>51.5</td>\n",
       "      <td>40.4</td>\n",
       "      <td>14.2</td>\n",
       "      <td>9.6</td>\n",
       "    </tr>\n",
       "    <tr>\n",
       "      <th>4</th>\n",
       "      <td>Benin</td>\n",
       "      <td>2016</td>\n",
       "      <td>16-17</td>\n",
       "      <td>Male</td>\n",
       "      <td>46.5</td>\n",
       "      <td>29.6</td>\n",
       "      <td>3.3</td>\n",
       "      <td>2.1</td>\n",
       "      <td>33.3</td>\n",
       "      <td>17.3</td>\n",
       "      <td>35.7</td>\n",
       "      <td>6.9</td>\n",
       "      <td>28.8</td>\n",
       "      <td>43.3</td>\n",
       "      <td>51.0</td>\n",
       "      <td>9.7</td>\n",
       "      <td>13.4</td>\n",
       "    </tr>\n",
       "    <tr>\n",
       "      <th>...</th>\n",
       "      <td>...</td>\n",
       "      <td>...</td>\n",
       "      <td>...</td>\n",
       "      <td>...</td>\n",
       "      <td>...</td>\n",
       "      <td>...</td>\n",
       "      <td>...</td>\n",
       "      <td>...</td>\n",
       "      <td>...</td>\n",
       "      <td>...</td>\n",
       "      <td>...</td>\n",
       "      <td>...</td>\n",
       "      <td>...</td>\n",
       "      <td>...</td>\n",
       "      <td>...</td>\n",
       "      <td>...</td>\n",
       "      <td>...</td>\n",
       "    </tr>\n",
       "    <tr>\n",
       "      <th>95</th>\n",
       "      <td>Vanuatu</td>\n",
       "      <td>2011</td>\n",
       "      <td>13-15</td>\n",
       "      <td>Female</td>\n",
       "      <td>5.8</td>\n",
       "      <td>4.7</td>\n",
       "      <td>13.6</td>\n",
       "      <td>1.9</td>\n",
       "      <td>20.2</td>\n",
       "      <td>44.6</td>\n",
       "      <td>8.4</td>\n",
       "      <td>8.2</td>\n",
       "      <td>41.8</td>\n",
       "      <td>66.5</td>\n",
       "      <td>57.4</td>\n",
       "      <td>14.3</td>\n",
       "      <td>19.5</td>\n",
       "    </tr>\n",
       "    <tr>\n",
       "      <th>96</th>\n",
       "      <td>Wallis and Futuna</td>\n",
       "      <td>2015</td>\n",
       "      <td>13-15</td>\n",
       "      <td>Male</td>\n",
       "      <td>32.2</td>\n",
       "      <td>35.5</td>\n",
       "      <td>60.5</td>\n",
       "      <td>4.0</td>\n",
       "      <td>36.3</td>\n",
       "      <td>32.7</td>\n",
       "      <td>32.0</td>\n",
       "      <td>25.7</td>\n",
       "      <td>48.7</td>\n",
       "      <td>30.2</td>\n",
       "      <td>51.2</td>\n",
       "      <td>4.1</td>\n",
       "      <td>14.7</td>\n",
       "    </tr>\n",
       "    <tr>\n",
       "      <th>97</th>\n",
       "      <td>Wallis and Futuna</td>\n",
       "      <td>2015</td>\n",
       "      <td>13-15</td>\n",
       "      <td>Female</td>\n",
       "      <td>24.4</td>\n",
       "      <td>27.1</td>\n",
       "      <td>63.0</td>\n",
       "      <td>2.0</td>\n",
       "      <td>36.3</td>\n",
       "      <td>16.2</td>\n",
       "      <td>13.6</td>\n",
       "      <td>29.9</td>\n",
       "      <td>22.9</td>\n",
       "      <td>30.9</td>\n",
       "      <td>41.7</td>\n",
       "      <td>3.3</td>\n",
       "      <td>16.9</td>\n",
       "    </tr>\n",
       "    <tr>\n",
       "      <th>98</th>\n",
       "      <td>Wallis and Futuna</td>\n",
       "      <td>2015</td>\n",
       "      <td>16-17</td>\n",
       "      <td>Male</td>\n",
       "      <td>48.3</td>\n",
       "      <td>53.7</td>\n",
       "      <td>57.8</td>\n",
       "      <td>10.1</td>\n",
       "      <td>36.5</td>\n",
       "      <td>38.9</td>\n",
       "      <td>55.7</td>\n",
       "      <td>40.0</td>\n",
       "      <td>49.6</td>\n",
       "      <td>23.6</td>\n",
       "      <td>54.5</td>\n",
       "      <td>7.3</td>\n",
       "      <td>9.0</td>\n",
       "    </tr>\n",
       "    <tr>\n",
       "      <th>99</th>\n",
       "      <td>Wallis and Futuna</td>\n",
       "      <td>2015</td>\n",
       "      <td>16-17</td>\n",
       "      <td>Female</td>\n",
       "      <td>42.9</td>\n",
       "      <td>51.7</td>\n",
       "      <td>70.6</td>\n",
       "      <td>3.9</td>\n",
       "      <td>37.8</td>\n",
       "      <td>37.2</td>\n",
       "      <td>22.4</td>\n",
       "      <td>41.7</td>\n",
       "      <td>17.3</td>\n",
       "      <td>29.4</td>\n",
       "      <td>30.4</td>\n",
       "      <td>1.5</td>\n",
       "      <td>16.2</td>\n",
       "    </tr>\n",
       "  </tbody>\n",
       "</table>\n",
       "<p>100 rows × 17 columns</p>\n",
       "</div>"
      ],
      "text/plain": [
       "               Country  Year Age Group     Sex  Currently_Drink_Alcohol  \\\n",
       "0            Argentina  2012     13-15    Male                     49.3   \n",
       "1            Argentina  2012     13-15  Female                     50.7   \n",
       "2                Benin  2016     13-15    Male                     38.0   \n",
       "3                Benin  2016     13-15  Female                     42.4   \n",
       "4                Benin  2016     16-17    Male                     46.5   \n",
       "..                 ...   ...       ...     ...                      ...   \n",
       "95            Vanuatu   2011     13-15  Female                      5.8   \n",
       "96  Wallis and Futuna   2015     13-15    Male                     32.2   \n",
       "97  Wallis and Futuna   2015     13-15  Female                     24.4   \n",
       "98  Wallis and Futuna   2015     16-17    Male                     48.3   \n",
       "99  Wallis and Futuna   2015     16-17  Female                     42.9   \n",
       "\n",
       "    Really_Get_Drunk  Overwieght  Use_Marijuana  Have_Understanding_Parents  \\\n",
       "0               28.9        35.9           10.6                        46.2   \n",
       "1               26.8        21.8            6.5                        49.9   \n",
       "2               19.3        12.7            0.8                        35.7   \n",
       "3               16.8        18.3            0.2                        39.7   \n",
       "4               29.6         3.3            2.1                        33.3   \n",
       "..               ...         ...            ...                         ...   \n",
       "95               4.7        13.6            1.9                        20.2   \n",
       "96              35.5        60.5            4.0                        36.3   \n",
       "97              27.1        63.0            2.0                        36.3   \n",
       "98              53.7        57.8           10.1                        36.5   \n",
       "99              51.7        70.6            3.9                        37.8   \n",
       "\n",
       "    Missed_classes_without_permssion  Had_sexual_relation  \\\n",
       "0                               32.0                 43.5   \n",
       "1                               29.4                 30.7   \n",
       "2                               18.8                 31.8   \n",
       "3                                6.5                 14.2   \n",
       "4                               17.3                 35.7   \n",
       "..                               ...                  ...   \n",
       "95                              44.6                  8.4   \n",
       "96                              32.7                 32.0   \n",
       "97                              16.2                 13.6   \n",
       "98                              38.9                 55.7   \n",
       "99                              37.2                 22.4   \n",
       "\n",
       "    Smoke_cig_currently  Had_fights  Bullied  Got_Seriously_injured  \\\n",
       "0                  17.0        44.2     42.1                   24.8   \n",
       "1                  20.5        24.7     25.2                   24.2   \n",
       "2                   5.1        32.1     47.4                   48.4   \n",
       "3                   1.3        27.3     51.5                   40.4   \n",
       "4                   6.9        28.8     43.3                   51.0   \n",
       "..                  ...         ...      ...                    ...   \n",
       "95                  8.2        41.8     66.5                   57.4   \n",
       "96                 25.7        48.7     30.2                   51.2   \n",
       "97                 29.9        22.9     30.9                   41.7   \n",
       "98                 40.0        49.6     23.6                   54.5   \n",
       "99                 41.7        17.3     29.4                   30.4   \n",
       "\n",
       "    No_close_friends  Attempted_suicide  \n",
       "0                6.1               12.9  \n",
       "1                4.3               18.9  \n",
       "2               10.8               14.4  \n",
       "3               14.2                9.6  \n",
       "4                9.7               13.4  \n",
       "..               ...                ...  \n",
       "95              14.3               19.5  \n",
       "96               4.1               14.7  \n",
       "97               3.3               16.9  \n",
       "98               7.3                9.0  \n",
       "99               1.5               16.2  \n",
       "\n",
       "[100 rows x 17 columns]"
      ]
     },
     "execution_count": 9,
     "metadata": {},
     "output_type": "execute_result"
    }
   ],
   "source": [
    "df.dropna(axis=0, inplace=True)\n",
    "df.reset_index(drop=True)"
   ]
  },
  {
   "cell_type": "markdown",
   "id": "bb21be9b",
   "metadata": {},
   "source": [
    "## Visualize Suicidal Rate By Country"
   ]
  },
  {
   "cell_type": "code",
   "execution_count": 12,
   "id": "9f9e4ad5",
   "metadata": {},
   "outputs": [
    {
     "data": {
      "application/vnd.plotly.v1+json": {
       "config": {
        "plotlyServerURL": "https://plot.ly"
       },
       "data": [
        {
         "alignmentgroup": "True",
         "hovertemplate": "x=%{x}<br>y=%{y}<br>color=%{marker.color}<extra></extra>",
         "legendgroup": "",
         "marker": {
          "color": [
           34.38333333333333,
           30.65,
           25.825,
           22.75,
           18,
           17.925,
           17.200000000000003,
           17,
           15.899999999999999,
           14.5,
           14.2,
           13.425,
           12.875,
           12.7,
           12.075,
           11.225,
           10.9,
           9.950000000000001,
           9.725,
           9.25,
           9.100000000000001,
           8.775,
           6.6,
           6.125,
           5.275,
           3.6
          ],
          "coloraxis": "coloraxis",
          "pattern": {
           "shape": ""
          }
         },
         "name": "",
         "offsetgroup": "",
         "orientation": "v",
         "showlegend": false,
         "textposition": "auto",
         "type": "bar",
         "x": [
          "Samoa",
          "Kiribati",
          "Namibia",
          "Vanuatu ",
          "Seychelles",
          "Jamaica",
          "Dominican Republic ",
          "Peru",
          "Argentina",
          "Trinidad and Tobago ",
          "Wallis and Futuna ",
          "Suriname",
          "Benin",
          "Thailand",
          "Mauritus",
          "Bhutan",
          "Fiji Islands",
          "Tuvalu ",
          "Nepal",
          "Mongolia",
          "Uruguay ",
          "Timor-Leste ",
          "Malaysia",
          "Brunei Darussalam ",
          "Laos",
          "Indonesia"
         ],
         "xaxis": "x",
         "y": [
          34.38333333333333,
          30.65,
          25.825,
          22.75,
          18,
          17.925,
          17.200000000000003,
          17,
          15.899999999999999,
          14.5,
          14.2,
          13.425,
          12.875,
          12.7,
          12.075,
          11.225,
          10.9,
          9.950000000000001,
          9.725,
          9.25,
          9.100000000000001,
          8.775,
          6.6,
          6.125,
          5.275,
          3.6
         ],
         "yaxis": "y"
        }
       ],
       "layout": {
        "barmode": "relative",
        "coloraxis": {
         "colorbar": {
          "title": {
           "text": "color"
          }
         },
         "colorscale": [
          [
           0,
           "rgb(230, 240, 240)"
          ],
          [
           0.09090909090909091,
           "rgb(191, 221, 229)"
          ],
          [
           0.18181818181818182,
           "rgb(156, 201, 226)"
          ],
          [
           0.2727272727272727,
           "rgb(129, 180, 227)"
          ],
          [
           0.36363636363636365,
           "rgb(115, 154, 228)"
          ],
          [
           0.45454545454545453,
           "rgb(117, 127, 221)"
          ],
          [
           0.5454545454545454,
           "rgb(120, 100, 202)"
          ],
          [
           0.6363636363636364,
           "rgb(119, 74, 175)"
          ],
          [
           0.7272727272727273,
           "rgb(113, 50, 141)"
          ],
          [
           0.8181818181818182,
           "rgb(100, 31, 104)"
          ],
          [
           0.9090909090909091,
           "rgb(80, 20, 66)"
          ],
          [
           1,
           "rgb(54, 14, 36)"
          ]
         ]
        },
        "height": 500,
        "legend": {
         "tracegroupgap": 0
        },
        "margin": {
         "t": 60
        },
        "template": {
         "data": {
          "bar": [
           {
            "error_x": {
             "color": "#2a3f5f"
            },
            "error_y": {
             "color": "#2a3f5f"
            },
            "marker": {
             "line": {
              "color": "#E5ECF6",
              "width": 0.5
             },
             "pattern": {
              "fillmode": "overlay",
              "size": 10,
              "solidity": 0.2
             }
            },
            "type": "bar"
           }
          ],
          "barpolar": [
           {
            "marker": {
             "line": {
              "color": "#E5ECF6",
              "width": 0.5
             },
             "pattern": {
              "fillmode": "overlay",
              "size": 10,
              "solidity": 0.2
             }
            },
            "type": "barpolar"
           }
          ],
          "carpet": [
           {
            "aaxis": {
             "endlinecolor": "#2a3f5f",
             "gridcolor": "white",
             "linecolor": "white",
             "minorgridcolor": "white",
             "startlinecolor": "#2a3f5f"
            },
            "baxis": {
             "endlinecolor": "#2a3f5f",
             "gridcolor": "white",
             "linecolor": "white",
             "minorgridcolor": "white",
             "startlinecolor": "#2a3f5f"
            },
            "type": "carpet"
           }
          ],
          "choropleth": [
           {
            "colorbar": {
             "outlinewidth": 0,
             "ticks": ""
            },
            "type": "choropleth"
           }
          ],
          "contour": [
           {
            "colorbar": {
             "outlinewidth": 0,
             "ticks": ""
            },
            "colorscale": [
             [
              0,
              "#0d0887"
             ],
             [
              0.1111111111111111,
              "#46039f"
             ],
             [
              0.2222222222222222,
              "#7201a8"
             ],
             [
              0.3333333333333333,
              "#9c179e"
             ],
             [
              0.4444444444444444,
              "#bd3786"
             ],
             [
              0.5555555555555556,
              "#d8576b"
             ],
             [
              0.6666666666666666,
              "#ed7953"
             ],
             [
              0.7777777777777778,
              "#fb9f3a"
             ],
             [
              0.8888888888888888,
              "#fdca26"
             ],
             [
              1,
              "#f0f921"
             ]
            ],
            "type": "contour"
           }
          ],
          "contourcarpet": [
           {
            "colorbar": {
             "outlinewidth": 0,
             "ticks": ""
            },
            "type": "contourcarpet"
           }
          ],
          "heatmap": [
           {
            "colorbar": {
             "outlinewidth": 0,
             "ticks": ""
            },
            "colorscale": [
             [
              0,
              "#0d0887"
             ],
             [
              0.1111111111111111,
              "#46039f"
             ],
             [
              0.2222222222222222,
              "#7201a8"
             ],
             [
              0.3333333333333333,
              "#9c179e"
             ],
             [
              0.4444444444444444,
              "#bd3786"
             ],
             [
              0.5555555555555556,
              "#d8576b"
             ],
             [
              0.6666666666666666,
              "#ed7953"
             ],
             [
              0.7777777777777778,
              "#fb9f3a"
             ],
             [
              0.8888888888888888,
              "#fdca26"
             ],
             [
              1,
              "#f0f921"
             ]
            ],
            "type": "heatmap"
           }
          ],
          "heatmapgl": [
           {
            "colorbar": {
             "outlinewidth": 0,
             "ticks": ""
            },
            "colorscale": [
             [
              0,
              "#0d0887"
             ],
             [
              0.1111111111111111,
              "#46039f"
             ],
             [
              0.2222222222222222,
              "#7201a8"
             ],
             [
              0.3333333333333333,
              "#9c179e"
             ],
             [
              0.4444444444444444,
              "#bd3786"
             ],
             [
              0.5555555555555556,
              "#d8576b"
             ],
             [
              0.6666666666666666,
              "#ed7953"
             ],
             [
              0.7777777777777778,
              "#fb9f3a"
             ],
             [
              0.8888888888888888,
              "#fdca26"
             ],
             [
              1,
              "#f0f921"
             ]
            ],
            "type": "heatmapgl"
           }
          ],
          "histogram": [
           {
            "marker": {
             "pattern": {
              "fillmode": "overlay",
              "size": 10,
              "solidity": 0.2
             }
            },
            "type": "histogram"
           }
          ],
          "histogram2d": [
           {
            "colorbar": {
             "outlinewidth": 0,
             "ticks": ""
            },
            "colorscale": [
             [
              0,
              "#0d0887"
             ],
             [
              0.1111111111111111,
              "#46039f"
             ],
             [
              0.2222222222222222,
              "#7201a8"
             ],
             [
              0.3333333333333333,
              "#9c179e"
             ],
             [
              0.4444444444444444,
              "#bd3786"
             ],
             [
              0.5555555555555556,
              "#d8576b"
             ],
             [
              0.6666666666666666,
              "#ed7953"
             ],
             [
              0.7777777777777778,
              "#fb9f3a"
             ],
             [
              0.8888888888888888,
              "#fdca26"
             ],
             [
              1,
              "#f0f921"
             ]
            ],
            "type": "histogram2d"
           }
          ],
          "histogram2dcontour": [
           {
            "colorbar": {
             "outlinewidth": 0,
             "ticks": ""
            },
            "colorscale": [
             [
              0,
              "#0d0887"
             ],
             [
              0.1111111111111111,
              "#46039f"
             ],
             [
              0.2222222222222222,
              "#7201a8"
             ],
             [
              0.3333333333333333,
              "#9c179e"
             ],
             [
              0.4444444444444444,
              "#bd3786"
             ],
             [
              0.5555555555555556,
              "#d8576b"
             ],
             [
              0.6666666666666666,
              "#ed7953"
             ],
             [
              0.7777777777777778,
              "#fb9f3a"
             ],
             [
              0.8888888888888888,
              "#fdca26"
             ],
             [
              1,
              "#f0f921"
             ]
            ],
            "type": "histogram2dcontour"
           }
          ],
          "mesh3d": [
           {
            "colorbar": {
             "outlinewidth": 0,
             "ticks": ""
            },
            "type": "mesh3d"
           }
          ],
          "parcoords": [
           {
            "line": {
             "colorbar": {
              "outlinewidth": 0,
              "ticks": ""
             }
            },
            "type": "parcoords"
           }
          ],
          "pie": [
           {
            "automargin": true,
            "type": "pie"
           }
          ],
          "scatter": [
           {
            "fillpattern": {
             "fillmode": "overlay",
             "size": 10,
             "solidity": 0.2
            },
            "type": "scatter"
           }
          ],
          "scatter3d": [
           {
            "line": {
             "colorbar": {
              "outlinewidth": 0,
              "ticks": ""
             }
            },
            "marker": {
             "colorbar": {
              "outlinewidth": 0,
              "ticks": ""
             }
            },
            "type": "scatter3d"
           }
          ],
          "scattercarpet": [
           {
            "marker": {
             "colorbar": {
              "outlinewidth": 0,
              "ticks": ""
             }
            },
            "type": "scattercarpet"
           }
          ],
          "scattergeo": [
           {
            "marker": {
             "colorbar": {
              "outlinewidth": 0,
              "ticks": ""
             }
            },
            "type": "scattergeo"
           }
          ],
          "scattergl": [
           {
            "marker": {
             "colorbar": {
              "outlinewidth": 0,
              "ticks": ""
             }
            },
            "type": "scattergl"
           }
          ],
          "scattermapbox": [
           {
            "marker": {
             "colorbar": {
              "outlinewidth": 0,
              "ticks": ""
             }
            },
            "type": "scattermapbox"
           }
          ],
          "scatterpolar": [
           {
            "marker": {
             "colorbar": {
              "outlinewidth": 0,
              "ticks": ""
             }
            },
            "type": "scatterpolar"
           }
          ],
          "scatterpolargl": [
           {
            "marker": {
             "colorbar": {
              "outlinewidth": 0,
              "ticks": ""
             }
            },
            "type": "scatterpolargl"
           }
          ],
          "scatterternary": [
           {
            "marker": {
             "colorbar": {
              "outlinewidth": 0,
              "ticks": ""
             }
            },
            "type": "scatterternary"
           }
          ],
          "surface": [
           {
            "colorbar": {
             "outlinewidth": 0,
             "ticks": ""
            },
            "colorscale": [
             [
              0,
              "#0d0887"
             ],
             [
              0.1111111111111111,
              "#46039f"
             ],
             [
              0.2222222222222222,
              "#7201a8"
             ],
             [
              0.3333333333333333,
              "#9c179e"
             ],
             [
              0.4444444444444444,
              "#bd3786"
             ],
             [
              0.5555555555555556,
              "#d8576b"
             ],
             [
              0.6666666666666666,
              "#ed7953"
             ],
             [
              0.7777777777777778,
              "#fb9f3a"
             ],
             [
              0.8888888888888888,
              "#fdca26"
             ],
             [
              1,
              "#f0f921"
             ]
            ],
            "type": "surface"
           }
          ],
          "table": [
           {
            "cells": {
             "fill": {
              "color": "#EBF0F8"
             },
             "line": {
              "color": "white"
             }
            },
            "header": {
             "fill": {
              "color": "#C8D4E3"
             },
             "line": {
              "color": "white"
             }
            },
            "type": "table"
           }
          ]
         },
         "layout": {
          "annotationdefaults": {
           "arrowcolor": "#2a3f5f",
           "arrowhead": 0,
           "arrowwidth": 1
          },
          "autotypenumbers": "strict",
          "coloraxis": {
           "colorbar": {
            "outlinewidth": 0,
            "ticks": ""
           }
          },
          "colorscale": {
           "diverging": [
            [
             0,
             "#8e0152"
            ],
            [
             0.1,
             "#c51b7d"
            ],
            [
             0.2,
             "#de77ae"
            ],
            [
             0.3,
             "#f1b6da"
            ],
            [
             0.4,
             "#fde0ef"
            ],
            [
             0.5,
             "#f7f7f7"
            ],
            [
             0.6,
             "#e6f5d0"
            ],
            [
             0.7,
             "#b8e186"
            ],
            [
             0.8,
             "#7fbc41"
            ],
            [
             0.9,
             "#4d9221"
            ],
            [
             1,
             "#276419"
            ]
           ],
           "sequential": [
            [
             0,
             "#0d0887"
            ],
            [
             0.1111111111111111,
             "#46039f"
            ],
            [
             0.2222222222222222,
             "#7201a8"
            ],
            [
             0.3333333333333333,
             "#9c179e"
            ],
            [
             0.4444444444444444,
             "#bd3786"
            ],
            [
             0.5555555555555556,
             "#d8576b"
            ],
            [
             0.6666666666666666,
             "#ed7953"
            ],
            [
             0.7777777777777778,
             "#fb9f3a"
            ],
            [
             0.8888888888888888,
             "#fdca26"
            ],
            [
             1,
             "#f0f921"
            ]
           ],
           "sequentialminus": [
            [
             0,
             "#0d0887"
            ],
            [
             0.1111111111111111,
             "#46039f"
            ],
            [
             0.2222222222222222,
             "#7201a8"
            ],
            [
             0.3333333333333333,
             "#9c179e"
            ],
            [
             0.4444444444444444,
             "#bd3786"
            ],
            [
             0.5555555555555556,
             "#d8576b"
            ],
            [
             0.6666666666666666,
             "#ed7953"
            ],
            [
             0.7777777777777778,
             "#fb9f3a"
            ],
            [
             0.8888888888888888,
             "#fdca26"
            ],
            [
             1,
             "#f0f921"
            ]
           ]
          },
          "colorway": [
           "#636efa",
           "#EF553B",
           "#00cc96",
           "#ab63fa",
           "#FFA15A",
           "#19d3f3",
           "#FF6692",
           "#B6E880",
           "#FF97FF",
           "#FECB52"
          ],
          "font": {
           "color": "#2a3f5f"
          },
          "geo": {
           "bgcolor": "white",
           "lakecolor": "white",
           "landcolor": "#E5ECF6",
           "showlakes": true,
           "showland": true,
           "subunitcolor": "white"
          },
          "hoverlabel": {
           "align": "left"
          },
          "hovermode": "closest",
          "mapbox": {
           "style": "light"
          },
          "paper_bgcolor": "white",
          "plot_bgcolor": "#E5ECF6",
          "polar": {
           "angularaxis": {
            "gridcolor": "white",
            "linecolor": "white",
            "ticks": ""
           },
           "bgcolor": "#E5ECF6",
           "radialaxis": {
            "gridcolor": "white",
            "linecolor": "white",
            "ticks": ""
           }
          },
          "scene": {
           "xaxis": {
            "backgroundcolor": "#E5ECF6",
            "gridcolor": "white",
            "gridwidth": 2,
            "linecolor": "white",
            "showbackground": true,
            "ticks": "",
            "zerolinecolor": "white"
           },
           "yaxis": {
            "backgroundcolor": "#E5ECF6",
            "gridcolor": "white",
            "gridwidth": 2,
            "linecolor": "white",
            "showbackground": true,
            "ticks": "",
            "zerolinecolor": "white"
           },
           "zaxis": {
            "backgroundcolor": "#E5ECF6",
            "gridcolor": "white",
            "gridwidth": 2,
            "linecolor": "white",
            "showbackground": true,
            "ticks": "",
            "zerolinecolor": "white"
           }
          },
          "shapedefaults": {
           "line": {
            "color": "#2a3f5f"
           }
          },
          "ternary": {
           "aaxis": {
            "gridcolor": "white",
            "linecolor": "white",
            "ticks": ""
           },
           "baxis": {
            "gridcolor": "white",
            "linecolor": "white",
            "ticks": ""
           },
           "bgcolor": "#E5ECF6",
           "caxis": {
            "gridcolor": "white",
            "linecolor": "white",
            "ticks": ""
           }
          },
          "title": {
           "x": 0.05
          },
          "xaxis": {
           "automargin": true,
           "gridcolor": "white",
           "linecolor": "white",
           "ticks": "",
           "title": {
            "standoff": 15
           },
           "zerolinecolor": "white",
           "zerolinewidth": 2
          },
          "yaxis": {
           "automargin": true,
           "gridcolor": "white",
           "linecolor": "white",
           "ticks": "",
           "title": {
            "standoff": 15
           },
           "zerolinecolor": "white",
           "zerolinewidth": 2
          }
         }
        },
        "title": {
         "text": "Suicidal Rates by Country"
        },
        "width": 850,
        "xaxis": {
         "anchor": "y",
         "domain": [
          0,
          1
         ],
         "title": {
          "text": "Country"
         }
        },
        "yaxis": {
         "anchor": "x",
         "domain": [
          0,
          1
         ],
         "title": {
          "text": "Suicidal Rate"
         }
        }
       }
      }
     },
     "metadata": {},
     "output_type": "display_data"
    }
   ],
   "source": [
    "df_mean = df.groupby('Country')[['Attempted_suicide']].mean().sort_values('Attempted_suicide', ascending=False)\n",
    "fig_bar = plx.bar(x=df_mean.index, y=df_mean['Attempted_suicide'], color=df_mean['Attempted_suicide'], color_continuous_scale='dense')\n",
    "fig_bar.update_layout(width=850, height=500, title_text='Suicidal Rates by Country')\n",
    "fig_bar.update_xaxes(title='Country')\n",
    "fig_bar.update_yaxes(title=\"Suicidal Rate\")\n",
    "fig_bar.show()"
   ]
  }
 ],
 "metadata": {
  "kernelspec": {
   "display_name": "Python 3 (ipykernel)",
   "language": "python",
   "name": "python3"
  },
  "language_info": {
   "codemirror_mode": {
    "name": "ipython",
    "version": 3
   },
   "file_extension": ".py",
   "mimetype": "text/x-python",
   "name": "python",
   "nbconvert_exporter": "python",
   "pygments_lexer": "ipython3",
   "version": "3.9.13"
  },
  "vscode": {
   "interpreter": {
    "hash": "fc6a87218d93c3eb3aa29305b960fd7fc714f48d8ac50960275ef4f8856ba0fd"
   }
  }
 },
 "nbformat": 4,
 "nbformat_minor": 5
}
