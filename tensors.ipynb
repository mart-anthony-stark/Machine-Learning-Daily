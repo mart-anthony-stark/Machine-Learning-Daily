{
  "nbformat": 4,
  "nbformat_minor": 0,
  "metadata": {
    "colab": {
      "name": "tensors.ipynb",
      "provenance": [],
      "collapsed_sections": [],
      "toc_visible": true,
      "authorship_tag": "ABX9TyM3vYLPineNN7idAucs/12Q",
      "include_colab_link": true
    },
    "kernelspec": {
      "name": "python3",
      "display_name": "Python 3"
    },
    "language_info": {
      "name": "python"
    }
  },
  "cells": [
    {
      "cell_type": "markdown",
      "metadata": {
        "id": "view-in-github",
        "colab_type": "text"
      },
      "source": [
        "<a href=\"https://colab.research.google.com/github/mart-anthony-stark/Machine-Learning-Daily/blob/main/tensors.ipynb\" target=\"_parent\"><img src=\"https://colab.research.google.com/assets/colab-badge.svg\" alt=\"Open In Colab\"/></a>"
      ]
    },
    {
      "cell_type": "code",
      "execution_count": 24,
      "metadata": {
        "id": "5VXgJL4Da8-N"
      },
      "outputs": [],
      "source": [
        "import tensorflow as tf"
      ]
    },
    {
      "cell_type": "code",
      "source": [
        "string = tf.Variable(\"string tensor\", tf.string)\n",
        "floating = tf.Variable(3.14, tf.float16)\n",
        "number = tf.Variable(400, tf.int16)\n",
        "\n",
        "string, floating, number"
      ],
      "metadata": {
        "colab": {
          "base_uri": "https://localhost:8080/"
        },
        "id": "K5i7J-i2bBBo",
        "outputId": "13b4af1c-208d-472d-bf54-c72cde49c6f1"
      },
      "execution_count": 25,
      "outputs": [
        {
          "output_type": "execute_result",
          "data": {
            "text/plain": [
              "(<tf.Variable 'Variable_5:0' shape=() dtype=string>,\n",
              " <tf.Variable 'Variable_6:0' shape=() dtype=float32>,\n",
              " <tf.Variable 'Variable_7:0' shape=() dtype=int32>)"
            ]
          },
          "metadata": {},
          "execution_count": 25
        }
      ]
    },
    {
      "cell_type": "markdown",
      "source": [
        "## Rank or degree of tensors"
      ],
      "metadata": {
        "id": "LzFRVamhbcaO"
      }
    },
    {
      "cell_type": "code",
      "source": [
        "rank1_tensor = tf.Variable([\"test\"], tf.string)\n",
        "rank2_tensor = tf.Variable([[\"test\", \"ok\"],[\"test\", \"yes\"]], tf.string)"
      ],
      "metadata": {
        "id": "eguCbLakbf3Y"
      },
      "execution_count": 26,
      "outputs": []
    },
    {
      "cell_type": "markdown",
      "source": [
        "to determine rank of tensor"
      ],
      "metadata": {
        "id": "9wsaPpccb0Ia"
      }
    },
    {
      "cell_type": "code",
      "source": [
        "tf.rank(rank2_tensor)"
      ],
      "metadata": {
        "colab": {
          "base_uri": "https://localhost:8080/"
        },
        "id": "9lFHp6Rkb3qU",
        "outputId": "5ac88451-4d3b-4664-aec8-6997661ee846"
      },
      "execution_count": 27,
      "outputs": [
        {
          "output_type": "execute_result",
          "data": {
            "text/plain": [
              "<tf.Tensor 'Rank_1:0' shape=() dtype=int32>"
            ]
          },
          "metadata": {},
          "execution_count": 27
        }
      ]
    },
    {
      "cell_type": "code",
      "source": [
        "rank2_tensor.shape"
      ],
      "metadata": {
        "colab": {
          "base_uri": "https://localhost:8080/"
        },
        "id": "HC-rVnMTcW0f",
        "outputId": "21ec02bc-d715-4b03-9247-792c27ea3dbf"
      },
      "execution_count": 28,
      "outputs": [
        {
          "output_type": "execute_result",
          "data": {
            "text/plain": [
              "TensorShape([Dimension(2), Dimension(2)])"
            ]
          },
          "metadata": {},
          "execution_count": 28
        }
      ]
    },
    {
      "cell_type": "code",
      "source": [
        "tensor1 = tf.ones([1,2,3]) # tf.ones() creates a shape [1,2,3] tensor full of ones\n",
        "tensor2 = tf.reshape(tensor1, [2,3,1]) # reshape existing data to [2,3,1]\n",
        "tensor3 = tf.reshape(tensor2, [3, -1]) # -1 tells the tensor to calculate the size of the dimension in that place\n",
        "                                       # this will reshape the tensor to [3, 2]\n",
        "tensor1, tensor2, tensor3"
      ],
      "metadata": {
        "colab": {
          "base_uri": "https://localhost:8080/"
        },
        "id": "lbuiyjt7fEO_",
        "outputId": "fca48944-719e-4848-b386-f6b17e6cfd6b"
      },
      "execution_count": 29,
      "outputs": [
        {
          "output_type": "execute_result",
          "data": {
            "text/plain": [
              "(<tf.Tensor 'ones_1:0' shape=(1, 2, 3) dtype=float32>,\n",
              " <tf.Tensor 'Reshape_2:0' shape=(2, 3, 1) dtype=float32>,\n",
              " <tf.Tensor 'Reshape_3:0' shape=(3, 2) dtype=float32>)"
            ]
          },
          "metadata": {},
          "execution_count": 29
        }
      ]
    },
    {
      "cell_type": "markdown",
      "source": [
        "## Types of Tensor\n",
        "In TensorFlow, all the computations pass through one or more tensors. A tf.tensor is an object with three properties:\n",
        "\n",
        "A unique label (name)\n",
        "A dimension (shape)\n",
        "A data type (dtype)\n",
        "Each operation you will do with TensorFlow involves the manipulation of a tensor. There are four main tensor type you can create:\n",
        "\n",
        "- tf.Variable\n",
        "- tf.constant\n",
        "- tf.placeholder\n",
        "- tf.SparseTensor"
      ],
      "metadata": {
        "id": "EC0j4HZBga_A"
      }
    },
    {
      "cell_type": "markdown",
      "source": [
        "## Evaluating Tensors"
      ],
      "metadata": {
        "id": "9nj8SlLogwP2"
      }
    },
    {
      "cell_type": "code",
      "source": [
        "# with tf.Session() as sess: #creates a session using the default graph\n",
        "#   tensor.eval()"
      ],
      "metadata": {
        "id": "WRruHAQqgytA"
      },
      "execution_count": 30,
      "outputs": []
    }
  ]
}