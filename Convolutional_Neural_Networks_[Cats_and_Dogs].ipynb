{
  "nbformat": 4,
  "nbformat_minor": 0,
  "metadata": {
    "colab": {
      "name": "Convolutional Neural Networks [Cats and Dogs].ipynb",
      "provenance": [],
      "authorship_tag": "ABX9TyMhKTUdTXf45iVqomvIayb4",
      "include_colab_link": true
    },
    "kernelspec": {
      "name": "python3",
      "display_name": "Python 3"
    },
    "language_info": {
      "name": "python"
    }
  },
  "cells": [
    {
      "cell_type": "markdown",
      "metadata": {
        "id": "view-in-github",
        "colab_type": "text"
      },
      "source": [
        "<a href=\"https://colab.research.google.com/github/mart-anthony-stark/Machine-Learning-and-Deep-Learning/blob/main/Convolutional_Neural_Networks_%5BCats_and_Dogs%5D.ipynb\" target=\"_parent\"><img src=\"https://colab.research.google.com/assets/colab-badge.svg\" alt=\"Open In Colab\"/></a>"
      ]
    },
    {
      "cell_type": "code",
      "execution_count": 19,
      "metadata": {
        "id": "iONqV5Grq8WH"
      },
      "outputs": [],
      "source": [
        "import tensorflow as tf\n",
        "from tensorflow.keras.models import Sequential\n",
        "from tensorflow.keras.layers import Dense, Dropout, Activation, Flatten, Conv2D, MaxPooling2D\n",
        "import pickle\n",
        "import numpy as np\n",
        "\n",
        "\n",
        "X = pickle.load(open('X.pickle','rb'))\n",
        "y = pickle.load(open('y.pickle','rb'))"
      ]
    },
    {
      "cell_type": "code",
      "source": [
        "X = X / 250.0"
      ],
      "metadata": {
        "id": "jRo4Wk7HtrMD"
      },
      "execution_count": 21,
      "outputs": []
    },
    {
      "cell_type": "code",
      "source": [
        "y = np.array(y)"
      ],
      "metadata": {
        "id": "Um8CUvyHwZ7G"
      },
      "execution_count": 20,
      "outputs": []
    },
    {
      "cell_type": "code",
      "source": [
        "model = Sequential()\n",
        "\n",
        "model.add(Conv2D(64,(3,3), input_shape=X.shape[1:]))\n",
        "model.add(Activation('relu'))\n",
        "model.add(MaxPooling2D(pool_size=(2,2)))\n",
        "\n",
        "model.add(Conv2D(64,(3,3)))\n",
        "model.add(Activation('relu'))\n",
        "model.add(MaxPooling2D(pool_size=(2,2)))\n",
        "\n",
        "model.add(Conv2D(64,(3,3)))\n",
        "model.add(Activation('relu'))\n",
        "model.add(MaxPooling2D(pool_size=(2,2)))\n",
        "\n",
        "model.add(Flatten())\n",
        "model.add(Dense(64))\n",
        "\n",
        "model.add(Dense(1))\n",
        "model.add(Activation(\"sigmoid\"))\n",
        "\n",
        "model.compile(loss=\"binary_crossentropy\", optimizer=\"adam\", metrics=[\"accuracy\"])"
      ],
      "metadata": {
        "id": "uPqZhSkLt_5-"
      },
      "execution_count": 22,
      "outputs": []
    },
    {
      "cell_type": "code",
      "source": [
        "model.fit(X,y, epochs=5,batch_size=5, validation_split=0.1)"
      ],
      "metadata": {
        "colab": {
          "base_uri": "https://localhost:8080/"
        },
        "id": "muYVnKkIvl5G",
        "outputId": "1f29b57a-760e-4fbd-f394-fb9f808b60c8"
      },
      "execution_count": 25,
      "outputs": [
        {
          "output_type": "stream",
          "name": "stdout",
          "text": [
            "Epoch 1/5\n",
            "9/9 [==============================] - 1s 93ms/step - loss: 0.5981 - accuracy: 0.7333 - val_loss: 0.8185 - val_accuracy: 0.4000\n",
            "Epoch 2/5\n",
            "9/9 [==============================] - 1s 90ms/step - loss: 0.5197 - accuracy: 0.7333 - val_loss: 1.0261 - val_accuracy: 0.4000\n",
            "Epoch 3/5\n",
            "9/9 [==============================] - 1s 90ms/step - loss: 0.3944 - accuracy: 0.8889 - val_loss: 1.5825 - val_accuracy: 0.4000\n",
            "Epoch 4/5\n",
            "9/9 [==============================] - 1s 91ms/step - loss: 0.3372 - accuracy: 0.8444 - val_loss: 1.1404 - val_accuracy: 0.6000\n",
            "Epoch 5/5\n",
            "9/9 [==============================] - 1s 94ms/step - loss: 0.2731 - accuracy: 0.9333 - val_loss: 1.5709 - val_accuracy: 0.4000\n"
          ]
        },
        {
          "output_type": "execute_result",
          "data": {
            "text/plain": [
              "<keras.callbacks.History at 0x7f538ddbd690>"
            ]
          },
          "metadata": {},
          "execution_count": 25
        }
      ]
    }
  ]
}