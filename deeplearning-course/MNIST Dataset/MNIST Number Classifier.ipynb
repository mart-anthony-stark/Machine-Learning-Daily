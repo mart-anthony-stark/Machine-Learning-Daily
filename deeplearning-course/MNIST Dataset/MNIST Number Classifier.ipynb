{
 "cells": [
  {
   "cell_type": "markdown",
   "id": "629f2d70",
   "metadata": {},
   "source": [
    "## MNIST Dataset"
   ]
  },
  {
   "cell_type": "code",
   "execution_count": 34,
   "id": "6d6b0d76",
   "metadata": {},
   "outputs": [],
   "source": [
    "import tensorflow as tf\n",
    "import numpy as np\n",
    "import tensorflow_datasets as tfds\n",
    "\n",
    "from sklearn.model_selection import train_test_split"
   ]
  },
  {
   "cell_type": "markdown",
   "id": "67c72999",
   "metadata": {},
   "source": [
    "## Dataset"
   ]
  },
  {
   "cell_type": "code",
   "execution_count": 35,
   "id": "d595542f",
   "metadata": {},
   "outputs": [],
   "source": [
    "mnist_dataset, mnist_info = tfds.load(name=\"mnist\", with_info=True, as_supervised=True)\n",
    "\n",
    "mnist_train, mnist_test = mnist_dataset['train'], mnist_dataset['test']\n",
    "\n",
    "num_validation_samples = 0.1 * mnist_info.splits['train'].num_examples\n",
    "num_validation_samples = tf.cast(num_validation_samples, tf.int64)\n",
    "\n",
    "num_test_samples = mnist_info.splits['test'].num_examples\n",
    "num_test_samples = tf.cast(num_test_samples, tf.int64)"
   ]
  },
  {
   "cell_type": "code",
   "execution_count": 36,
   "id": "4ddcee5c",
   "metadata": {},
   "outputs": [],
   "source": [
    "def scale(image, label):\n",
    "    image = tf.cast(image, tf.float32)\n",
    "    image /= 255.\n",
    "    return image, label"
   ]
  },
  {
   "cell_type": "code",
   "execution_count": 37,
   "id": "eb57743d",
   "metadata": {},
   "outputs": [],
   "source": [
    "scaled_train_and_validation_data = mnist_train.map(scale)\n",
    "\n",
    "test_data = mnist_test.map(scale)"
   ]
  },
  {
   "cell_type": "markdown",
   "id": "fc45b024",
   "metadata": {},
   "source": [
    "## Shuffling dataset"
   ]
  },
  {
   "cell_type": "code",
   "execution_count": 38,
   "id": "2c56c397",
   "metadata": {},
   "outputs": [],
   "source": [
    "BUFFER_SIZE = 10000\n",
    "shuffled_train_and_validation_data = scaled_train_and_validation_data.shuffle(BUFFER_SIZE)\n",
    "validation_data = shuffled_train_and_validation_data.take(num_validation_samples)\n",
    "train_data = shuffled_train_and_validation_data.skip(num_validation_samples)"
   ]
  },
  {
   "cell_type": "code",
   "execution_count": 39,
   "id": "6b8dbe0e",
   "metadata": {},
   "outputs": [],
   "source": [
    "BATCH_SIZE = 100\n",
    "train_data = train_data.batch(BATCH_SIZE)\n",
    "validation_data = validation_data.batch(num_validation_samples)\n",
    "test_data = test_data.batch(num_test_samples)\n",
    "\n",
    "validation_inputs, validation_targets = next(iter(validation_data))"
   ]
  },
  {
   "cell_type": "markdown",
   "id": "f3bd7a43",
   "metadata": {},
   "source": [
    "## Outline the model"
   ]
  },
  {
   "cell_type": "code",
   "execution_count": 42,
   "id": "34c4fabf",
   "metadata": {},
   "outputs": [],
   "source": [
    "input_size = 784\n",
    "output_size= 10\n",
    "hidden_layer_size = 100\n",
    "\n",
    "# fllaten - transforms the tensor into a vector\n",
    "model = tf.keras.Sequential([\n",
    "        # Flatten image into vector\n",
    "        tf.keras.layers.Flatten(input_shape=(28, 28, 1)), # input layer, # 28 * 28 = 784\n",
    "        tf.keras.layers.Dense(hidden_layer_size, activation='relu'), # Dot product\n",
    "        tf.keras.layers.Dense(hidden_layer_size, activation='relu'),\n",
    "        tf.keras.layers.Dense(output_size, activation=\"softmax\")\n",
    "])\n",
    "\n",
    "model.compile(optimizer='adam', loss='sparse_categorical_crossentropy', metrics=[\"accuracy\"])"
   ]
  },
  {
   "cell_type": "markdown",
   "id": "a8ccba87",
   "metadata": {},
   "source": [
    "## Training"
   ]
  },
  {
   "cell_type": "code",
   "execution_count": 44,
   "id": "74819ba1",
   "metadata": {},
   "outputs": [
    {
     "name": "stdout",
     "output_type": "stream",
     "text": [
      "Epoch 1/6\n",
      "540/540 - 8s - loss: 0.0498 - accuracy: 0.9842 - val_loss: 0.0641 - val_accuracy: 0.9828 - 8s/epoch - 15ms/step\n",
      "Epoch 2/6\n",
      "540/540 - 5s - loss: 0.0410 - accuracy: 0.9867 - val_loss: 0.0547 - val_accuracy: 0.9840 - 5s/epoch - 9ms/step\n",
      "Epoch 3/6\n",
      "540/540 - 8s - loss: 0.0351 - accuracy: 0.9891 - val_loss: 0.0479 - val_accuracy: 0.9845 - 8s/epoch - 14ms/step\n",
      "Epoch 4/6\n",
      "540/540 - 7s - loss: 0.0298 - accuracy: 0.9905 - val_loss: 0.0451 - val_accuracy: 0.9868 - 7s/epoch - 14ms/step\n",
      "Epoch 5/6\n",
      "540/540 - 7s - loss: 0.0248 - accuracy: 0.9922 - val_loss: 0.0389 - val_accuracy: 0.9878 - 7s/epoch - 13ms/step\n",
      "Epoch 6/6\n",
      "540/540 - 8s - loss: 0.0236 - accuracy: 0.9927 - val_loss: 0.0336 - val_accuracy: 0.9892 - 8s/epoch - 15ms/step\n"
     ]
    },
    {
     "data": {
      "text/plain": [
       "<keras.callbacks.History at 0x28c098bcc40>"
      ]
     },
     "execution_count": 44,
     "metadata": {},
     "output_type": "execute_result"
    }
   ],
   "source": [
    "NUM_EPOCHS = 6\n",
    "\n",
    "model.fit(train_data, epochs=NUM_EPOCHS, validation_data=(validation_inputs, validation_targets), verbose=2)"
   ]
  },
  {
   "cell_type": "markdown",
   "id": "667903b7",
   "metadata": {},
   "source": [
    "## Test the model"
   ]
  },
  {
   "cell_type": "code",
   "execution_count": 45,
   "id": "e8c6134a",
   "metadata": {},
   "outputs": [
    {
     "name": "stdout",
     "output_type": "stream",
     "text": [
      "1/1 [==============================] - 2s 2s/step - loss: 0.0755 - accuracy: 0.9770\n"
     ]
    }
   ],
   "source": [
    "test_loss, test_accuracy = model.evaluate(test_data)"
   ]
  },
  {
   "cell_type": "code",
   "execution_count": null,
   "id": "b9f03291",
   "metadata": {},
   "outputs": [],
   "source": []
  }
 ],
 "metadata": {
  "kernelspec": {
   "display_name": "Python 3 (ipykernel)",
   "language": "python",
   "name": "python3"
  },
  "language_info": {
   "codemirror_mode": {
    "name": "ipython",
    "version": 3
   },
   "file_extension": ".py",
   "mimetype": "text/x-python",
   "name": "python",
   "nbconvert_exporter": "python",
   "pygments_lexer": "ipython3",
   "version": "3.9.12"
  }
 },
 "nbformat": 4,
 "nbformat_minor": 5
}
