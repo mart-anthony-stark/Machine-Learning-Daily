{
 "cells": [
  {
   "cell_type": "markdown",
   "id": "6944d6d5",
   "metadata": {},
   "source": [
    "# Audio Books Business Case"
   ]
  },
  {
   "cell_type": "code",
   "execution_count": 63,
   "id": "a9f6d6be",
   "metadata": {},
   "outputs": [],
   "source": [
    "import numpy as np\n",
    "from sklearn import preprocessing\n",
    "import matplotlib.pyplot as plt"
   ]
  },
  {
   "cell_type": "markdown",
   "id": "a8e376a3",
   "metadata": {},
   "source": [
    "## Extract Dataset"
   ]
  },
  {
   "cell_type": "code",
   "execution_count": 64,
   "id": "d9587402",
   "metadata": {},
   "outputs": [],
   "source": [
    "raw_csv_data = np.loadtxt(\"Audiobooks_data.csv\", delimiter=\",\")\n",
    "\n",
    "unscaled_inputs_all = raw_csv_data[:,1:-1]\n",
    "targets_all = raw_csv_data[:,-1]"
   ]
  },
  {
   "cell_type": "code",
   "execution_count": 75,
   "id": "6788b4de",
   "metadata": {},
   "outputs": [
    {
     "data": {
      "text/plain": [
       "(14084, 12)"
      ]
     },
     "execution_count": 75,
     "metadata": {},
     "output_type": "execute_result"
    }
   ],
   "source": [
    "raw_csv_data.shape"
   ]
  },
  {
   "cell_type": "markdown",
   "id": "0a4531fd",
   "metadata": {},
   "source": [
    "## Balance the dataset"
   ]
  },
  {
   "cell_type": "code",
   "execution_count": 66,
   "id": "5524d945",
   "metadata": {},
   "outputs": [
    {
     "name": "stdout",
     "output_type": "stream",
     "text": [
      "1:  2237\n",
      "0:  11847\n"
     ]
    }
   ],
   "source": [
    "true_targets = targets_all == 1\n",
    "print(\"1: \", len(targets_all[true_targets]))\n",
    "print(\"0: \", len(targets_all[~true_targets]))"
   ]
  },
  {
   "cell_type": "markdown",
   "id": "627feda3",
   "metadata": {},
   "source": [
    "0 targets > 1 targets\n",
    "\n",
    "We need to delete some zeros in our dataset"
   ]
  },
  {
   "cell_type": "code",
   "execution_count": 67,
   "id": "20dc57b4",
   "metadata": {},
   "outputs": [],
   "source": [
    "num_one_targets = int(np.sum(targets_all))\n",
    "zero_targets_counter = 0\n",
    "indices_to_remove = []\n",
    "\n",
    "for i in range(targets_all.shape[0]):\n",
    "    if targets_all[i] == 0:\n",
    "        zero_targets_counter += 1\n",
    "        if zero_targets_counter > num_one_targets:\n",
    "            indices_to_remove.append(i)\n",
    "            \n",
    "unscaled_inputs_equal_priors = np.delete(unscaled_inputs_all, indices_to_remove, axis=0)\n",
    "targets_equal_priors = np.delete(targets_all, indices_to_remove,axis=0)"
   ]
  },
  {
   "cell_type": "code",
   "execution_count": 78,
   "id": "19de5d7e",
   "metadata": {},
   "outputs": [
    {
     "data": {
      "text/plain": [
       "(2237, 2237)"
      ]
     },
     "execution_count": 78,
     "metadata": {},
     "output_type": "execute_result"
    }
   ],
   "source": [
    "# check if the targets are now balanced\n",
    "len(targets_equal_priors[targets_equal_priors==1]), len(targets_equal_priors[targets_equal_priors!=1])"
   ]
  },
  {
   "cell_type": "code",
   "execution_count": 68,
   "id": "1cc6a252",
   "metadata": {},
   "outputs": [
    {
     "data": {
      "text/plain": [
       "((4474, 10), (4474,))"
      ]
     },
     "execution_count": 68,
     "metadata": {},
     "output_type": "execute_result"
    }
   ],
   "source": [
    "unscaled_inputs_equal_priors.shape, targets_equal_priors.shape"
   ]
  },
  {
   "cell_type": "markdown",
   "id": "22ad596d",
   "metadata": {},
   "source": [
    "## Standardize data"
   ]
  },
  {
   "cell_type": "code",
   "execution_count": 69,
   "id": "2e741786",
   "metadata": {},
   "outputs": [
    {
     "data": {
      "text/plain": [
       "array([[ 1.18956512,  0.36398846,  0.67728889, ..., -0.8635056 ,\n",
       "        -0.20536617, -0.77240946],\n",
       "       [-0.33022754,  1.10843845, -0.08841391, ..., -0.8635056 ,\n",
       "        -0.20536617,  1.16499791],\n",
       "       [-2.50135991, -1.74528653,  0.67728889, ..., -0.8635056 ,\n",
       "         2.23179102,  2.78305242],\n",
       "       ...,\n",
       "       [ 1.18956512,  0.36398846,  0.67728889, ..., -0.20129479,\n",
       "        -0.20536617, -0.62337812],\n",
       "       [ 1.18956512,  0.36398846,  0.27347444, ..., -0.20129479,\n",
       "        -0.20536617,  0.21758442],\n",
       "       [ 1.18956512,  0.36398846,  0.20727535, ..., -0.20129479,\n",
       "        -0.20536617, -0.51692717]])"
      ]
     },
     "execution_count": 69,
     "metadata": {},
     "output_type": "execute_result"
    }
   ],
   "source": [
    "scaled_inputs = preprocessing.scale(unscaled_inputs_equal_priors)\n",
    "scaled_inputs"
   ]
  },
  {
   "cell_type": "markdown",
   "id": "84edeb3d",
   "metadata": {},
   "source": [
    "## Shuffle Data"
   ]
  },
  {
   "cell_type": "code",
   "execution_count": 70,
   "id": "eb1bd456",
   "metadata": {},
   "outputs": [],
   "source": [
    "shuffled_indices = np.arange(scaled_inputs.shape[0])\n",
    "np.random.shuffle(shuffled_indices)\n",
    "\n",
    "shuffled_inputs = scaled_inputs[shuffled_indices]\n",
    "shuffled_targets = targets_equal_priors[shuffled_indices]"
   ]
  },
  {
   "cell_type": "markdown",
   "id": "f6dbf9ad",
   "metadata": {},
   "source": [
    "## Split Dataset Into Train, Validation, Test"
   ]
  },
  {
   "cell_type": "code",
   "execution_count": 71,
   "id": "b1636108",
   "metadata": {},
   "outputs": [],
   "source": [
    "samples_count = shuffled_inputs.shape[0]\n",
    "\n",
    "# 80-10-10 split\n",
    "train_samples_count = int(0.8 * samples_count)\n",
    "validation_samples_count = int(0.1 * samples_count)\n",
    "test_samples_count = samples_count - train_samples_count - validation_samples_count\n",
    "\n",
    "train_inputs = shuffled_inputs[:train_samples_count]\n",
    "train_targets = shuffled_targets[:train_samples_count]\n",
    "\n",
    "validation_inputs = shuffled_inputs[train_samples_count:train_samples_count + validation_samples_count]\n",
    "validation_targets = shuffled_targets[train_samples_count:train_samples_count + validation_samples_count]\n",
    "\n",
    "test_inputs = shuffled_inputs[train_samples_count + validation_samples_count:]\n",
    "test_targets = shuffled_targets[train_samples_count + validation_samples_count:]"
   ]
  },
  {
   "cell_type": "code",
   "execution_count": 72,
   "id": "a314c924",
   "metadata": {},
   "outputs": [
    {
     "data": {
      "text/plain": [
       "((3579, 10), (3579,))"
      ]
     },
     "execution_count": 72,
     "metadata": {},
     "output_type": "execute_result"
    }
   ],
   "source": [
    "train_inputs.shape, train_targets.shape"
   ]
  },
  {
   "cell_type": "code",
   "execution_count": 73,
   "id": "be95adc3",
   "metadata": {},
   "outputs": [
    {
     "data": {
      "text/plain": [
       "((447, 10), (447,))"
      ]
     },
     "execution_count": 73,
     "metadata": {},
     "output_type": "execute_result"
    }
   ],
   "source": [
    "validation_inputs.shape, validation_targets.shape"
   ]
  },
  {
   "cell_type": "code",
   "execution_count": 74,
   "id": "f2660fa5",
   "metadata": {},
   "outputs": [
    {
     "data": {
      "text/plain": [
       "((448, 10), (448,))"
      ]
     },
     "execution_count": 74,
     "metadata": {},
     "output_type": "execute_result"
    }
   ],
   "source": [
    "test_inputs.shape, test_targets.shape"
   ]
  },
  {
   "cell_type": "markdown",
   "id": "e254d8dc",
   "metadata": {},
   "source": [
    "## Save the 3 datasets into .npz"
   ]
  },
  {
   "cell_type": "code",
   "execution_count": 79,
   "id": "29f9bf13",
   "metadata": {},
   "outputs": [],
   "source": [
    "np.savez('Audioboks_data_train', inputs=train_inputs, targets=train_targets)\n",
    "np.savez('Audioboks_data_validation', inputs=validation_inputs, targets=validation_targets)\n",
    "np.savez('Audioboks_data_test', inputs=test_inputs, targets=test_targets)"
   ]
  }
 ],
 "metadata": {
  "kernelspec": {
   "display_name": "Python 3 (ipykernel)",
   "language": "python",
   "name": "python3"
  },
  "language_info": {
   "codemirror_mode": {
    "name": "ipython",
    "version": 3
   },
   "file_extension": ".py",
   "mimetype": "text/x-python",
   "name": "python",
   "nbconvert_exporter": "python",
   "pygments_lexer": "ipython3",
   "version": "3.9.12"
  }
 },
 "nbformat": 4,
 "nbformat_minor": 5
}
