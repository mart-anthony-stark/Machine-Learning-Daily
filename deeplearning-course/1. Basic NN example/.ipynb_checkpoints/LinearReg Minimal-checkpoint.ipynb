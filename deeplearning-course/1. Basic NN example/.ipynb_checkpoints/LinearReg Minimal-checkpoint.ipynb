{
 "cells": [
  {
   "cell_type": "markdown",
   "metadata": {},
   "source": [
    "# Simple Linear Regression. Minimal Example\n",
    "\n",
    "### Elements of the model in supervized learning:\n",
    "- inputs\n",
    "- weights\n",
    "- biases\n",
    "- outputs\n",
    "- targets"
   ]
  },
  {
   "cell_type": "markdown",
   "metadata": {},
   "source": [
    "## Import relevant libraries"
   ]
  },
  {
   "cell_type": "code",
   "execution_count": 1,
   "metadata": {},
   "outputs": [],
   "source": [
    "import numpy as np\n",
    "import matplotlib.pyplot as plt\n",
    "from mpl_toolkits.mplot3d import Axes3D"
   ]
  },
  {
   "cell_type": "markdown",
   "metadata": {},
   "source": [
    "## Generate Random Input Data to train on\n",
    "# 2 variables:\n",
    "f(x,z) = a*x + b*z + c"
   ]
  },
  {
   "cell_type": "code",
   "execution_count": 2,
   "metadata": {},
   "outputs": [
    {
     "name": "stdout",
     "output_type": "stream",
     "text": [
      "(1000, 2) (1000, 1) (1000, 1)\n"
     ]
    }
   ],
   "source": [
    "observations = 1000\n",
    "xs = np.random.uniform(low=-10, high=10, size=(observations,1))\n",
    "zs = np.random.uniform(-10, 10, (observations,1))\n",
    "\n",
    "inputs = np.column_stack((xs,zs))\n",
    "print(inputs.shape, xs.shape, zs.shape)"
   ]
  },
  {
   "cell_type": "markdown",
   "metadata": {},
   "source": [
    "## Create Targets we will aim\n",
    "f(x,z) = 2*x - 3z + 5 + noise\n",
    "\n",
    "Conceptually, the ML algorithm must \"learn\" this function\n",
    "\n",
    "Noise - real data always contain noise. It is never perfect"
   ]
  },
  {
   "cell_type": "code",
   "execution_count": 3,
   "metadata": {},
   "outputs": [
    {
     "data": {
      "text/plain": [
       "(1000, 1)"
      ]
     },
     "execution_count": 3,
     "metadata": {},
     "output_type": "execute_result"
    }
   ],
   "source": [
    "noise = np.random.uniform(-1,1, (observations,1))\n",
    "\n",
    "targets = 2*xs - 3*zs + 5 + noise\n",
    "targets.shape"
   ]
  },
  {
   "cell_type": "markdown",
   "metadata": {},
   "source": [
    "## Plot the training data"
   ]
  },
  {
   "cell_type": "code",
   "execution_count": 4,
   "metadata": {},
   "outputs": [],
   "source": [
    "# targets = targets.reshape(observations,)\n",
    "# fig = plt.figure()\n",
    "# ax = fig.add_subplot(111, projection='3d')\n",
    "# ax.plot(xs,zs,targets)\n",
    "# ax.set_xlabel('xs')\n",
    "# ax.set_ylabel('zs')\n",
    "# ax.set_zlabel('targets')\n",
    "# ax.view_init(azim=100)\n",
    "# plt.show()\n",
    "# targets = targets.reshape(observations,1)"
   ]
  },
  {
   "cell_type": "code",
   "execution_count": 5,
   "metadata": {},
   "outputs": [
    {
     "data": {
      "text/plain": [
       "(1000, 1)"
      ]
     },
     "execution_count": 5,
     "metadata": {},
     "output_type": "execute_result"
    }
   ],
   "source": [
    "targets = targets.reshape(observations, 1)\n",
    "targets.shape"
   ]
  },
  {
   "cell_type": "markdown",
   "metadata": {},
   "source": [
    "## Init variables"
   ]
  },
  {
   "cell_type": "code",
   "execution_count": 6,
   "metadata": {},
   "outputs": [
    {
     "name": "stdout",
     "output_type": "stream",
     "text": [
      "[[-0.01716965]\n",
      " [-0.0522873 ]]\n",
      "[0.08319353]\n"
     ]
    }
   ],
   "source": [
    "init_range = 0.1\n",
    "weights = np.random.uniform(-init_range, init_range, size=(2,1)) # 2-x(inputs) 1-y(output)\n",
    "biases = np.random.uniform(-init_range, init_range, size=1) #scalar\n",
    "\n",
    "print (weights)\n",
    "print (biases)"
   ]
  },
  {
   "cell_type": "markdown",
   "metadata": {},
   "source": [
    "## Set learning rate (ETA value)"
   ]
  },
  {
   "cell_type": "code",
   "execution_count": 11,
   "metadata": {},
   "outputs": [],
   "source": [
    "learning_rate = 0.05"
   ]
  },
  {
   "cell_type": "markdown",
   "metadata": {},
   "source": [
    "## Train the model"
   ]
  },
  {
   "cell_type": "code",
   "execution_count": 12,
   "metadata": {},
   "outputs": [
    {
     "name": "stdout",
     "output_type": "stream",
     "text": [
      "Loss: 0.38076517363719586\n",
      "Loss: 0.36001770903806773\n",
      "Loss: 0.3412901777413216\n",
      "Loss: 0.3243859229204528\n",
      "Loss: 0.30912743387985453\n",
      "Loss: 0.29535448202428755\n",
      "Loss: 0.282922438306784\n",
      "Loss: 0.2717007544865909\n",
      "Loss: 0.2615715922489221\n",
      "Loss: 0.25242858579097904\n",
      "Loss: 0.24417572488022102\n",
      "Loss: 0.23672634665593353\n",
      "Loss: 0.23000222558706304\n",
      "Loss: 0.22393275203000618\n",
      "Loss: 0.21845419076043585\n",
      "Loss: 0.21350901169304595\n",
      "Loss: 0.2090452857611338\n",
      "Loss: 0.20501613961218687\n",
      "Loss: 0.20137926339326162\n",
      "Loss: 0.19809646645742904\n",
      "Loss: 0.19513327632578978\n",
      "Loss: 0.19245857669377697\n",
      "Loss: 0.19004428068046947\n",
      "Loss: 0.18786503588972386\n",
      "Loss: 0.1858979581859896\n",
      "Loss: 0.1841223913891981\n",
      "Loss: 0.18251969036529714\n",
      "Loss: 0.18107302523467222\n",
      "Loss: 0.1797672046424621\n",
      "Loss: 0.17858851623493593\n",
      "Loss: 0.177524582666784\n",
      "Loss: 0.1765642316272616\n",
      "Loss: 0.17569737852033915\n",
      "Loss: 0.17491492056688612\n",
      "Loss: 0.17420864121686389\n",
      "Loss: 0.17357112386776385\n",
      "Loss: 0.17299567398325147\n",
      "Loss: 0.17247624879419168\n",
      "Loss: 0.1720073938438454\n",
      "Loss: 0.17158418571090495\n",
      "Loss: 0.17120218030890447\n",
      "Loss: 0.1708573662191004\n",
      "Loss: 0.17054612256677312\n",
      "Loss: 0.1702651809986107\n",
      "Loss: 0.1700115913619021\n",
      "Loss: 0.16978269072513746\n",
      "Loss: 0.16957607541470396\n",
      "Loss: 0.1693895757740351\n",
      "Loss: 0.16922123338015985\n",
      "Loss: 0.1690692804784062\n",
      "Loss: 0.16893212141930172\n",
      "Loss: 0.16880831590274134\n",
      "Loss: 0.168696563853472\n",
      "Loss: 0.16859569176907016\n",
      "Loss: 0.1685046403970543\n",
      "Loss: 0.1684224536117296\n",
      "Loss: 0.16834826837396263\n",
      "Loss: 0.16828130566845242\n",
      "Loss: 0.16822086232333106\n",
      "Loss: 0.16816630362619328\n",
      "Loss: 0.16811705665901439\n",
      "Loss: 0.16807260428196832\n",
      "Loss: 0.16803247970296883\n",
      "Loss: 0.1679962615759109\n",
      "Loss: 0.16796356957613687\n",
      "Loss: 0.16793406040666725\n",
      "Loss: 0.16790742419325697\n",
      "Loss: 0.1678833812304224\n",
      "Loss: 0.16786167904426855\n",
      "Loss: 0.16784208974127388\n",
      "Loss: 0.16782440761519235\n",
      "Loss: 0.16780844698694286\n",
      "Loss: 0.16779404025480313\n",
      "Loss: 0.16778103613443268\n",
      "Loss: 0.16776929807024363\n",
      "Loss: 0.16775870280143793\n",
      "Loss: 0.16774913906765215\n",
      "Loss: 0.16774050644061805\n",
      "Loss: 0.16773271426957082\n",
      "Loss: 0.16772568072932972\n",
      "Loss: 0.16771933196105676\n",
      "Loss: 0.1677136012966684\n",
      "Loss: 0.16770842855875764\n",
      "Loss: 0.16770375942867422\n",
      "Loss: 0.16769954487612743\n",
      "Loss: 0.16769574064432147\n",
      "Loss: 0.16769230678521704\n",
      "Loss: 0.16768920724003947\n",
      "Loss: 0.16768640946062685\n",
      "Loss: 0.16768388406764395\n",
      "Loss: 0.16768160454207118\n",
      "Loss: 0.1676795469467298\n",
      "Loss: 0.16767768967491856\n",
      "Loss: 0.16767601322352368\n",
      "Loss: 0.16767449998821646\n",
      "Loss: 0.16767313407859205\n",
      "Loss: 0.16767190115130517\n",
      "Loss: 0.1676707882594509\n",
      "Loss: 0.16766978371660984\n",
      "Loss: 0.16766887697413035\n"
     ]
    }
   ],
   "source": [
    "for i in range(100):\n",
    "    # y= xw + b\n",
    "    outputs = np.dot(inputs, weights) + biases\n",
    "    \n",
    "    # The deltas are the differences between the outputs and the targets\n",
    "    # Note that deltas here is a vector 1000 x 1\n",
    "    deltas = outputs - targets\n",
    "\n",
    "    # L2 norm function\n",
    "    loss = np.sum(deltas ** 2) / 2 / observations\n",
    "\n",
    "    print(\"Loss:\", loss)\n",
    "\n",
    "    deltas_scaled = deltas / observations\n",
    "\n",
    "    # adjust the weights and biases through gradient descent\n",
    "    weights = weights - learning_rate * np.dot(inputs.T, deltas_scaled)\n",
    "    biases = biases - learning_rate * np.sum(deltas_scaled)"
   ]
  },
  {
   "cell_type": "markdown",
   "metadata": {},
   "source": [
    "### Print weights and biases and see if we have worked correctly."
   ]
  },
  {
   "cell_type": "code",
   "execution_count": 13,
   "metadata": {},
   "outputs": [
    {
     "name": "stdout",
     "output_type": "stream",
     "text": [
      "[[ 1.99531192]\n",
      " [-2.99747461]] [4.97863563]\n"
     ]
    }
   ],
   "source": [
    "print(weights, biases)"
   ]
  },
  {
   "cell_type": "markdown",
   "metadata": {},
   "source": [
    "### Plot last outputs vs targets\n",
    "Since they are the last ones at the end of the training, they represent the final model accuracy. <br/>\n",
    "The closer this plot is to a 45 degree line, the closer target and output values are."
   ]
  },
  {
   "cell_type": "code",
   "execution_count": 14,
   "metadata": {},
   "outputs": [
    {
     "data": {
      "image/png": "[encoded data removed]",
      "text/plain": [
       "<Figure size 432x288 with 1 Axes>"
      ]
     },
     "metadata": {
      "needs_background": "light"
     },
     "output_type": "display_data"
    }
   ],
   "source": [
    "plt.plot(outputs, targets)\n",
    "plt.xlabel(\"Outputs\")\n",
    "plt.ylabel(\"Targets\")\n",
    "plt.show()"
   ]
  }
 ],
 "metadata": {
  "kernelspec": {
   "display_name": "Python 3 (ipykernel)",
   "language": "python",
   "name": "python3"
  },
  "language_info": {
   "codemirror_mode": {
    "name": "ipython",
    "version": 3
   },
   "file_extension": ".py",
   "mimetype": "text/x-python",
   "name": "python",
   "nbconvert_exporter": "python",
   "pygments_lexer": "ipython3",
   "version": "3.9.12"
  },
  "vscode": {
   "interpreter": {
    "hash": "a71a9e4fb054fff428071484f7faa898cb9ecb31a518fe88e3463da9af879578"
   }
  }
 },
 "nbformat": 4,
 "nbformat_minor": 2
}
